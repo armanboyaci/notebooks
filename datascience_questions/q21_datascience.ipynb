{
  "nbformat": 4,
  "nbformat_minor": 0,
  "metadata": {
    "colab": {
      "provenance": [],
      "authorship_tag": "ABX9TyOimXL4JYUI0l3pG6/AtHZU",
      "include_colab_link": true
    },
    "kernelspec": {
      "name": "python3",
      "display_name": "Python 3"
    },
    "language_info": {
      "name": "python"
    }
  },
  "cells": [
    {
      "cell_type": "markdown",
      "metadata": {
        "id": "view-in-github",
        "colab_type": "text"
      },
      "source": [
        "<a href=\"https://colab.research.google.com/github/armanboyaci/notebooks/blob/master/datascience_questions/q21_datascience.ipynb\" target=\"_parent\"><img src=\"https://colab.research.google.com/assets/colab-badge.svg\" alt=\"Open In Colab\"/></a>"
      ]
    },
    {
      "cell_type": "markdown",
      "source": [
        "> ### There are two games involving dice that you can play.\n",
        "\n",
        "> ### In the first game, you roll two die at once and get the dollar amount equivalent to the product of the rolls.\n",
        "\n",
        "> ### In the second game, you roll one die and get the dollar amount equivalent to the square of that value.\n",
        "\n",
        "> ### Which has the higher expected value and why?"
      ],
      "metadata": {
        "id": "U2TiOTAii7uP"
      }
    },
    {
      "cell_type": "markdown",
      "source": [
        "$\\large \\sum_{i=1}^6 \\frac{1}{6} i^2$\n",
        "\n",
        "$\\large \\sum_{i=1}^6 \\sum_{j=1}^6 \\frac{1}{6}\\frac{1}{6} ij $"
      ],
      "metadata": {
        "id": "TVxvTquFjQeb"
      }
    },
    {
      "cell_type": "markdown",
      "source": [
        "The formula for sum of first n squares:\n",
        "$\\large 1^2 + 2^2 \\ldots n^2 = \\frac{n(n+1)(2n+1)}{6}$\n",
        "\n",
        "$\\large \\frac{1}{6} \\frac{6\\times7\\times13}{6} > \\frac{1}{6}\\frac{1}{6}\\frac{6×7}{6}\\frac{6×7}{6}$\n",
        "\n",
        "$ \\large \\frac{13}{6} > \\frac{7}{4} $"
      ],
      "metadata": {
        "id": "o_uBk1gYmYlg"
      }
    },
    {
      "cell_type": "code",
      "source": [
        "import numpy as np\n",
        "from collections import Counter"
      ],
      "metadata": {
        "id": "Lj3h-klCmrUe"
      },
      "execution_count": 38,
      "outputs": []
    },
    {
      "cell_type": "code",
      "source": [
        "game1 = np.random.choice(range(1,7), size=100_000)"
      ],
      "metadata": {
        "id": "XMvHW8sqj2LP"
      },
      "execution_count": 27,
      "outputs": []
    },
    {
      "cell_type": "code",
      "source": [
        "Counter(game1)"
      ],
      "metadata": {
        "colab": {
          "base_uri": "https://localhost:8080/"
        },
        "id": "nF1Galu_j8WC",
        "outputId": "32fbd7bb-9dd8-472a-dabe-02a875cd285e"
      },
      "execution_count": 28,
      "outputs": [
        {
          "output_type": "execute_result",
          "data": {
            "text/plain": [
              "Counter({2: 16722, 4: 16565, 6: 16715, 5: 16555, 3: 16717, 1: 16726})"
            ]
          },
          "metadata": {},
          "execution_count": 28
        }
      ]
    },
    {
      "cell_type": "code",
      "source": [
        "np.mean([d**2 for d in game1])"
      ],
      "metadata": {
        "colab": {
          "base_uri": "https://localhost:8080/"
        },
        "id": "8X78l8qakEcZ",
        "outputId": "023ea678-2bee-48d3-f7cd-6550b93783e8"
      },
      "execution_count": 29,
      "outputs": [
        {
          "output_type": "execute_result",
          "data": {
            "text/plain": [
              "15.14722"
            ]
          },
          "metadata": {},
          "execution_count": 29
        }
      ]
    },
    {
      "cell_type": "code",
      "source": [
        "7*13/6"
      ],
      "metadata": {
        "colab": {
          "base_uri": "https://localhost:8080/"
        },
        "id": "L8j-4IiskTDp",
        "outputId": "7a6f9c0e-1e67-4083-9194-b18e0f108d10"
      },
      "execution_count": 30,
      "outputs": [
        {
          "output_type": "execute_result",
          "data": {
            "text/plain": [
              "15.166666666666666"
            ]
          },
          "metadata": {},
          "execution_count": 30
        }
      ]
    },
    {
      "cell_type": "code",
      "source": [
        "np.mean([i**2 for i in range(1,7)])"
      ],
      "metadata": {
        "colab": {
          "base_uri": "https://localhost:8080/"
        },
        "id": "W0xnFdH4lCoV",
        "outputId": "266f9da7-0426-466f-fc88-8d60404aff13"
      },
      "execution_count": 36,
      "outputs": [
        {
          "output_type": "execute_result",
          "data": {
            "text/plain": [
              "15.166666666666666"
            ]
          },
          "metadata": {},
          "execution_count": 36
        }
      ]
    },
    {
      "cell_type": "code",
      "source": [
        "np.mean([i*j for j in range(1,7) for i in range(1,7)])"
      ],
      "metadata": {
        "colab": {
          "base_uri": "https://localhost:8080/"
        },
        "id": "16xZOFjZlZZJ",
        "outputId": "6023ef2d-9328-4bb3-be3e-84dcebf26972"
      },
      "execution_count": 37,
      "outputs": [
        {
          "output_type": "execute_result",
          "data": {
            "text/plain": [
              "12.25"
            ]
          },
          "metadata": {},
          "execution_count": 37
        }
      ]
    },
    {
      "cell_type": "code",
      "source": [],
      "metadata": {
        "id": "qn9Q4hi-lsOZ"
      },
      "execution_count": null,
      "outputs": []
    }
  ]
}