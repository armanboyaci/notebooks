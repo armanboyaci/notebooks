{
 "cells": [
  {
   "cell_type": "markdown",
   "metadata": {},
   "source": [
    "# Question 6\n",
    "\n",
    "Assume you are given the below tables for trades and users.\n",
    "> Write a query to list the top 3 cities which had the highest number of completed orders.\n",
    "\n",
    "##### trades\n",
    "| column_name  | type  | \n",
    "|---|---|\n",
    "| order_id  | integer   |\n",
    "| user_id   | integer   |\n",
    "| symbol    | string (e.g. \"NLFX\")  |\n",
    "| price     | float     | \n",
    "| quantity  | integer   |\n",
    "| side      | string (\"buy\", \"sell\") |\n",
    "| status    | string (\"complete\", \"cancelled\") |\n",
    "| timestamp | datetime  |\n",
    "\n",
    "##### users\n",
    "| column_name | type |\n",
    "|---|---|\n",
    "| user_id\t| integer |\n",
    "| city\t| string |\n",
    "| email\t| string | \n",
    "| signup_date |\tdatetime |"
   ]
  },
  {
   "cell_type": "code",
   "execution_count": null,
   "metadata": {
    "vscode": {
     "languageId": "sql"
    }
   },
   "outputs": [],
   "source": [
    "SELECT u.city, COUNT(t.order_id) AS completed_orders   -- (1) What you want to return: u.city and a count of completed orders\n",
    "FROM trades t                                          -- (2) The main source of the data: trades table (aliased as t)\n",
    "JOIN users u ON t.user_id = u.user_id                  -- (3) Join the users table (aliased as u) on user_id\n",
    "WHERE t.status = 'complete'                            -- (4) Filter to only completed orders\n",
    "GROUP BY u.city                                        -- (5) Group by city\n",
    "ORDER BY completed_orders DESC                         -- (6) Sort by the count of completed orders in descending order\n",
    "LIMIT 3;                                               -- (7) Return only the top 3 results"
   ]
  }
 ],
 "metadata": {
  "kernelspec": {
   "display_name": ".venv",
   "language": "python",
   "name": "python3"
  },
  "language_info": {
   "codemirror_mode": {
    "name": "ipython",
    "version": 3
   },
   "file_extension": ".py",
   "mimetype": "text/x-python",
   "name": "python",
   "nbconvert_exporter": "python",
   "pygments_lexer": "ipython3",
   "version": "3.10.6"
  }
 },
 "nbformat": 4,
 "nbformat_minor": 2
}
