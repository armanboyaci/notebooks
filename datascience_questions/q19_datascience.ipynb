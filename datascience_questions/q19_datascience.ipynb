{
  "nbformat": 4,
  "nbformat_minor": 0,
  "metadata": {
    "colab": {
      "provenance": [],
      "authorship_tag": "ABX9TyMW7UyEapCPTuRrwDnqZiGd",
      "include_colab_link": true
    },
    "kernelspec": {
      "name": "python3",
      "display_name": "Python 3"
    },
    "language_info": {
      "name": "python"
    }
  },
  "cells": [
    {
      "cell_type": "markdown",
      "metadata": {
        "id": "view-in-github",
        "colab_type": "text"
      },
      "source": [
        "<a href=\"https://colab.research.google.com/github/armanboyaci/notebooks/blob/master/datascience_questions/q19_datascience.ipynb\" target=\"_parent\"><img src=\"https://colab.research.google.com/assets/colab-badge.svg\" alt=\"Open In Colab\"/></a>"
      ]
    },
    {
      "cell_type": "markdown",
      "source": [
        "> ## What is the expected number of coin flips needed to get two consecutive heads?"
      ],
      "metadata": {
        "id": "WX_x2Gh05YTC"
      }
    },
    {
      "cell_type": "code",
      "execution_count": 67,
      "metadata": {
        "id": "95ew3RLfy-dT"
      },
      "outputs": [],
      "source": [
        "import numpy as np"
      ]
    },
    {
      "cell_type": "code",
      "source": [
        "T = (np.array([\n",
        "    [1/2, 1/2, 0. ],\n",
        "    [1/2, 0,   1/2],\n",
        "    [0,   0,   0. ]\n",
        "]))"
      ],
      "metadata": {
        "id": "wxuHou5izHYE"
      },
      "execution_count": 68,
      "outputs": []
    },
    {
      "cell_type": "code",
      "source": [
        "s = np.array([1, 0, 0])\n",
        "expectation = 0\n",
        "\n",
        "for i in range(1, 100):\n",
        "  s = np.matmul(s, T)\n",
        "  expectation += i*s[-1]"
      ],
      "metadata": {
        "id": "k0WzR95c0GiC"
      },
      "execution_count": 69,
      "outputs": []
    },
    {
      "cell_type": "code",
      "source": [
        "np.round(expectation, 2)"
      ],
      "metadata": {
        "colab": {
          "base_uri": "https://localhost:8080/"
        },
        "id": "Ke3CdHyq0U9k",
        "outputId": "d7857a54-9ba6-4023-8a28-2df0d92832f1"
      },
      "execution_count": 70,
      "outputs": [
        {
          "output_type": "execute_result",
          "data": {
            "text/plain": [
              "6.0"
            ]
          },
          "metadata": {},
          "execution_count": 70
        }
      ]
    },
    {
      "cell_type": "code",
      "source": [],
      "metadata": {
        "id": "zJzFj2cn3uVc"
      },
      "execution_count": null,
      "outputs": []
    }
  ]
}