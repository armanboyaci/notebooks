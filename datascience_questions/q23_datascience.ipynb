{
  "nbformat": 4,
  "nbformat_minor": 0,
  "metadata": {
    "colab": {
      "provenance": [],
      "authorship_tag": "ABX9TyOWnu9mwjGRbR3maL+7BmH8",
      "include_colab_link": true
    },
    "kernelspec": {
      "name": "python3",
      "display_name": "Python 3"
    },
    "language_info": {
      "name": "python"
    }
  },
  "cells": [
    {
      "cell_type": "markdown",
      "metadata": {
        "id": "view-in-github",
        "colab_type": "text"
      },
      "source": [
        "<a href=\"https://colab.research.google.com/github/armanboyaci/notebooks/blob/master/datascience_questions/q23_datascience.ipynb\" target=\"_parent\"><img src=\"https://colab.research.google.com/assets/colab-badge.svg\" alt=\"Open In Colab\"/></a>"
      ]
    },
    {
      "cell_type": "markdown",
      "source": [
        "Question 23: Write a program to generate the partitions for a number n. A partition for n is a list of positive integers that sum up to n. For example: if n = 4, we want to return the following partitions: [1,1,1,1], [1,1,2], [2,2], [1,3], and [4]. Note that a partition [1,3] is the same as [3,1] so only the former is included."
      ],
      "metadata": {
        "id": "FL5JSCwmeuEQ"
      }
    },
    {
      "cell_type": "code",
      "source": [
        "X = {1: {(1,)},\n",
        "     2: {(1,1), (2,)}\n",
        "     }\n",
        "\n",
        "for n in range(3,10):\n",
        "  partitions_new = set()\n",
        "  for i, partitions in X.items():\n",
        "    diff = n-i\n",
        "    for partition in partitions:\n",
        "      partition_new = partition + (diff, )\n",
        "      partitions_new.add(partition_new)\n",
        "    partitions_new.add((n, ))\n",
        "    partitions_new = {tuple(sorted(partition)) for partition in partitions_new}\n",
        "  X[n] = partitions_new"
      ],
      "metadata": {
        "id": "zftI7OMsewzr"
      },
      "execution_count": 115,
      "outputs": []
    },
    {
      "cell_type": "code",
      "source": [
        "X[9]"
      ],
      "metadata": {
        "colab": {
          "base_uri": "https://localhost:8080/"
        },
        "id": "oCLeCLPUfV2q",
        "outputId": "1533cc04-7af7-4327-d711-6055c4259902"
      },
      "execution_count": 117,
      "outputs": [
        {
          "output_type": "execute_result",
          "data": {
            "text/plain": [
              "{(1, 1, 1, 1, 1, 1, 1, 1, 1),\n",
              " (1, 1, 1, 1, 1, 1, 1, 2),\n",
              " (1, 1, 1, 1, 1, 1, 3),\n",
              " (1, 1, 1, 1, 1, 2, 2),\n",
              " (1, 1, 1, 1, 1, 4),\n",
              " (1, 1, 1, 1, 2, 3),\n",
              " (1, 1, 1, 1, 5),\n",
              " (1, 1, 1, 2, 2, 2),\n",
              " (1, 1, 1, 2, 4),\n",
              " (1, 1, 1, 3, 3),\n",
              " (1, 1, 1, 6),\n",
              " (1, 1, 2, 2, 3),\n",
              " (1, 1, 2, 5),\n",
              " (1, 1, 3, 4),\n",
              " (1, 1, 7),\n",
              " (1, 2, 2, 2, 2),\n",
              " (1, 2, 2, 4),\n",
              " (1, 2, 3, 3),\n",
              " (1, 2, 6),\n",
              " (1, 3, 5),\n",
              " (1, 4, 4),\n",
              " (1, 8),\n",
              " (2, 2, 2, 3),\n",
              " (2, 2, 5),\n",
              " (2, 3, 4),\n",
              " (2, 7),\n",
              " (3, 3, 3),\n",
              " (3, 6),\n",
              " (4, 5),\n",
              " (9,)}"
            ]
          },
          "metadata": {},
          "execution_count": 117
        }
      ]
    },
    {
      "cell_type": "code",
      "source": [],
      "metadata": {
        "id": "eOli_5LThr_k"
      },
      "execution_count": null,
      "outputs": []
    }
  ]
}