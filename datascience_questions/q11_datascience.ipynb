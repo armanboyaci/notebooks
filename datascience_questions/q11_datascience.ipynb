{
  "nbformat": 4,
  "nbformat_minor": 0,
  "metadata": {
    "colab": {
      "provenance": [],
      "authorship_tag": "ABX9TyPR3eY703tbYP6ECjUMtQHo",
      "include_colab_link": true
    },
    "kernelspec": {
      "name": "python3",
      "display_name": "Python 3"
    },
    "language_info": {
      "name": "python"
    }
  },
  "cells": [
    {
      "cell_type": "markdown",
      "metadata": {
        "id": "view-in-github",
        "colab_type": "text"
      },
      "source": [
        "<a href=\"https://colab.research.google.com/github/armanboyaci/notebooks/blob/master/datascience_questions/q11_datascience.ipynb\" target=\"_parent\"><img src=\"https://colab.research.google.com/assets/colab-badge.svg\" alt=\"Open In Colab\"/></a>"
      ]
    },
    {
      "cell_type": "code",
      "execution_count": 1,
      "metadata": {
        "id": "9xKr9DenTFli"
      },
      "outputs": [],
      "source": [
        "n = 9"
      ]
    },
    {
      "cell_type": "code",
      "source": [
        "accepted = []\n",
        "for i in range(1, n+1):\n",
        "  if i == n:\n",
        "    print(\"accept\", [i])\n",
        "    accepted.append([i])\n",
        "    break\n",
        "  sum = i\n",
        "  for j in range(i+1, n+1):\n",
        "    print(i,j,sum)\n",
        "    if sum + j > n:\n",
        "      print(\"break\")\n",
        "      break\n",
        "    elif sum + j < n:\n",
        "      sum = sum + j\n",
        "    elif sum + j == n:\n",
        "      print(\"accept\", list(range(i,j+1)))\n",
        "      accepted.append(list(range(i,j+1)))\n",
        "      break\n",
        "    else:\n",
        "      break"
      ],
      "metadata": {
        "colab": {
          "base_uri": "https://localhost:8080/"
        },
        "id": "ESqoQ5kdTQCS",
        "outputId": "7af85c5c-367f-44f3-bb88-949689efaa9a"
      },
      "execution_count": 31,
      "outputs": [
        {
          "output_type": "stream",
          "name": "stdout",
          "text": [
            "1 2 1\n",
            "1 3 3\n",
            "1 4 6\n",
            "break\n",
            "2 3 2\n",
            "2 4 5\n",
            "accept [2, 3, 4]\n",
            "3 4 3\n",
            "3 5 7\n",
            "break\n",
            "4 5 4\n",
            "accept [4, 5]\n",
            "5 6 5\n",
            "break\n",
            "6 7 6\n",
            "break\n",
            "7 8 7\n",
            "break\n",
            "8 9 8\n",
            "break\n",
            "accept [9]\n"
          ]
        }
      ]
    },
    {
      "cell_type": "code",
      "source": [
        "accepted"
      ],
      "metadata": {
        "colab": {
          "base_uri": "https://localhost:8080/"
        },
        "id": "T64U_oe_TioC",
        "outputId": "01b59065-83c9-40ec-82b0-ff0b97b3f0a2"
      },
      "execution_count": 32,
      "outputs": [
        {
          "output_type": "execute_result",
          "data": {
            "text/plain": [
              "[[2, 3, 4], [4, 5], [9]]"
            ]
          },
          "metadata": {},
          "execution_count": 32
        }
      ]
    },
    {
      "cell_type": "code",
      "source": [],
      "metadata": {
        "id": "QSb64SWXUEm5"
      },
      "execution_count": null,
      "outputs": []
    }
  ]
}