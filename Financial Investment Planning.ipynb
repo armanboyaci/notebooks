{
 "cells": [
  {
   "cell_type": "markdown",
   "metadata": {},
   "source": [
    "# Financial Investment Planning\n",
    "\n",
    "## Introduction\n",
    "\n",
    "A financial strategy produces orders. These orders are transmitted to a broker. The broker checks the validity of the order and sends each valid order to the market and sends back a transaction. Every time we buy some shares the broker opens a position with the buy price. If we sell some shares this should be related to a position in order to calculate the profit. Therefore the position information is important mainly in order to calculate profit. We call a buy/sell matching a trade. The sum of all positions are called the portfolio. \n",
    "\n",
    "<img src=\"https://docs.google.com/drawings/d/1XKseqFtXRjTvju0UYBn6F29NqVp5zTGbdUZouDNpa8w/pub?w=1238&amp;h=402\">\n",
    "\n",
    "#### Assumptions for this notebook\n",
    "\n",
    "+ no user account information\n",
    "+ stock market (consisting of 23 symbols),\n",
    "+ only market orders,\n",
    "+ no short positions, \n",
    "+ the price is determined by the historical *daily* candle data."
   ]
  },
  {
   "cell_type": "markdown",
   "metadata": {},
   "source": [
    "# TableOfContents\n",
    "+ [Order and Transaction](#OrderAndTransaction)\n",
    "+ [Portfolio](#Portfolio)\n",
    "+ [Dividend and Split](#DividendAndSplit)\n",
    "+ [Rebalance](#Rebalance)\n",
    "+ [Backtest](#Backtest)\n",
    "+ [Index Calculation](#IndexCalculation)\n",
    "+ [Risk Calculation](#RiskCalculation)\n",
    "+ [Visualization](#Visualization)\n",
    "+ [To Do](#ToDo)"
   ]
  },
  {
   "cell_type": "markdown",
   "metadata": {},
   "source": [
    "## Symbol, the price of a symbol\n",
    "*Symbols* are the financial instrument that we can invest in. At a given point, there is no known price but the price depends on the buyers' and sellers' bid prices. The price of a symbol is **calculated** by the market for a given order. Therefore the price of a symbol may change constantly. Usually symbols have *candle data* (5min, 1day) etc.. storing open, close, low and high values."
   ]
  },
  {
   "cell_type": "code",
   "execution_count": 2,
   "metadata": {
    "collapsed": false
   },
   "outputs": [
    {
     "name": "stderr",
     "output_type": "stream",
     "text": [
      "/home/can/anaconda2/lib/python2.7/site-packages/pandas/computation/__init__.py:19: UserWarning: The installed version of numexpr 2.4.4 is not supported in pandas and will be not be used\n",
      "\n",
      "  UserWarning)\n"
     ]
    }
   ],
   "source": [
    "import pandas as pd\n",
    "import pandas_datareader.data as web\n",
    "from pandas.tseries.offsets import BDay\n",
    "import datetime\n",
    "import warnings\n",
    "from copy import deepcopy\n",
    "import numpy as np\n",
    "%matplotlib inline\n",
    "from scipy.stats import linregress\n",
    "import matplotlib.pyplot as plt\n",
    "from math import sqrt\n",
    "import scipy.stats as st"
   ]
  },
  {
   "cell_type": "code",
   "execution_count": 3,
   "metadata": {
    "collapsed": false
   },
   "outputs": [],
   "source": [
    "symbols = ['AEFES.IS', 'AKENR.IS', 'AKSA.IS', 'AKBNK.IS', 'GARAN.IS',\n",
    "           'MGROS.IS', 'THYAO.IS', 'TRKCM.IS', 'ZOREN.IS', 'XU100.IS', \n",
    "           'ALARK.IS', 'CIMSA.IS',  'HALKB.IS', 'TKFEN.IS', 'FROTO.IS', \n",
    "           'DOAS.IS', 'KARSN.IS', 'TMSN.IS', 'YKBNK.IS', 'VAKBN.IS', \n",
    "           'ULKER.IS', 'TCELL.IS', 'SISE.IS', 'EREGL.IS', 'PETKM.IS', \n",
    "           'BJKAS.IS', 'AFYON.IS', 'KOZAL.IS', 'GOODY.IS', 'VAKFN.IS']\n",
    "\n",
    "start = datetime.datetime(2015,1,1)\n",
    "end = datetime.datetime.now()"
   ]
  },
  {
   "cell_type": "code",
   "execution_count": 4,
   "metadata": {
    "collapsed": false
   },
   "outputs": [],
   "source": [
    "prices = pd.DataFrame()\n",
    "for symbol in symbols:\n",
    "    f = web.DataReader(symbol, 'yahoo', start, end)\n",
    "    f['symbol'] = symbol\n",
    "    prices = pd.concat([prices, f])\n",
    "prices;"
   ]
  },
  {
   "cell_type": "markdown",
   "metadata": {},
   "source": [
    "How do I calculae the adjusted closing price?\n",
    "http://www.investopedia.com/ask/answers/06/adjustedclosingprice.asp\n",
    "\n",
    "- **cash dividend (d)**:  closing_price - d\n",
    "- **share dividend (x:y)**: closing_price* (y+x)/x\n",
    "- **share split (x:y)**: closing_price * y/x"
   ]
  },
  {
   "cell_type": "code",
   "execution_count": 5,
   "metadata": {
    "collapsed": false
   },
   "outputs": [],
   "source": [
    "prices = prices.pivot(columns=\"symbol\", values=\"Adj Close\")"
   ]
  },
  {
   "cell_type": "code",
   "execution_count": 6,
   "metadata": {
    "collapsed": false
   },
   "outputs": [
    {
     "data": {
      "text/html": [
       "<div>\n",
       "<table border=\"1\" class=\"dataframe\">\n",
       "  <thead>\n",
       "    <tr style=\"text-align: right;\">\n",
       "      <th>symbol</th>\n",
       "      <th>AEFES.IS</th>\n",
       "      <th>AFYON.IS</th>\n",
       "      <th>AKBNK.IS</th>\n",
       "      <th>AKENR.IS</th>\n",
       "      <th>AKSA.IS</th>\n",
       "      <th>ALARK.IS</th>\n",
       "      <th>BJKAS.IS</th>\n",
       "      <th>CIMSA.IS</th>\n",
       "      <th>DOAS.IS</th>\n",
       "      <th>EREGL.IS</th>\n",
       "      <th>...</th>\n",
       "      <th>THYAO.IS</th>\n",
       "      <th>TKFEN.IS</th>\n",
       "      <th>TMSN.IS</th>\n",
       "      <th>TRKCM.IS</th>\n",
       "      <th>ULKER.IS</th>\n",
       "      <th>VAKBN.IS</th>\n",
       "      <th>VAKFN.IS</th>\n",
       "      <th>XU100.IS</th>\n",
       "      <th>YKBNK.IS</th>\n",
       "      <th>ZOREN.IS</th>\n",
       "    </tr>\n",
       "    <tr>\n",
       "      <th>Date</th>\n",
       "      <th></th>\n",
       "      <th></th>\n",
       "      <th></th>\n",
       "      <th></th>\n",
       "      <th></th>\n",
       "      <th></th>\n",
       "      <th></th>\n",
       "      <th></th>\n",
       "      <th></th>\n",
       "      <th></th>\n",
       "      <th></th>\n",
       "      <th></th>\n",
       "      <th></th>\n",
       "      <th></th>\n",
       "      <th></th>\n",
       "      <th></th>\n",
       "      <th></th>\n",
       "      <th></th>\n",
       "      <th></th>\n",
       "      <th></th>\n",
       "      <th></th>\n",
       "    </tr>\n",
       "  </thead>\n",
       "  <tbody>\n",
       "    <tr>\n",
       "      <th>2016-09-26</th>\n",
       "      <td>18.70</td>\n",
       "      <td>5.69</td>\n",
       "      <td>7.96</td>\n",
       "      <td>0.94</td>\n",
       "      <td>8.20</td>\n",
       "      <td>3.44</td>\n",
       "      <td>4.58</td>\n",
       "      <td>14.92</td>\n",
       "      <td>9.93</td>\n",
       "      <td>4.28</td>\n",
       "      <td>...</td>\n",
       "      <td>5.12</td>\n",
       "      <td>7.37</td>\n",
       "      <td>7.51</td>\n",
       "      <td>2.44</td>\n",
       "      <td>21.44</td>\n",
       "      <td>4.43</td>\n",
       "      <td>1.17</td>\n",
       "      <td>76725.7031</td>\n",
       "      <td>3.66</td>\n",
       "      <td>1.57</td>\n",
       "    </tr>\n",
       "    <tr>\n",
       "      <th>2016-09-27</th>\n",
       "      <td>18.69</td>\n",
       "      <td>5.72</td>\n",
       "      <td>8.13</td>\n",
       "      <td>0.95</td>\n",
       "      <td>8.20</td>\n",
       "      <td>3.45</td>\n",
       "      <td>4.72</td>\n",
       "      <td>14.98</td>\n",
       "      <td>9.92</td>\n",
       "      <td>4.24</td>\n",
       "      <td>...</td>\n",
       "      <td>5.13</td>\n",
       "      <td>7.53</td>\n",
       "      <td>7.51</td>\n",
       "      <td>2.43</td>\n",
       "      <td>21.08</td>\n",
       "      <td>4.54</td>\n",
       "      <td>1.17</td>\n",
       "      <td>77160.7031</td>\n",
       "      <td>3.70</td>\n",
       "      <td>1.58</td>\n",
       "    </tr>\n",
       "    <tr>\n",
       "      <th>2016-09-28</th>\n",
       "      <td>18.49</td>\n",
       "      <td>5.85</td>\n",
       "      <td>8.31</td>\n",
       "      <td>0.95</td>\n",
       "      <td>8.27</td>\n",
       "      <td>3.52</td>\n",
       "      <td>4.76</td>\n",
       "      <td>15.08</td>\n",
       "      <td>9.97</td>\n",
       "      <td>4.20</td>\n",
       "      <td>...</td>\n",
       "      <td>5.16</td>\n",
       "      <td>7.49</td>\n",
       "      <td>7.52</td>\n",
       "      <td>2.45</td>\n",
       "      <td>21.24</td>\n",
       "      <td>4.70</td>\n",
       "      <td>1.18</td>\n",
       "      <td>77677.7969</td>\n",
       "      <td>3.76</td>\n",
       "      <td>1.60</td>\n",
       "    </tr>\n",
       "    <tr>\n",
       "      <th>2016-09-29</th>\n",
       "      <td>18.40</td>\n",
       "      <td>6.19</td>\n",
       "      <td>8.13</td>\n",
       "      <td>0.96</td>\n",
       "      <td>8.20</td>\n",
       "      <td>3.59</td>\n",
       "      <td>4.41</td>\n",
       "      <td>15.07</td>\n",
       "      <td>9.93</td>\n",
       "      <td>4.19</td>\n",
       "      <td>...</td>\n",
       "      <td>5.16</td>\n",
       "      <td>7.70</td>\n",
       "      <td>7.56</td>\n",
       "      <td>2.48</td>\n",
       "      <td>21.22</td>\n",
       "      <td>4.62</td>\n",
       "      <td>1.17</td>\n",
       "      <td>77076.7969</td>\n",
       "      <td>3.70</td>\n",
       "      <td>1.60</td>\n",
       "    </tr>\n",
       "    <tr>\n",
       "      <th>2016-09-30</th>\n",
       "      <td>18.17</td>\n",
       "      <td>6.30</td>\n",
       "      <td>8.04</td>\n",
       "      <td>0.95</td>\n",
       "      <td>8.16</td>\n",
       "      <td>3.57</td>\n",
       "      <td>4.26</td>\n",
       "      <td>14.89</td>\n",
       "      <td>10.05</td>\n",
       "      <td>4.13</td>\n",
       "      <td>...</td>\n",
       "      <td>5.14</td>\n",
       "      <td>7.72</td>\n",
       "      <td>7.53</td>\n",
       "      <td>2.49</td>\n",
       "      <td>21.38</td>\n",
       "      <td>4.59</td>\n",
       "      <td>1.18</td>\n",
       "      <td>76488.3984</td>\n",
       "      <td>3.67</td>\n",
       "      <td>1.59</td>\n",
       "    </tr>\n",
       "  </tbody>\n",
       "</table>\n",
       "<p>5 rows × 30 columns</p>\n",
       "</div>"
      ],
      "text/plain": [
       "symbol      AEFES.IS  AFYON.IS  AKBNK.IS  AKENR.IS  AKSA.IS  ALARK.IS  \\\n",
       "Date                                                                    \n",
       "2016-09-26     18.70      5.69      7.96      0.94     8.20      3.44   \n",
       "2016-09-27     18.69      5.72      8.13      0.95     8.20      3.45   \n",
       "2016-09-28     18.49      5.85      8.31      0.95     8.27      3.52   \n",
       "2016-09-29     18.40      6.19      8.13      0.96     8.20      3.59   \n",
       "2016-09-30     18.17      6.30      8.04      0.95     8.16      3.57   \n",
       "\n",
       "symbol      BJKAS.IS  CIMSA.IS  DOAS.IS  EREGL.IS    ...     THYAO.IS  \\\n",
       "Date                                                 ...                \n",
       "2016-09-26      4.58     14.92     9.93      4.28    ...         5.12   \n",
       "2016-09-27      4.72     14.98     9.92      4.24    ...         5.13   \n",
       "2016-09-28      4.76     15.08     9.97      4.20    ...         5.16   \n",
       "2016-09-29      4.41     15.07     9.93      4.19    ...         5.16   \n",
       "2016-09-30      4.26     14.89    10.05      4.13    ...         5.14   \n",
       "\n",
       "symbol      TKFEN.IS  TMSN.IS  TRKCM.IS  ULKER.IS  VAKBN.IS  VAKFN.IS  \\\n",
       "Date                                                                    \n",
       "2016-09-26      7.37     7.51      2.44     21.44      4.43      1.17   \n",
       "2016-09-27      7.53     7.51      2.43     21.08      4.54      1.17   \n",
       "2016-09-28      7.49     7.52      2.45     21.24      4.70      1.18   \n",
       "2016-09-29      7.70     7.56      2.48     21.22      4.62      1.17   \n",
       "2016-09-30      7.72     7.53      2.49     21.38      4.59      1.18   \n",
       "\n",
       "symbol        XU100.IS  YKBNK.IS  ZOREN.IS  \n",
       "Date                                        \n",
       "2016-09-26  76725.7031      3.66      1.57  \n",
       "2016-09-27  77160.7031      3.70      1.58  \n",
       "2016-09-28  77677.7969      3.76      1.60  \n",
       "2016-09-29  77076.7969      3.70      1.60  \n",
       "2016-09-30  76488.3984      3.67      1.59  \n",
       "\n",
       "[5 rows x 30 columns]"
      ]
     },
     "execution_count": 6,
     "metadata": {},
     "output_type": "execute_result"
    }
   ],
   "source": [
    "prices.tail()"
   ]
  },
  {
   "cell_type": "code",
   "execution_count": 7,
   "metadata": {
    "collapsed": false
   },
   "outputs": [],
   "source": [
    "dividends_and_splits= pd.DataFrame()\n",
    "\n",
    "for symbol in symbols:\n",
    "    f = web.DataReader(symbol, 'yahoo-actions')\n",
    "    if len(f) > 0:\n",
    "        f['symbol'] = symbol\n",
    "        dividends_and_splits = pd.concat([dividends_and_splits, f])"
   ]
  },
  {
   "cell_type": "code",
   "execution_count": 8,
   "metadata": {
    "collapsed": false
   },
   "outputs": [
    {
     "data": {
      "text/html": [
       "<div>\n",
       "<table border=\"1\" class=\"dataframe\">\n",
       "  <thead>\n",
       "    <tr style=\"text-align: right;\">\n",
       "      <th></th>\n",
       "      <th>action</th>\n",
       "      <th>value</th>\n",
       "      <th>symbol</th>\n",
       "    </tr>\n",
       "  </thead>\n",
       "  <tbody>\n",
       "    <tr>\n",
       "      <th>2013-06-26</th>\n",
       "      <td>SPLIT</td>\n",
       "      <td>0.869565</td>\n",
       "      <td>THYAO.IS</td>\n",
       "    </tr>\n",
       "    <tr>\n",
       "      <th>2011-07-11</th>\n",
       "      <td>SPLIT</td>\n",
       "      <td>0.833333</td>\n",
       "      <td>THYAO.IS</td>\n",
       "    </tr>\n",
       "    <tr>\n",
       "      <th>2013-07-03</th>\n",
       "      <td>SPLIT</td>\n",
       "      <td>0.980392</td>\n",
       "      <td>TRKCM.IS</td>\n",
       "    </tr>\n",
       "    <tr>\n",
       "      <th>2012-07-16</th>\n",
       "      <td>SPLIT</td>\n",
       "      <td>0.869565</td>\n",
       "      <td>TRKCM.IS</td>\n",
       "    </tr>\n",
       "    <tr>\n",
       "      <th>2010-11-25</th>\n",
       "      <td>SPLIT</td>\n",
       "      <td>0.500000</td>\n",
       "      <td>DOAS.IS</td>\n",
       "    </tr>\n",
       "    <tr>\n",
       "      <th>2013-07-04</th>\n",
       "      <td>SPLIT</td>\n",
       "      <td>0.961538</td>\n",
       "      <td>SISE.IS</td>\n",
       "    </tr>\n",
       "    <tr>\n",
       "      <th>2012-07-10</th>\n",
       "      <td>SPLIT</td>\n",
       "      <td>0.909091</td>\n",
       "      <td>SISE.IS</td>\n",
       "    </tr>\n",
       "    <tr>\n",
       "      <th>2011-06-20</th>\n",
       "      <td>SPLIT</td>\n",
       "      <td>0.884956</td>\n",
       "      <td>SISE.IS</td>\n",
       "    </tr>\n",
       "    <tr>\n",
       "      <th>2013-04-12</th>\n",
       "      <td>SPLIT</td>\n",
       "      <td>0.884956</td>\n",
       "      <td>EREGL.IS</td>\n",
       "    </tr>\n",
       "    <tr>\n",
       "      <th>2012-04-30</th>\n",
       "      <td>SPLIT</td>\n",
       "      <td>0.699301</td>\n",
       "      <td>EREGL.IS</td>\n",
       "    </tr>\n",
       "    <tr>\n",
       "      <th>2011-03-15</th>\n",
       "      <td>SPLIT</td>\n",
       "      <td>0.746269</td>\n",
       "      <td>EREGL.IS</td>\n",
       "    </tr>\n",
       "    <tr>\n",
       "      <th>2010-07-02</th>\n",
       "      <td>SPLIT</td>\n",
       "      <td>0.250000</td>\n",
       "      <td>PETKM.IS</td>\n",
       "    </tr>\n",
       "    <tr>\n",
       "      <th>2010-01-18</th>\n",
       "      <td>SPLIT</td>\n",
       "      <td>0.040000</td>\n",
       "      <td>AFYON.IS</td>\n",
       "    </tr>\n",
       "    <tr>\n",
       "      <th>2010-06-16</th>\n",
       "      <td>SPLIT</td>\n",
       "      <td>0.500000</td>\n",
       "      <td>KOZAL.IS</td>\n",
       "    </tr>\n",
       "    <tr>\n",
       "      <th>2016-06-01</th>\n",
       "      <td>SPLIT</td>\n",
       "      <td>0.045455</td>\n",
       "      <td>GOODY.IS</td>\n",
       "    </tr>\n",
       "    <tr>\n",
       "      <th>2013-07-29</th>\n",
       "      <td>SPLIT</td>\n",
       "      <td>0.925926</td>\n",
       "      <td>VAKFN.IS</td>\n",
       "    </tr>\n",
       "    <tr>\n",
       "      <th>2012-06-15</th>\n",
       "      <td>SPLIT</td>\n",
       "      <td>0.833333</td>\n",
       "      <td>VAKFN.IS</td>\n",
       "    </tr>\n",
       "    <tr>\n",
       "      <th>2011-07-20</th>\n",
       "      <td>SPLIT</td>\n",
       "      <td>0.500000</td>\n",
       "      <td>VAKFN.IS</td>\n",
       "    </tr>\n",
       "  </tbody>\n",
       "</table>\n",
       "</div>"
      ],
      "text/plain": [
       "           action     value    symbol\n",
       "2013-06-26  SPLIT  0.869565  THYAO.IS\n",
       "2011-07-11  SPLIT  0.833333  THYAO.IS\n",
       "2013-07-03  SPLIT  0.980392  TRKCM.IS\n",
       "2012-07-16  SPLIT  0.869565  TRKCM.IS\n",
       "2010-11-25  SPLIT  0.500000   DOAS.IS\n",
       "2013-07-04  SPLIT  0.961538   SISE.IS\n",
       "2012-07-10  SPLIT  0.909091   SISE.IS\n",
       "2011-06-20  SPLIT  0.884956   SISE.IS\n",
       "2013-04-12  SPLIT  0.884956  EREGL.IS\n",
       "2012-04-30  SPLIT  0.699301  EREGL.IS\n",
       "2011-03-15  SPLIT  0.746269  EREGL.IS\n",
       "2010-07-02  SPLIT  0.250000  PETKM.IS\n",
       "2010-01-18  SPLIT  0.040000  AFYON.IS\n",
       "2010-06-16  SPLIT  0.500000  KOZAL.IS\n",
       "2016-06-01  SPLIT  0.045455  GOODY.IS\n",
       "2013-07-29  SPLIT  0.925926  VAKFN.IS\n",
       "2012-06-15  SPLIT  0.833333  VAKFN.IS\n",
       "2011-07-20  SPLIT  0.500000  VAKFN.IS"
      ]
     },
     "execution_count": 8,
     "metadata": {},
     "output_type": "execute_result"
    }
   ],
   "source": [
    "Splits = dividends_and_splits[dividends_and_splits[\"action\"] == 'SPLIT']\n",
    "Dividends = dividends_and_splits[dividends_and_splits[\"action\"] == 'DIVIDEND']\n",
    "Splits"
   ]
  },
  {
   "cell_type": "code",
   "execution_count": 9,
   "metadata": {
    "collapsed": false
   },
   "outputs": [
    {
     "data": {
      "text/html": [
       "<div>\n",
       "<table border=\"1\" class=\"dataframe\">\n",
       "  <thead>\n",
       "    <tr style=\"text-align: right;\">\n",
       "      <th></th>\n",
       "      <th>action</th>\n",
       "      <th>value</th>\n",
       "      <th>symbol</th>\n",
       "    </tr>\n",
       "  </thead>\n",
       "  <tbody>\n",
       "    <tr>\n",
       "      <th>2016-05-30</th>\n",
       "      <td>DIVIDEND</td>\n",
       "      <td>0.245</td>\n",
       "      <td>AEFES.IS</td>\n",
       "    </tr>\n",
       "    <tr>\n",
       "      <th>2015-05-29</th>\n",
       "      <td>DIVIDEND</td>\n",
       "      <td>0.460</td>\n",
       "      <td>AEFES.IS</td>\n",
       "    </tr>\n",
       "    <tr>\n",
       "      <th>2013-05-30</th>\n",
       "      <td>DIVIDEND</td>\n",
       "      <td>0.450</td>\n",
       "      <td>AEFES.IS</td>\n",
       "    </tr>\n",
       "    <tr>\n",
       "      <th>2012-05-29</th>\n",
       "      <td>DIVIDEND</td>\n",
       "      <td>0.450</td>\n",
       "      <td>AEFES.IS</td>\n",
       "    </tr>\n",
       "    <tr>\n",
       "      <th>2011-05-27</th>\n",
       "      <td>DIVIDEND</td>\n",
       "      <td>0.480</td>\n",
       "      <td>AEFES.IS</td>\n",
       "    </tr>\n",
       "  </tbody>\n",
       "</table>\n",
       "</div>"
      ],
      "text/plain": [
       "              action  value    symbol\n",
       "2016-05-30  DIVIDEND  0.245  AEFES.IS\n",
       "2015-05-29  DIVIDEND  0.460  AEFES.IS\n",
       "2013-05-30  DIVIDEND  0.450  AEFES.IS\n",
       "2012-05-29  DIVIDEND  0.450  AEFES.IS\n",
       "2011-05-27  DIVIDEND  0.480  AEFES.IS"
      ]
     },
     "execution_count": 9,
     "metadata": {},
     "output_type": "execute_result"
    }
   ],
   "source": [
    "Dividends.head()"
   ]
  },
  {
   "cell_type": "markdown",
   "metadata": {},
   "source": [
    "## OrderAndTransaction\n",
    "[TOC](#TableOfContents)\n",
    "\n",
    "We give an *order* buy/sell a symbol of some amount of *shares* to a *brocker* which accepts this order and transmit to the market. The response of an order is a *transaction* and it contains the status of the orders, the price and the commissions."
   ]
  },
  {
   "cell_type": "code",
   "execution_count": 10,
   "metadata": {
    "collapsed": true
   },
   "outputs": [],
   "source": [
    "order = {'symbol':'AKBNK.IS', \n",
    "         'shares':100, \n",
    "         'action':'buy', \n",
    "         'time':'2016-05-12'}\n",
    "\n",
    "transaction = {'status':'accepted', \n",
    "               'symbol': 'GARAN', \n",
    "               'action':'buy', \n",
    "               'shares':100, \n",
    "               'price':5.2, \n",
    "               'commision':2, \n",
    "               'time':'2016-05-13'}"
   ]
  },
  {
   "cell_type": "markdown",
   "metadata": {},
   "source": [
    "In real situation, when we pass the order to a brocker, the brocker responds with a transaction. We will simulate this situation with the following function."
   ]
  },
  {
   "cell_type": "code",
   "execution_count": 11,
   "metadata": {
    "collapsed": false
   },
   "outputs": [],
   "source": [
    "# TODO: check user account's free cash and update it accordingly\n",
    "def execute_order(order, holdings):\n",
    "    'Simulates the broker/market and creates a transaction.'\n",
    "    transaction = deepcopy(order)\n",
    "    symbol, shares, time = order['symbol'], order['shares'], order['time']\n",
    "    \n",
    "    if order['action']=='sell':\n",
    "        if (holdings is None or  \n",
    "            not (symbol in holdings.index) or \n",
    "            holdings.loc[symbol]['shares'] < order['shares']):\n",
    "            \n",
    "            warnings.warn('Your order ' + str(order) + ' is rejected.')\n",
    "            transaction['status'] = 'rejected'\n",
    "            return transaction\n",
    "    \n",
    "    transaction['status'] = 'accepted'\n",
    "    price = get_price(symbol, time)\n",
    "    commision = commision_calculation(order, price)\n",
    "    transaction['price'], transaction['commision'] = price, commision\n",
    "    return transaction\n",
    "\n",
    "def get_price(symbol, time = None, price_source=prices):\n",
    "    'Returns the last price of the symbol. We assume that prices is a pandas object.'\n",
    "    if time is None:\n",
    "        time = str(datetime.datetime.now())\n",
    "    \n",
    "    try: \n",
    "        closest_time = (price_source.index[time >= price_source.index]).sort_values()[-1]\n",
    "        return price_source[symbol].loc[closest_time]\n",
    "    except ValueError:\n",
    "        raise ValueError(\"We don't have historical data for an order at \" + order_time)\n",
    "    except IndexError:\n",
    "        raise IndexError(\"We don't have historical data for an order at \" + order_time)\n",
    "\n",
    "def commision_calculation(order, price, commission_ratio=0.0001):\n",
    "    'Calculates commision to be paid.'\n",
    "    return order['shares']*price*commission_ratio\n",
    "\n",
    "def current_time(prices=prices):\n",
    "    'Returns the maximum date from the prices table.'\n",
    "    return max(prices.index).strftime(\"%Y-%m-%d\")"
   ]
  },
  {
   "cell_type": "code",
   "execution_count": 12,
   "metadata": {
    "collapsed": false
   },
   "outputs": [
    {
     "data": {
      "text/plain": [
       "{'action': 'buy',\n",
       " 'commision': 0.076999999999999999,\n",
       " 'price': 7.7000000000000002,\n",
       " 'shares': 100,\n",
       " 'status': 'accepted',\n",
       " 'symbol': 'AKBNK.IS',\n",
       " 'time': '2016-05-12'}"
      ]
     },
     "execution_count": 12,
     "metadata": {},
     "output_type": "execute_result"
    }
   ],
   "source": [
    "execute_order(order, [])"
   ]
  },
  {
   "cell_type": "markdown",
   "metadata": {},
   "source": [
    "TODO: make a real example\n",
    "\n",
    "## Positions and Trades\n",
    "\n",
    "Every time we have an accepted buy order we create a *position*. A trade is a *matching* of buy/sell transactions of the same symbol. We need these trade objects in order to calculate the *current* cost of the portfolio and realized profits. \n",
    "\n",
    "Example\n",
    "---\n",
    "Transactions\n",
    "+ $t_1$: (GARAN, buy, 100, 7.02)\n",
    "+ $t_2$: (GARAN, buy, 200, 7.05)\n",
    "+ $t_3$: (GARAN, sell, 150, 7.10)\n",
    "\n",
    "Cost\n",
    "+ $t_1$: 702\n",
    "+ $t_2$: 702 + 1410\n",
    "+ $t_3$: 702 + 1410 - $x $\n",
    "\n",
    "In order to calculate $x $, we need to match the sell order at *t3* with the buy orders *t1* and *t2*. For the matching we assume first-in first-out rule. We first match the sell order at *t3* with the buy order at *t1* and then the remaining with the order at *t2*."
   ]
  },
  {
   "cell_type": "code",
   "execution_count": 13,
   "metadata": {
    "collapsed": false
   },
   "outputs": [],
   "source": [
    "def apply_transaction(transaction, positions, trades):\n",
    "    'Update positions and trades with the transaction.'\n",
    "    if transaction[\"status\"] == \"accepted\":\n",
    "        symbol, action, shares = transaction[\"symbol\"], transaction[\"action\"], transaction[\"shares\"]\n",
    "        price, time = transaction[\"price\"], transaction['time']\n",
    "        if action == \"buy\":\n",
    "            position = {'type':'long', \n",
    "                        'symbol':symbol, \n",
    "                        'initial_shares':shares, \n",
    "                        'shares':shares, \n",
    "                        'price': price, \n",
    "                        'cost': price*shares, \n",
    "                        'time': time}\n",
    "            positions.append(position)\n",
    "        else:\n",
    "            match_sell_transaction_to_position(transaction, positions, trades)\n",
    "\n",
    "def match_sell_transaction_to_position(transaction, positions, trades):\n",
    "    \"\"\"We will select the positions with the same symbol and order them according to time desc.\n",
    "    Until we finish the order's volume we match it with a position. If a position is fulfilled,\n",
    "    we continue with the next one in the order. We create a trade, we remove the amount traded \n",
    "    from the position. If the position's volume is empty we remove the position from the list.\n",
    "    \n",
    "    Assumption: Since the broker rejects sells orders greater then our holdings, \n",
    "    we assume that transaction.shares <= sum(positions.shares).\"\"\"\n",
    "    \n",
    "    sorted(positions, key=lambda k: k['time']) \n",
    "    shares, time, symbol = transaction[\"shares\"], transaction[\"time\"], transaction[\"symbol\"]\n",
    "    \n",
    "    for position in positions:\n",
    "        if not shares > 0:\n",
    "            break\n",
    "        if position[\"symbol\"] == transaction[\"symbol\"] and position[\"shares\"] > 0:\n",
    "            traded_shares = min(shares, position['shares'])\n",
    "            buy_price, sell_price = position[\"price\"], transaction[\"price\"]\n",
    "            profit = (sell_price - buy_price) * traded_shares\n",
    "            trade = {'symbol':symbol, \n",
    "                     'shares':traded_shares, \n",
    "                     'time':time, \n",
    "                     'buy_price': buy_price, \n",
    "                     'sell_price': sell_price, \n",
    "                     'profit': profit}\n",
    "            trades.append(trade)\n",
    "            shares -= traded_shares\n",
    "            position[\"shares\"] = position[\"shares\"] - traded_shares\n",
    "            position[\"cost\"] = position[\"shares\"] * buy_price"
   ]
  },
  {
   "cell_type": "code",
   "execution_count": 14,
   "metadata": {
    "collapsed": true
   },
   "outputs": [],
   "source": [
    "def calculate_portfolio(positions):\n",
    "    if len(positions) == 0:\n",
    "        return []\n",
    "    else:\n",
    "        temp = pd.DataFrame(positions)\n",
    "        return temp.pivot_table(index='symbol', aggfunc='sum', values=[\"cost\", 'shares'])"
   ]
  },
  {
   "cell_type": "code",
   "execution_count": 15,
   "metadata": {
    "collapsed": false
   },
   "outputs": [
    {
     "data": {
      "text/html": [
       "<div>\n",
       "<table border=\"1\" class=\"dataframe\">\n",
       "  <thead>\n",
       "    <tr style=\"text-align: right;\">\n",
       "      <th></th>\n",
       "      <th>action</th>\n",
       "      <th>shares</th>\n",
       "      <th>symbol</th>\n",
       "      <th>time</th>\n",
       "    </tr>\n",
       "  </thead>\n",
       "  <tbody>\n",
       "    <tr>\n",
       "      <th>0</th>\n",
       "      <td>buy</td>\n",
       "      <td>100</td>\n",
       "      <td>GARAN.IS</td>\n",
       "      <td>2016-05-15 10:00:00</td>\n",
       "    </tr>\n",
       "    <tr>\n",
       "      <th>1</th>\n",
       "      <td>buy</td>\n",
       "      <td>100</td>\n",
       "      <td>GARAN.IS</td>\n",
       "      <td>2016-05-20 11:00:00</td>\n",
       "    </tr>\n",
       "    <tr>\n",
       "      <th>2</th>\n",
       "      <td>sel</td>\n",
       "      <td>120</td>\n",
       "      <td>GARAN.IS</td>\n",
       "      <td>2016-05-22 09:50:00</td>\n",
       "    </tr>\n",
       "    <tr>\n",
       "      <th>3</th>\n",
       "      <td>buy</td>\n",
       "      <td>100</td>\n",
       "      <td>AKBNK.IS</td>\n",
       "      <td>2016-05-20 16:30:00</td>\n",
       "    </tr>\n",
       "    <tr>\n",
       "      <th>4</th>\n",
       "      <td>buy</td>\n",
       "      <td>100</td>\n",
       "      <td>AKBNK.IS</td>\n",
       "      <td>2016-05-21 10:57:23</td>\n",
       "    </tr>\n",
       "    <tr>\n",
       "      <th>5</th>\n",
       "      <td>buy</td>\n",
       "      <td>220</td>\n",
       "      <td>AKBNK.IS</td>\n",
       "      <td>2016-05-24 10:00:00</td>\n",
       "    </tr>\n",
       "    <tr>\n",
       "      <th>6</th>\n",
       "      <td>sell</td>\n",
       "      <td>200</td>\n",
       "      <td>AKBNK.IS</td>\n",
       "      <td>2016-05-24 12:00:00</td>\n",
       "    </tr>\n",
       "    <tr>\n",
       "      <th>7</th>\n",
       "      <td>sell</td>\n",
       "      <td>110</td>\n",
       "      <td>AKBNK.IS</td>\n",
       "      <td>2016-05-27 00:00:00</td>\n",
       "    </tr>\n",
       "    <tr>\n",
       "      <th>8</th>\n",
       "      <td>sell</td>\n",
       "      <td>50</td>\n",
       "      <td>ZOREN.IS</td>\n",
       "      <td>2016-05-28 00:00:00</td>\n",
       "    </tr>\n",
       "  </tbody>\n",
       "</table>\n",
       "</div>"
      ],
      "text/plain": [
       "  action  shares    symbol                 time\n",
       "0    buy     100  GARAN.IS  2016-05-15 10:00:00\n",
       "1    buy     100  GARAN.IS  2016-05-20 11:00:00\n",
       "2    sel     120  GARAN.IS  2016-05-22 09:50:00\n",
       "3    buy     100  AKBNK.IS  2016-05-20 16:30:00\n",
       "4    buy     100  AKBNK.IS  2016-05-21 10:57:23\n",
       "5    buy     220  AKBNK.IS  2016-05-24 10:00:00\n",
       "6   sell     200  AKBNK.IS  2016-05-24 12:00:00\n",
       "7   sell     110  AKBNK.IS  2016-05-27 00:00:00\n",
       "8   sell      50  ZOREN.IS  2016-05-28 00:00:00"
      ]
     },
     "execution_count": 15,
     "metadata": {},
     "output_type": "execute_result"
    }
   ],
   "source": [
    "orders = [\n",
    "    {'symbol':'GARAN.IS', 'shares':100, 'action':'buy', 'time':'2016-05-15 10:00:00'},\n",
    "    {'symbol':'GARAN.IS', 'shares':100, 'action':'buy', 'time':'2016-05-20 11:00:00'},\n",
    "    {'symbol':'GARAN.IS', 'shares':120, 'action':'sel', 'time':'2016-05-22 09:50:00'},\n",
    "    {'symbol':'AKBNK.IS', 'shares':100, 'action':'buy', 'time':'2016-05-20 16:30:00'}, \n",
    "    {'symbol':'AKBNK.IS', 'shares':100, 'action':'buy', 'time':'2016-05-21 10:57:23'},\n",
    "    {'symbol':'AKBNK.IS', 'shares':220, 'action':'buy', 'time':'2016-05-24 10:00:00'},\n",
    "    {'symbol':'AKBNK.IS', 'shares':200, 'action':'sell', 'time':'2016-05-24 12:00:00'},\n",
    "    {'symbol':'AKBNK.IS', 'shares':110, 'action':'sell', 'time':'2016-05-27 00:00:00'},\n",
    "    {'symbol':'ZOREN.IS', 'shares':50, 'action':'sell', 'time':'2016-05-28 00:00:00'},\n",
    "]\n",
    "\n",
    "pd.DataFrame(orders)"
   ]
  },
  {
   "cell_type": "markdown",
   "metadata": {},
   "source": [
    "# Account"
   ]
  },
  {
   "cell_type": "code",
   "execution_count": 16,
   "metadata": {
    "collapsed": false
   },
   "outputs": [],
   "source": [
    "def execute_orders(orders, transactions, positions, trades):\n",
    "    \"\"\"Calls execute_order function for each order in the order list.\n",
    "    Updates transaction, position and trade lists.\n",
    "    \"\"\"\n",
    "    \n",
    "    portfolio = calculate_portfolio(positions)\n",
    "    for order in orders:\n",
    "        transaction = execute_order(order, portfolio)\n",
    "        transactions.append(transaction)\n",
    "        apply_transaction(transaction, positions, trades)\n",
    "        portfolio = calculate_portfolio(positions)"
   ]
  },
  {
   "cell_type": "code",
   "execution_count": 17,
   "metadata": {
    "collapsed": false
   },
   "outputs": [
    {
     "name": "stderr",
     "output_type": "stream",
     "text": [
      "/home/can/.local/lib/python2.7/site-packages/ipykernel/__main__.py:12: UserWarning: Your order {'action': 'sell', 'symbol': 'ZOREN.IS', 'shares': 50, 'time': '2016-05-28 00:00:00'} is rejected.\n"
     ]
    }
   ],
   "source": [
    "transactions, positions, trades = [], [], []\n",
    "execute_orders(orders, transactions, positions, trades);"
   ]
  },
  {
   "cell_type": "code",
   "execution_count": 18,
   "metadata": {
    "collapsed": false
   },
   "outputs": [
    {
     "data": {
      "text/html": [
       "<div>\n",
       "<table border=\"1\" class=\"dataframe\">\n",
       "  <thead>\n",
       "    <tr style=\"text-align: right;\">\n",
       "      <th></th>\n",
       "      <th>action</th>\n",
       "      <th>commision</th>\n",
       "      <th>price</th>\n",
       "      <th>shares</th>\n",
       "      <th>status</th>\n",
       "      <th>symbol</th>\n",
       "      <th>time</th>\n",
       "    </tr>\n",
       "  </thead>\n",
       "  <tbody>\n",
       "    <tr>\n",
       "      <th>0</th>\n",
       "      <td>buy</td>\n",
       "      <td>0.07510</td>\n",
       "      <td>7.51</td>\n",
       "      <td>100</td>\n",
       "      <td>accepted</td>\n",
       "      <td>GARAN.IS</td>\n",
       "      <td>2016-05-15 10:00:00</td>\n",
       "    </tr>\n",
       "    <tr>\n",
       "      <th>1</th>\n",
       "      <td>buy</td>\n",
       "      <td>0.07250</td>\n",
       "      <td>7.25</td>\n",
       "      <td>100</td>\n",
       "      <td>accepted</td>\n",
       "      <td>GARAN.IS</td>\n",
       "      <td>2016-05-20 11:00:00</td>\n",
       "    </tr>\n",
       "    <tr>\n",
       "      <th>2</th>\n",
       "      <td>sel</td>\n",
       "      <td>0.08700</td>\n",
       "      <td>7.25</td>\n",
       "      <td>120</td>\n",
       "      <td>accepted</td>\n",
       "      <td>GARAN.IS</td>\n",
       "      <td>2016-05-22 09:50:00</td>\n",
       "    </tr>\n",
       "    <tr>\n",
       "      <th>3</th>\n",
       "      <td>buy</td>\n",
       "      <td>0.07500</td>\n",
       "      <td>7.50</td>\n",
       "      <td>100</td>\n",
       "      <td>accepted</td>\n",
       "      <td>AKBNK.IS</td>\n",
       "      <td>2016-05-20 16:30:00</td>\n",
       "    </tr>\n",
       "    <tr>\n",
       "      <th>4</th>\n",
       "      <td>buy</td>\n",
       "      <td>0.07500</td>\n",
       "      <td>7.50</td>\n",
       "      <td>100</td>\n",
       "      <td>accepted</td>\n",
       "      <td>AKBNK.IS</td>\n",
       "      <td>2016-05-21 10:57:23</td>\n",
       "    </tr>\n",
       "    <tr>\n",
       "      <th>5</th>\n",
       "      <td>buy</td>\n",
       "      <td>0.17710</td>\n",
       "      <td>8.05</td>\n",
       "      <td>220</td>\n",
       "      <td>accepted</td>\n",
       "      <td>AKBNK.IS</td>\n",
       "      <td>2016-05-24 10:00:00</td>\n",
       "    </tr>\n",
       "    <tr>\n",
       "      <th>6</th>\n",
       "      <td>sell</td>\n",
       "      <td>0.16100</td>\n",
       "      <td>8.05</td>\n",
       "      <td>200</td>\n",
       "      <td>accepted</td>\n",
       "      <td>AKBNK.IS</td>\n",
       "      <td>2016-05-24 12:00:00</td>\n",
       "    </tr>\n",
       "    <tr>\n",
       "      <th>7</th>\n",
       "      <td>sell</td>\n",
       "      <td>0.08745</td>\n",
       "      <td>7.95</td>\n",
       "      <td>110</td>\n",
       "      <td>accepted</td>\n",
       "      <td>AKBNK.IS</td>\n",
       "      <td>2016-05-27 00:00:00</td>\n",
       "    </tr>\n",
       "    <tr>\n",
       "      <th>8</th>\n",
       "      <td>sell</td>\n",
       "      <td>NaN</td>\n",
       "      <td>NaN</td>\n",
       "      <td>50</td>\n",
       "      <td>rejected</td>\n",
       "      <td>ZOREN.IS</td>\n",
       "      <td>2016-05-28 00:00:00</td>\n",
       "    </tr>\n",
       "  </tbody>\n",
       "</table>\n",
       "</div>"
      ],
      "text/plain": [
       "  action  commision  price  shares    status    symbol                 time\n",
       "0    buy    0.07510   7.51     100  accepted  GARAN.IS  2016-05-15 10:00:00\n",
       "1    buy    0.07250   7.25     100  accepted  GARAN.IS  2016-05-20 11:00:00\n",
       "2    sel    0.08700   7.25     120  accepted  GARAN.IS  2016-05-22 09:50:00\n",
       "3    buy    0.07500   7.50     100  accepted  AKBNK.IS  2016-05-20 16:30:00\n",
       "4    buy    0.07500   7.50     100  accepted  AKBNK.IS  2016-05-21 10:57:23\n",
       "5    buy    0.17710   8.05     220  accepted  AKBNK.IS  2016-05-24 10:00:00\n",
       "6   sell    0.16100   8.05     200  accepted  AKBNK.IS  2016-05-24 12:00:00\n",
       "7   sell    0.08745   7.95     110  accepted  AKBNK.IS  2016-05-27 00:00:00\n",
       "8   sell        NaN    NaN      50  rejected  ZOREN.IS  2016-05-28 00:00:00"
      ]
     },
     "execution_count": 18,
     "metadata": {},
     "output_type": "execute_result"
    }
   ],
   "source": [
    "pd.DataFrame(transactions)"
   ]
  },
  {
   "cell_type": "code",
   "execution_count": 19,
   "metadata": {
    "collapsed": false
   },
   "outputs": [
    {
     "name": "stdout",
     "output_type": "stream",
     "text": [
      "                          ***Transactions***                          \n",
      "----------------------------------------------------------------------\n",
      "  action  commision  price  shares    status    symbol                 time\n",
      "0    buy    0.07510   7.51     100  accepted  GARAN.IS  2016-05-15 10:00:00\n",
      "1    buy    0.07250   7.25     100  accepted  GARAN.IS  2016-05-20 11:00:00\n",
      "2    sel    0.08700   7.25     120  accepted  GARAN.IS  2016-05-22 09:50:00\n",
      "3    buy    0.07500   7.50     100  accepted  AKBNK.IS  2016-05-20 16:30:00\n",
      "4    buy    0.07500   7.50     100  accepted  AKBNK.IS  2016-05-21 10:57:23\n",
      "5    buy    0.17710   8.05     220  accepted  AKBNK.IS  2016-05-24 10:00:00\n",
      "6   sell    0.16100   8.05     200  accepted  AKBNK.IS  2016-05-24 12:00:00\n",
      "7   sell    0.08745   7.95     110  accepted  AKBNK.IS  2016-05-27 00:00:00\n",
      "8   sell        NaN    NaN      50  rejected  ZOREN.IS  2016-05-28 00:00:00\n",
      "\n",
      "                           ***Positions***                            \n",
      "----------------------------------------------------------------------\n",
      "    cost  initial_shares  price  shares    symbol                 time  type\n",
      "0    0.0             100   7.51       0  GARAN.IS  2016-05-15 10:00:00  long\n",
      "1  580.0             100   7.25      80  GARAN.IS  2016-05-20 11:00:00  long\n",
      "2    0.0             100   7.50       0  AKBNK.IS  2016-05-20 16:30:00  long\n",
      "3    0.0             100   7.50       0  AKBNK.IS  2016-05-21 10:57:23  long\n",
      "4  885.5             220   8.05     110  AKBNK.IS  2016-05-24 10:00:00  long\n",
      "\n",
      "                             ***Trades***                             \n",
      "----------------------------------------------------------------------\n",
      "   buy_price  profit  sell_price  shares    symbol                 time\n",
      "0       7.51   -26.0        7.25     100  GARAN.IS  2016-05-22 09:50:00\n",
      "1       7.25     0.0        7.25      20  GARAN.IS  2016-05-22 09:50:00\n",
      "2       7.50    55.0        8.05     100  AKBNK.IS  2016-05-24 12:00:00\n",
      "3       7.50    55.0        8.05     100  AKBNK.IS  2016-05-24 12:00:00\n",
      "4       8.05   -11.0        7.95     110  AKBNK.IS  2016-05-27 00:00:00\n"
     ]
    }
   ],
   "source": [
    "def summary(transactions, positions, trades):\n",
    "    print \"***Transactions***\".center(70)\n",
    "    print '-' * 70\n",
    "    print pd.DataFrame(transactions)\n",
    "    print ''\n",
    "\n",
    "    print \"***Positions***\".center(70)\n",
    "    print '-' * 70\n",
    "    print pd.DataFrame(positions)\n",
    "    print ''\n",
    "\n",
    "    print \"***Trades***\".center(70)\n",
    "    print '-' * 70\n",
    "    print pd.DataFrame(trades)\n",
    "\n",
    "summary(transactions, positions, trades)"
   ]
  },
  {
   "cell_type": "markdown",
   "metadata": {},
   "source": [
    "## Portfolio\n",
    "[TOC](#TableOfContents)\n",
    "\n",
    "An *asset* is financial instruments that we own. The assets can be calculated using transaction reports. *Market value* is the current value of an asset. It represent the value as if we want to sell the asset right now. It is calculated by some estimation of the current price of the corresponding symbol. The collection of assets that we own are called our *portfolio*. \n",
    "\n",
    "##### Portfolio Market Value"
   ]
  },
  {
   "cell_type": "code",
   "execution_count": 20,
   "metadata": {
    "collapsed": false
   },
   "outputs": [
    {
     "data": {
      "text/html": [
       "<div>\n",
       "<table border=\"1\" class=\"dataframe\">\n",
       "  <thead>\n",
       "    <tr style=\"text-align: right;\">\n",
       "      <th></th>\n",
       "      <th>cost</th>\n",
       "      <th>shares</th>\n",
       "    </tr>\n",
       "    <tr>\n",
       "      <th>symbol</th>\n",
       "      <th></th>\n",
       "      <th></th>\n",
       "    </tr>\n",
       "  </thead>\n",
       "  <tbody>\n",
       "    <tr>\n",
       "      <th>AKBNK.IS</th>\n",
       "      <td>885.5</td>\n",
       "      <td>110</td>\n",
       "    </tr>\n",
       "    <tr>\n",
       "      <th>GARAN.IS</th>\n",
       "      <td>580.0</td>\n",
       "      <td>80</td>\n",
       "    </tr>\n",
       "  </tbody>\n",
       "</table>\n",
       "</div>"
      ],
      "text/plain": [
       "           cost  shares\n",
       "symbol                 \n",
       "AKBNK.IS  885.5     110\n",
       "GARAN.IS  580.0      80"
      ]
     },
     "execution_count": 20,
     "metadata": {},
     "output_type": "execute_result"
    }
   ],
   "source": [
    "portfolio = calculate_portfolio(positions)\n",
    "portfolio"
   ]
  },
  {
   "cell_type": "code",
   "execution_count": 21,
   "metadata": {
    "collapsed": false
   },
   "outputs": [],
   "source": [
    "x = pd.Series({\"GARAN.IS\": get_price(\"GARAN.IS\"), \"AKBNK.IS\": get_price(\"AKBNK.IS\")})"
   ]
  },
  {
   "cell_type": "code",
   "execution_count": 22,
   "metadata": {
    "collapsed": true
   },
   "outputs": [],
   "source": [
    "portfolio[\"current_price\"] = x"
   ]
  },
  {
   "cell_type": "code",
   "execution_count": 23,
   "metadata": {
    "collapsed": false
   },
   "outputs": [
    {
     "data": {
      "text/plain": [
       "symbol\n",
       "AKBNK.IS    884.4\n",
       "GARAN.IS    636.0\n",
       "dtype: float64"
      ]
     },
     "execution_count": 23,
     "metadata": {},
     "output_type": "execute_result"
    }
   ],
   "source": [
    "portfolio[\"shares\"] * portfolio[\"current_price\"]"
   ]
  },
  {
   "cell_type": "code",
   "execution_count": 24,
   "metadata": {
    "collapsed": false
   },
   "outputs": [
    {
     "data": {
      "text/plain": [
       "AKBNK.IS    8.04\n",
       "GARAN.IS    7.95\n",
       "dtype: float64"
      ]
     },
     "execution_count": 24,
     "metadata": {},
     "output_type": "execute_result"
    }
   ],
   "source": [
    "def get_prices(assets, time = None):\n",
    "    return {symbol: get_price(symbol, time) for symbol in assets}\n",
    "\n",
    "pd.Series(get_prices(portfolio.index))"
   ]
  },
  {
   "cell_type": "code",
   "execution_count": 25,
   "metadata": {
    "collapsed": false
   },
   "outputs": [
    {
     "data": {
      "text/plain": [
       "symbol\n",
       "AKBNK.IS    55.0\n",
       "GARAN.IS    40.0\n",
       "Name: shares, dtype: float64"
      ]
     },
     "execution_count": 25,
     "metadata": {},
     "output_type": "execute_result"
    }
   ],
   "source": [
    "portfolio[\"shares\"] / 2"
   ]
  },
  {
   "cell_type": "code",
   "execution_count": 26,
   "metadata": {
    "collapsed": true
   },
   "outputs": [],
   "source": [
    "def current_performance(portfolio, time=None):\n",
    "    portfolio[\"current_price\"] = pd.Series(get_prices(portfolio.index, time))\n",
    "    portfolio[\"market_value\"] = portfolio[\"shares\"] * portfolio[\"current_price\"]\n",
    "    portfolio[\"profit\"] = portfolio[\"market_value\"] - portfolio[\"cost\"]\n",
    "    \n",
    "    total_market_value = portfolio.market_value.sum()\n",
    "    portfolio[\"weight\"] = portfolio[\"market_value\"] / total_market_value"
   ]
  },
  {
   "cell_type": "code",
   "execution_count": 27,
   "metadata": {
    "collapsed": false
   },
   "outputs": [
    {
     "data": {
      "text/html": [
       "<div>\n",
       "<table border=\"1\" class=\"dataframe\">\n",
       "  <thead>\n",
       "    <tr style=\"text-align: right;\">\n",
       "      <th></th>\n",
       "      <th>cost</th>\n",
       "      <th>shares</th>\n",
       "      <th>current_price</th>\n",
       "      <th>market_value</th>\n",
       "      <th>profit</th>\n",
       "      <th>weight</th>\n",
       "    </tr>\n",
       "    <tr>\n",
       "      <th>symbol</th>\n",
       "      <th></th>\n",
       "      <th></th>\n",
       "      <th></th>\n",
       "      <th></th>\n",
       "      <th></th>\n",
       "      <th></th>\n",
       "    </tr>\n",
       "  </thead>\n",
       "  <tbody>\n",
       "    <tr>\n",
       "      <th>AKBNK.IS</th>\n",
       "      <td>885.5</td>\n",
       "      <td>110</td>\n",
       "      <td>8.04</td>\n",
       "      <td>884.4</td>\n",
       "      <td>-1.1</td>\n",
       "      <td>0.581689</td>\n",
       "    </tr>\n",
       "    <tr>\n",
       "      <th>GARAN.IS</th>\n",
       "      <td>580.0</td>\n",
       "      <td>80</td>\n",
       "      <td>7.95</td>\n",
       "      <td>636.0</td>\n",
       "      <td>56.0</td>\n",
       "      <td>0.418311</td>\n",
       "    </tr>\n",
       "  </tbody>\n",
       "</table>\n",
       "</div>"
      ],
      "text/plain": [
       "           cost  shares  current_price  market_value  profit    weight\n",
       "symbol                                                                \n",
       "AKBNK.IS  885.5     110           8.04         884.4    -1.1  0.581689\n",
       "GARAN.IS  580.0      80           7.95         636.0    56.0  0.418311"
      ]
     },
     "execution_count": 27,
     "metadata": {},
     "output_type": "execute_result"
    }
   ],
   "source": [
    "current_performance(portfolio)\n",
    "portfolio"
   ]
  },
  {
   "cell_type": "code",
   "execution_count": 28,
   "metadata": {
    "collapsed": true
   },
   "outputs": [],
   "source": [
    "def historical_performance(transactions, prices):\n",
    "    \"Returns historical market value of a portfolio.\"\n",
    "    starting_date = min(transactions, key=lambda x: x[\"time\"])[\"time\"]\n",
    "    ending_date = datetime.datetime.now()\n",
    "    symbols = set([t[\"symbol\"] for t in transactions if t[\"status\"]==\"accepted\"] )\n",
    "    \n",
    "    symbol_price = (prices.loc[starting_date:ending_date][list(symbols)])\n",
    "    \n",
    "    holdings_list = holdings(transactions)\n",
    "    \n",
    "    return (holdings_list\n",
    "            .fillna(method='ffill')\n",
    "            .reindex(symbol_price.index.union(holdings_list.index))\n",
    "            .fillna(method='ffill')\n",
    "            .reindex(symbol_price.index)\n",
    "            .mul(symbol_price).sum(axis=1)\n",
    "           )\n",
    "\n",
    "def holdings(transactions):\n",
    "    t = pd.DataFrame(transactions)\n",
    "    t[\"sign\"] = t[\"action\"].apply(lambda x: 1 if x==\"buy\" else -1)\n",
    "    t[\"signed_shares\"] = t[\"sign\"] * t[\"shares\"]\n",
    "    t[\"time\"] = pd.to_datetime(t[\"time\"])\n",
    "    \n",
    "    return (t.query(\"status == 'accepted'\")\n",
    "     .pivot_table(values=\"signed_shares\", columns=\"symbol\", index=\"time\")\n",
    "     .cumsum()\n",
    "    )"
   ]
  },
  {
   "cell_type": "code",
   "execution_count": 29,
   "metadata": {
    "collapsed": false
   },
   "outputs": [],
   "source": [
    "symbols = set([t[\"symbol\"] for t in transactions if t[\"status\"]==\"accepted\"] )\n",
    "starting_date = min(transactions, key=lambda x: x[\"time\"])[\"time\"]\n",
    "ending_date = datetime.datetime.now()\n",
    "symbol_price = (prices.loc[starting_date:ending_date][list(symbols)])"
   ]
  },
  {
   "cell_type": "code",
   "execution_count": 30,
   "metadata": {
    "collapsed": false
   },
   "outputs": [],
   "source": [
    "def compare_with_benchmark(historical_value, benchmark_symbol=\"XU100.IS\"):\n",
    "    algo = (historical_value[historical_value > 0].pct_change() + 1).cumprod()\n",
    "    algo.name = \"Algorithm\"\n",
    "    algo.plot(legend=True)\n",
    "    print \"Algorithm performance:\", (algo.ix[-1] - 1)*100\n",
    "    \n",
    "    start_date = historical_value.index[0]\n",
    "\n",
    "    benchmark = (prices[benchmark_symbol].dropna().pct_change().loc[start_date:] + 1).cumprod()\n",
    "    benchmark.name = \"Benchmark\"\n",
    "    benchmark.plot(legend = True, figsize=[15,10])\n",
    "    print \"Benchmark performance:\", (benchmark.ix[-1] - 1)*100"
   ]
  },
  {
   "cell_type": "code",
   "execution_count": 31,
   "metadata": {
    "collapsed": false
   },
   "outputs": [
    {
     "data": {
      "text/plain": [
       "<matplotlib.axes._subplots.AxesSubplot at 0x7fc0b3324410>"
      ]
     },
     "execution_count": 31,
     "metadata": {},
     "output_type": "execute_result"
    },
    {
     "data": {
      "image/png": "[encoded data removed]",
      "text/plain": [
       "<matplotlib.figure.Figure at 0x7fc0e5d2c1d0>"
      ]
     },
     "metadata": {},
     "output_type": "display_data"
    }
   ],
   "source": [
    "historical_performance(transactions, prices).plot(figsize= [15,10])"
   ]
  },
  {
   "cell_type": "markdown",
   "metadata": {},
   "source": [
    "## DividendAndSplit\n",
    "[TOC](#TableOfContents)"
   ]
  },
  {
   "cell_type": "code",
   "execution_count": 32,
   "metadata": {
    "collapsed": true
   },
   "outputs": [],
   "source": [
    "def paid_dividends(transactions, dividends):\n",
    "    \n",
    "    start_date = min(transactions, key=lambda x: x[\"time\"])[\"time\"]\n",
    "    end_date = datetime.datetime.now()\n",
    "    \n",
    "    H= holdings(transactions)\n",
    "    H.index = pd.to_datetime(H.index)\n",
    "    \n",
    "    H = (H.reindex(pd.date_range(start=start_date, end=end_date, freq='D'))\n",
    "         .fillna(method='ffill')\n",
    "         .fillna(0))\n",
    "    \n",
    "    return (pd.melt(Dividends[Dividends.symbol.apply(lambda x: x in H.columns)]\n",
    "                    .reset_index()\n",
    "                    .rename(columns={'index':'time'})\n",
    "                    .pivot_table(values=\"value\", columns=\"symbol\", index = 'time')\n",
    "                    .reindex(H.index)\n",
    "                    .mul(H)\n",
    "                    .reset_index()\n",
    "                    .rename(columns={'index':'time'})\n",
    "                    , id_vars = 'time', var_name= 'symbol', value_name='paid_dividend'\n",
    "                    )\n",
    "            ).query(\"paid_dividend > 0\")"
   ]
  },
  {
   "cell_type": "code",
   "execution_count": 33,
   "metadata": {
    "collapsed": false
   },
   "outputs": [
    {
     "data": {
      "text/html": [
       "<div>\n",
       "<table border=\"1\" class=\"dataframe\">\n",
       "  <thead>\n",
       "    <tr style=\"text-align: right;\">\n",
       "      <th></th>\n",
       "      <th>time</th>\n",
       "      <th>symbol</th>\n",
       "      <th>paid_dividend</th>\n",
       "    </tr>\n",
       "  </thead>\n",
       "  <tbody>\n",
       "  </tbody>\n",
       "</table>\n",
       "</div>"
      ],
      "text/plain": [
       "Empty DataFrame\n",
       "Columns: [time, symbol, paid_dividend]\n",
       "Index: []"
      ]
     },
     "execution_count": 33,
     "metadata": {},
     "output_type": "execute_result"
    }
   ],
   "source": [
    "paid_dividends(transactions, Dividends)"
   ]
  },
  {
   "cell_type": "markdown",
   "metadata": {},
   "source": [
    "## Rebalance\n",
    "[TOC](#TableOfContents)"
   ]
  },
  {
   "cell_type": "code",
   "execution_count": 34,
   "metadata": {
    "collapsed": false
   },
   "outputs": [],
   "source": [
    "def rebalance(portfolio, target_weights, target_value = None, time = None):\n",
    "    \"\"\"New weights is a dictionary of {symbol: weights}.\n",
    "    Creates orders to make portfolio's weight 'new weights'.\n",
    "    Time indicates execution of rebalance operation.\n",
    "    \"\"\"\n",
    "    if time is None:\n",
    "        time = current_time()\n",
    "    \n",
    "    if target_value is None: \n",
    "        target_value = portfolio.market_value.sum()\n",
    "        \n",
    "    if len(portfolio)>0:\n",
    "        target_weights = {s:target_weights[s] if s in target_weights.keys() else 0 \n",
    "                          for s in set(portfolio.index | target_weights.keys())}\n",
    "        \n",
    "    # check if the weights sum up to 1.\n",
    "    assert(sum(target_weights.values()) == 1)\n",
    "        \n",
    "    rebalance_orders = []\n",
    "    \n",
    "    target_market_value = {s:target_weights[s]*target_value for s in target_weights.keys()}\n",
    "    \n",
    "    for symbol, weight in target_weights.iteritems():\n",
    "        \n",
    "        if len(portfolio)>0 and symbol in portfolio.index:\n",
    "            delta_value = target_market_value[symbol] - portfolio[\"market_value\"].loc[symbol]\n",
    "            \n",
    "            if weight:\n",
    "                delta_lot = int(abs(delta_value / get_price(symbol, time)))\n",
    "            else:\n",
    "                delta_lot = portfolio[\"shares\"].loc[symbol]\n",
    "            \n",
    "            if delta_lot:\n",
    "                if delta_value > 0:\n",
    "                    action = 'buy'\n",
    "                else:\n",
    "                    action = 'sell'\n",
    "            \n",
    "                order = {'symbol': symbol, 'shares': delta_lot, 'action': action, 'time': time}\n",
    "                rebalance_orders.append(order)\n",
    "        else:\n",
    "            delta_lot = int(target_market_value[symbol] / get_price(symbol, time))\n",
    "            order = {'symbol': symbol, 'shares': delta_lot, 'action': 'buy', 'time': time}\n",
    "            rebalance_orders.append(order) \n",
    "    \n",
    "    return rebalance_orders"
   ]
  },
  {
   "cell_type": "code",
   "execution_count": 35,
   "metadata": {
    "collapsed": false
   },
   "outputs": [
    {
     "data": {
      "text/html": [
       "<div>\n",
       "<table border=\"1\" class=\"dataframe\">\n",
       "  <thead>\n",
       "    <tr style=\"text-align: right;\">\n",
       "      <th></th>\n",
       "      <th>cost</th>\n",
       "      <th>shares</th>\n",
       "      <th>current_price</th>\n",
       "      <th>market_value</th>\n",
       "      <th>profit</th>\n",
       "      <th>weight</th>\n",
       "    </tr>\n",
       "    <tr>\n",
       "      <th>symbol</th>\n",
       "      <th></th>\n",
       "      <th></th>\n",
       "      <th></th>\n",
       "      <th></th>\n",
       "      <th></th>\n",
       "      <th></th>\n",
       "    </tr>\n",
       "  </thead>\n",
       "  <tbody>\n",
       "    <tr>\n",
       "      <th>AKBNK.IS</th>\n",
       "      <td>885.5</td>\n",
       "      <td>110</td>\n",
       "      <td>8.04</td>\n",
       "      <td>884.4</td>\n",
       "      <td>-1.1</td>\n",
       "      <td>0.581689</td>\n",
       "    </tr>\n",
       "    <tr>\n",
       "      <th>GARAN.IS</th>\n",
       "      <td>580.0</td>\n",
       "      <td>80</td>\n",
       "      <td>7.95</td>\n",
       "      <td>636.0</td>\n",
       "      <td>56.0</td>\n",
       "      <td>0.418311</td>\n",
       "    </tr>\n",
       "  </tbody>\n",
       "</table>\n",
       "</div>"
      ],
      "text/plain": [
       "           cost  shares  current_price  market_value  profit    weight\n",
       "symbol                                                                \n",
       "AKBNK.IS  885.5     110           8.04         884.4    -1.1  0.581689\n",
       "GARAN.IS  580.0      80           7.95         636.0    56.0  0.418311"
      ]
     },
     "execution_count": 35,
     "metadata": {},
     "output_type": "execute_result"
    }
   ],
   "source": [
    "portfolio"
   ]
  },
  {
   "cell_type": "code",
   "execution_count": 36,
   "metadata": {
    "collapsed": false
   },
   "outputs": [
    {
     "data": {
      "text/plain": [
       "884.39999999999986"
      ]
     },
     "execution_count": 36,
     "metadata": {},
     "output_type": "execute_result"
    }
   ],
   "source": [
    "portfolio[\"market_value\"].loc['AKBNK.IS']"
   ]
  },
  {
   "cell_type": "code",
   "execution_count": 37,
   "metadata": {
    "collapsed": false
   },
   "outputs": [
    {
     "data": {
      "text/html": [
       "<div>\n",
       "<table border=\"1\" class=\"dataframe\">\n",
       "  <thead>\n",
       "    <tr style=\"text-align: right;\">\n",
       "      <th></th>\n",
       "      <th>action</th>\n",
       "      <th>shares</th>\n",
       "      <th>symbol</th>\n",
       "      <th>time</th>\n",
       "    </tr>\n",
       "  </thead>\n",
       "  <tbody>\n",
       "    <tr>\n",
       "      <th>0</th>\n",
       "      <td>sell</td>\n",
       "      <td>41</td>\n",
       "      <td>GARAN.IS</td>\n",
       "      <td>2016-09-30</td>\n",
       "    </tr>\n",
       "    <tr>\n",
       "      <th>1</th>\n",
       "      <td>buy</td>\n",
       "      <td>286</td>\n",
       "      <td>ZOREN.IS</td>\n",
       "      <td>2016-09-30</td>\n",
       "    </tr>\n",
       "    <tr>\n",
       "      <th>2</th>\n",
       "      <td>sell</td>\n",
       "      <td>15</td>\n",
       "      <td>AKBNK.IS</td>\n",
       "      <td>2016-09-30</td>\n",
       "    </tr>\n",
       "  </tbody>\n",
       "</table>\n",
       "</div>"
      ],
      "text/plain": [
       "  action  shares    symbol        time\n",
       "0   sell      41  GARAN.IS  2016-09-30\n",
       "1    buy     286  ZOREN.IS  2016-09-30\n",
       "2   sell      15  AKBNK.IS  2016-09-30"
      ]
     },
     "execution_count": 37,
     "metadata": {},
     "output_type": "execute_result"
    }
   ],
   "source": [
    "orders_to_rebalance = rebalance(portfolio, {\"AKBNK.IS\":0.50, \"GARAN.IS\": 0.20, \"ZOREN.IS\": 0.30 })\n",
    "pd.DataFrame(orders_to_rebalance)"
   ]
  },
  {
   "cell_type": "code",
   "execution_count": 38,
   "metadata": {
    "collapsed": false
   },
   "outputs": [
    {
     "name": "stdout",
     "output_type": "stream",
     "text": [
      "                          ***Transactions***                          \n",
      "----------------------------------------------------------------------\n",
      "   action  commision  price  shares    status    symbol                 time\n",
      "0     buy   0.075100   7.51     100  accepted  GARAN.IS  2016-05-15 10:00:00\n",
      "1     buy   0.072500   7.25     100  accepted  GARAN.IS  2016-05-20 11:00:00\n",
      "2     sel   0.087000   7.25     120  accepted  GARAN.IS  2016-05-22 09:50:00\n",
      "3     buy   0.075000   7.50     100  accepted  AKBNK.IS  2016-05-20 16:30:00\n",
      "4     buy   0.075000   7.50     100  accepted  AKBNK.IS  2016-05-21 10:57:23\n",
      "5     buy   0.177100   8.05     220  accepted  AKBNK.IS  2016-05-24 10:00:00\n",
      "6    sell   0.161000   8.05     200  accepted  AKBNK.IS  2016-05-24 12:00:00\n",
      "7    sell   0.087450   7.95     110  accepted  AKBNK.IS  2016-05-27 00:00:00\n",
      "8    sell        NaN    NaN      50  rejected  ZOREN.IS  2016-05-28 00:00:00\n",
      "9    sell   0.032595   7.95      41  accepted  GARAN.IS           2016-09-30\n",
      "10    buy   0.045474   1.59     286  accepted  ZOREN.IS           2016-09-30\n",
      "11   sell   0.012060   8.04      15  accepted  AKBNK.IS           2016-09-30\n",
      "\n",
      "                           ***Positions***                            \n",
      "----------------------------------------------------------------------\n",
      "     cost  initial_shares  price  shares    symbol                 time  type\n",
      "0    0.00             100   7.51       0  GARAN.IS  2016-05-15 10:00:00  long\n",
      "1  282.75             100   7.25      39  GARAN.IS  2016-05-20 11:00:00  long\n",
      "2    0.00             100   7.50       0  AKBNK.IS  2016-05-20 16:30:00  long\n",
      "3    0.00             100   7.50       0  AKBNK.IS  2016-05-21 10:57:23  long\n",
      "4  764.75             220   8.05      95  AKBNK.IS  2016-05-24 10:00:00  long\n",
      "5  454.74             286   1.59     286  ZOREN.IS           2016-09-30  long\n",
      "\n",
      "                             ***Trades***                             \n",
      "----------------------------------------------------------------------\n",
      "   buy_price  profit  sell_price  shares    symbol                 time\n",
      "0       7.51  -26.00        7.25     100  GARAN.IS  2016-05-22 09:50:00\n",
      "1       7.25    0.00        7.25      20  GARAN.IS  2016-05-22 09:50:00\n",
      "2       7.50   55.00        8.05     100  AKBNK.IS  2016-05-24 12:00:00\n",
      "3       7.50   55.00        8.05     100  AKBNK.IS  2016-05-24 12:00:00\n",
      "4       8.05  -11.00        7.95     110  AKBNK.IS  2016-05-27 00:00:00\n",
      "5       7.25   28.70        7.95      41  GARAN.IS           2016-09-30\n",
      "6       8.05   -0.15        8.04      15  AKBNK.IS           2016-09-30\n"
     ]
    }
   ],
   "source": [
    "execute_orders(orders_to_rebalance, transactions, positions, trades)\n",
    "summary(transactions, positions, trades)"
   ]
  },
  {
   "cell_type": "code",
   "execution_count": 39,
   "metadata": {
    "collapsed": false
   },
   "outputs": [
    {
     "data": {
      "text/html": [
       "<div>\n",
       "<table border=\"1\" class=\"dataframe\">\n",
       "  <thead>\n",
       "    <tr style=\"text-align: right;\">\n",
       "      <th></th>\n",
       "      <th>cost</th>\n",
       "      <th>shares</th>\n",
       "    </tr>\n",
       "    <tr>\n",
       "      <th>symbol</th>\n",
       "      <th></th>\n",
       "      <th></th>\n",
       "    </tr>\n",
       "  </thead>\n",
       "  <tbody>\n",
       "    <tr>\n",
       "      <th>AKBNK.IS</th>\n",
       "      <td>764.75</td>\n",
       "      <td>95</td>\n",
       "    </tr>\n",
       "    <tr>\n",
       "      <th>GARAN.IS</th>\n",
       "      <td>282.75</td>\n",
       "      <td>39</td>\n",
       "    </tr>\n",
       "    <tr>\n",
       "      <th>ZOREN.IS</th>\n",
       "      <td>454.74</td>\n",
       "      <td>286</td>\n",
       "    </tr>\n",
       "  </tbody>\n",
       "</table>\n",
       "</div>"
      ],
      "text/plain": [
       "            cost  shares\n",
       "symbol                  \n",
       "AKBNK.IS  764.75      95\n",
       "GARAN.IS  282.75      39\n",
       "ZOREN.IS  454.74     286"
      ]
     },
     "execution_count": 39,
     "metadata": {},
     "output_type": "execute_result"
    }
   ],
   "source": [
    "portfolio = calculate_portfolio(positions)\n",
    "portfolio"
   ]
  },
  {
   "cell_type": "code",
   "execution_count": 40,
   "metadata": {
    "collapsed": false
   },
   "outputs": [
    {
     "data": {
      "text/html": [
       "<div>\n",
       "<table border=\"1\" class=\"dataframe\">\n",
       "  <thead>\n",
       "    <tr style=\"text-align: right;\">\n",
       "      <th></th>\n",
       "      <th>cost</th>\n",
       "      <th>shares</th>\n",
       "      <th>current_price</th>\n",
       "      <th>market_value</th>\n",
       "      <th>profit</th>\n",
       "      <th>weight</th>\n",
       "    </tr>\n",
       "    <tr>\n",
       "      <th>symbol</th>\n",
       "      <th></th>\n",
       "      <th></th>\n",
       "      <th></th>\n",
       "      <th></th>\n",
       "      <th></th>\n",
       "      <th></th>\n",
       "    </tr>\n",
       "  </thead>\n",
       "  <tbody>\n",
       "    <tr>\n",
       "      <th>AKBNK.IS</th>\n",
       "      <td>764.75</td>\n",
       "      <td>95</td>\n",
       "      <td>8.04</td>\n",
       "      <td>763.80</td>\n",
       "      <td>-0.95</td>\n",
       "      <td>0.499676</td>\n",
       "    </tr>\n",
       "    <tr>\n",
       "      <th>GARAN.IS</th>\n",
       "      <td>282.75</td>\n",
       "      <td>39</td>\n",
       "      <td>7.95</td>\n",
       "      <td>310.05</td>\n",
       "      <td>27.30</td>\n",
       "      <td>0.202834</td>\n",
       "    </tr>\n",
       "    <tr>\n",
       "      <th>ZOREN.IS</th>\n",
       "      <td>454.74</td>\n",
       "      <td>286</td>\n",
       "      <td>1.59</td>\n",
       "      <td>454.74</td>\n",
       "      <td>0.00</td>\n",
       "      <td>0.297490</td>\n",
       "    </tr>\n",
       "  </tbody>\n",
       "</table>\n",
       "</div>"
      ],
      "text/plain": [
       "            cost  shares  current_price  market_value  profit    weight\n",
       "symbol                                                                 \n",
       "AKBNK.IS  764.75      95           8.04        763.80   -0.95  0.499676\n",
       "GARAN.IS  282.75      39           7.95        310.05   27.30  0.202834\n",
       "ZOREN.IS  454.74     286           1.59        454.74    0.00  0.297490"
      ]
     },
     "execution_count": 40,
     "metadata": {},
     "output_type": "execute_result"
    }
   ],
   "source": [
    "current_performance(portfolio)\n",
    "portfolio"
   ]
  },
  {
   "cell_type": "code",
   "execution_count": 41,
   "metadata": {
    "collapsed": false
   },
   "outputs": [
    {
     "data": {
      "text/html": [
       "<div>\n",
       "<table border=\"1\" class=\"dataframe\">\n",
       "  <thead>\n",
       "    <tr style=\"text-align: right;\">\n",
       "      <th></th>\n",
       "      <th>action</th>\n",
       "      <th>shares</th>\n",
       "      <th>symbol</th>\n",
       "      <th>time</th>\n",
       "    </tr>\n",
       "  </thead>\n",
       "  <tbody>\n",
       "    <tr>\n",
       "      <th>0</th>\n",
       "      <td>buy</td>\n",
       "      <td>62893</td>\n",
       "      <td>GARAN.IS</td>\n",
       "      <td>2016-09-30</td>\n",
       "    </tr>\n",
       "    <tr>\n",
       "      <th>1</th>\n",
       "      <td>buy</td>\n",
       "      <td>62189</td>\n",
       "      <td>AKBNK.IS</td>\n",
       "      <td>2016-09-30</td>\n",
       "    </tr>\n",
       "  </tbody>\n",
       "</table>\n",
       "</div>"
      ],
      "text/plain": [
       "  action  shares    symbol        time\n",
       "0    buy   62893  GARAN.IS  2016-09-30\n",
       "1    buy   62189  AKBNK.IS  2016-09-30"
      ]
     },
     "execution_count": 41,
     "metadata": {},
     "output_type": "execute_result"
    }
   ],
   "source": [
    "portfolio, transactions, positions, trades = [], [], [], []\n",
    "\n",
    "orders_to_rebalance = rebalance([], {'AKBNK.IS': 0.50, 'GARAN.IS': 0.50}, 1000000)\n",
    "pd.DataFrame(orders_to_rebalance)"
   ]
  },
  {
   "cell_type": "code",
   "execution_count": 42,
   "metadata": {
    "collapsed": false
   },
   "outputs": [
    {
     "name": "stdout",
     "output_type": "stream",
     "text": [
      "                          ***Transactions***                          \n",
      "----------------------------------------------------------------------\n",
      "  action  commision  price  shares    status    symbol        time\n",
      "0    buy  49.999935   7.95   62893  accepted  GARAN.IS  2016-09-30\n",
      "1    buy  49.999956   8.04   62189  accepted  AKBNK.IS  2016-09-30\n",
      "\n",
      "                           ***Positions***                            \n",
      "----------------------------------------------------------------------\n",
      "        cost  initial_shares  price  shares    symbol        time  type\n",
      "0  499999.35           62893   7.95   62893  GARAN.IS  2016-09-30  long\n",
      "1  499999.56           62189   8.04   62189  AKBNK.IS  2016-09-30  long\n",
      "\n",
      "                             ***Trades***                             \n",
      "----------------------------------------------------------------------\n",
      "Empty DataFrame\n",
      "Columns: []\n",
      "Index: []\n"
     ]
    }
   ],
   "source": [
    "execute_orders(orders_to_rebalance, transactions, positions, trades)\n",
    "summary(transactions, positions, trades)"
   ]
  },
  {
   "cell_type": "code",
   "execution_count": 43,
   "metadata": {
    "collapsed": false
   },
   "outputs": [
    {
     "data": {
      "text/html": [
       "<div>\n",
       "<table border=\"1\" class=\"dataframe\">\n",
       "  <thead>\n",
       "    <tr style=\"text-align: right;\">\n",
       "      <th></th>\n",
       "      <th>cost</th>\n",
       "      <th>shares</th>\n",
       "      <th>current_price</th>\n",
       "      <th>market_value</th>\n",
       "      <th>profit</th>\n",
       "      <th>weight</th>\n",
       "    </tr>\n",
       "    <tr>\n",
       "      <th>symbol</th>\n",
       "      <th></th>\n",
       "      <th></th>\n",
       "      <th></th>\n",
       "      <th></th>\n",
       "      <th></th>\n",
       "      <th></th>\n",
       "    </tr>\n",
       "  </thead>\n",
       "  <tbody>\n",
       "    <tr>\n",
       "      <th>AKBNK.IS</th>\n",
       "      <td>499999.56</td>\n",
       "      <td>62189</td>\n",
       "      <td>8.04</td>\n",
       "      <td>499999.56</td>\n",
       "      <td>0.0</td>\n",
       "      <td>0.5</td>\n",
       "    </tr>\n",
       "    <tr>\n",
       "      <th>GARAN.IS</th>\n",
       "      <td>499999.35</td>\n",
       "      <td>62893</td>\n",
       "      <td>7.95</td>\n",
       "      <td>499999.35</td>\n",
       "      <td>0.0</td>\n",
       "      <td>0.5</td>\n",
       "    </tr>\n",
       "  </tbody>\n",
       "</table>\n",
       "</div>"
      ],
      "text/plain": [
       "               cost  shares  current_price  market_value  profit  weight\n",
       "symbol                                                                  \n",
       "AKBNK.IS  499999.56   62189           8.04     499999.56     0.0     0.5\n",
       "GARAN.IS  499999.35   62893           7.95     499999.35     0.0     0.5"
      ]
     },
     "execution_count": 43,
     "metadata": {},
     "output_type": "execute_result"
    }
   ],
   "source": [
    "portfolio = calculate_portfolio(positions)\n",
    "current_performance(portfolio)\n",
    "portfolio"
   ]
  },
  {
   "cell_type": "markdown",
   "metadata": {},
   "source": [
    "# Backtest\n",
    "[TOC](#TableOfContents)\n",
    "\n",
    "<img src=\"https://docs.google.com/drawings/d/1_85KGJuBXS-LS1301OM5NjgLLK42Rw1s-uVmgNU3GaQ/pub?w=900&amp;h=217\">"
   ]
  },
  {
   "cell_type": "markdown",
   "metadata": {},
   "source": [
    "## Algoritm Example: Beta\n",
    "\n",
    "- Repeat each month the following procedure:\n",
    "    - Calculate beta values of each stocks against BIST 100 index. **time window** *for beta calculation?*\n",
    "    - Choose 10 stocks with the highest beta value.\n",
    "    - Rebalance the portfolio to be equal weight. "
   ]
  },
  {
   "cell_type": "code",
   "execution_count": 44,
   "metadata": {
    "collapsed": false
   },
   "outputs": [],
   "source": [
    "capital_base = 100000\n",
    "start, end = np.datetime64('2016-01-20 00:00:00'), np.datetime64('2016-07-18 00:00:00')\n",
    "running_points = [date for date in prices.index if start <= date <= end]"
   ]
  },
  {
   "cell_type": "markdown",
   "metadata": {},
   "source": [
    "http://markets.ft.com/data/lexicon/term/beta\n",
    "\n",
    "We use Beta 5Y from the Multex Ratios and Statistics table, which is provided to us by Reuters. The Market Guide Beta is the slope of the 60 month regression line of the percentage price change of the stock relative to the percentage price change of the S&P 500. Beta values are not calculated if less than 24 months of pricing is available."
   ]
  },
  {
   "cell_type": "code",
   "execution_count": 45,
   "metadata": {
    "collapsed": false
   },
   "outputs": [],
   "source": [
    "def beta(price_data, start, end):\n",
    "    returns = (prices.loc[start:end]\n",
    "               .resample('3BMS', 'first')\n",
    "               .pct_change()\n",
    "               .dropna())\n",
    "    \n",
    "    beta_values = {symbol: linregress(returns[\"XU100.IS\"], returns[symbol])[0] \n",
    "                   for symbol in price_data.columns if symbol != 'XU100.IS'}\n",
    "    return beta_values"
   ]
  },
  {
   "cell_type": "code",
   "execution_count": 46,
   "metadata": {
    "collapsed": false
   },
   "outputs": [
    {
     "name": "stdout",
     "output_type": "stream",
     "text": [
      "2016-01-29 00:00:00\n",
      "--------------------\n",
      "AFYON.IS 56.9642159504\n",
      "GOODY.IS 6.87604665207\n",
      "DOAS.IS 5.19504241764\n",
      "AEFES.IS 3.51989365886\n",
      "KOZAL.IS 3.3448762139\n",
      "AKSA.IS 3.12012336438\n",
      "EREGL.IS 2.84900427814\n",
      "SISE.IS 2.51218079997\n",
      "TCELL.IS 2.10369051414\n",
      "FROTO.IS 2.09457851314\n",
      "PETKM.IS 1.81512146095\n",
      "TRKCM.IS 1.48578088376\n",
      "THYAO.IS 1.18962314346\n",
      "MGROS.IS 1.15606357034\n",
      "TKFEN.IS 1.00811513171\n",
      "GARAN.IS 1.00615148771\n",
      "AKBNK.IS 0.886587616544\n",
      "YKBNK.IS 0.867160616649\n",
      "HALKB.IS 0.855486536853\n",
      "ALARK.IS 0.820330070269\n",
      "VAKBN.IS 0.750041809138\n",
      "ZOREN.IS 0.646334486257\n",
      "VAKFN.IS 0.251506076805\n",
      "CIMSA.IS -0.00851550187079\n",
      "AKENR.IS -0.796155439582\n",
      "ULKER.IS -1.00029164062\n",
      "KARSN.IS -1.51552933437\n",
      "TMSN.IS -1.73699367046\n",
      "BJKAS.IS -3.00339814457\n",
      "{'DOAS.IS': 0.2, 'AFYON.IS': 0.2, 'AEFES.IS': 0.2, 'KOZAL.IS': 0.2, 'GOODY.IS': 0.2}\n",
      "Before Orders\n",
      "--------------------\n",
      "[]\n",
      " \n",
      "Orders\n",
      "--------------------\n",
      "  action  shares    symbol        time\n",
      "0    buy    2059   DOAS.IS  2016-01-29\n",
      "1    buy    3384  AFYON.IS  2016-01-29\n",
      "2    buy    1108  AEFES.IS  2016-01-29\n",
      "3    buy    1594  KOZAL.IS  2016-01-29\n",
      "4    buy  417101  GOODY.IS  2016-01-29\n",
      " \n",
      "After Orders\n",
      "--------------------\n",
      "                 cost  shares  current_price  market_value  profit    weight\n",
      "symbol                                                                      \n",
      "AEFES.IS  19999.40000    1108       18.05000   19999.40000     0.0  0.200036\n",
      "AFYON.IS  19999.44000    3384        5.91000   19999.44000     0.0  0.200036\n",
      "DOAS.IS   19991.44870    2059        9.70930   19991.44870     0.0  0.199956\n",
      "GOODY.IS  19999.99295  417101        0.04795   19999.99295     0.0  0.200042\n",
      "KOZAL.IS  19988.76000    1594       12.54000   19988.76000     0.0  0.199930\n",
      " \n",
      "2016-02-29 00:00:00\n",
      "--------------------\n",
      "AFYON.IS 56.9642159504\n",
      "GOODY.IS 6.87604665207\n",
      "DOAS.IS 5.19504241764\n",
      "AEFES.IS 3.51989365886\n",
      "KOZAL.IS 3.3448762139\n",
      "AKSA.IS 3.12012336438\n",
      "EREGL.IS 2.84900427814\n",
      "SISE.IS 2.51218079997\n",
      "TCELL.IS 2.10369051414\n",
      "FROTO.IS 2.09457851314\n",
      "PETKM.IS 1.81512146095\n",
      "TRKCM.IS 1.48578088376\n",
      "THYAO.IS 1.18962314346\n",
      "MGROS.IS 1.15606357034\n",
      "TKFEN.IS 1.00811513171\n",
      "GARAN.IS 1.00615148771\n",
      "AKBNK.IS 0.886587616544\n",
      "YKBNK.IS 0.867160616649\n",
      "HALKB.IS 0.855486536853\n",
      "ALARK.IS 0.820330070269\n",
      "VAKBN.IS 0.750041809138\n",
      "ZOREN.IS 0.646334486257\n",
      "VAKFN.IS 0.251506076805\n",
      "CIMSA.IS -0.00851550187079\n",
      "AKENR.IS -0.796155439582\n",
      "ULKER.IS -1.00029164062\n",
      "KARSN.IS -1.51552933437\n",
      "TMSN.IS -1.73699367046\n",
      "BJKAS.IS -3.00339814457\n",
      "{'DOAS.IS': 0.2, 'AFYON.IS': 0.2, 'AEFES.IS': 0.2, 'KOZAL.IS': 0.2, 'GOODY.IS': 0.2}\n",
      "Before Orders\n",
      "--------------------\n",
      "                 cost  shares  current_price  market_value      profit  \\\n",
      "symbol                                                                   \n",
      "AEFES.IS  19999.40000    1108       16.98000   18813.84000 -1185.56000   \n",
      "AFYON.IS  19999.44000    3384        5.98000   20236.32000   236.88000   \n",
      "DOAS.IS   19991.44870    2059       10.08480   20764.60320   773.15450   \n",
      "GOODY.IS  19999.99295  417101        0.04646   19378.51246  -621.48049   \n",
      "KOZAL.IS  19988.76000    1594       16.24000   25886.56000  5897.80000   \n",
      "\n",
      "            weight  \n",
      "symbol              \n",
      "AEFES.IS  0.179043  \n",
      "AFYON.IS  0.192580  \n",
      "DOAS.IS   0.197608  \n",
      "GOODY.IS  0.184417  \n",
      "KOZAL.IS  0.246351  \n",
      " \n",
      "Orders\n",
      "--------------------\n",
      "  action  shares    symbol        time\n",
      "0    buy      24   DOAS.IS  2016-02-29\n",
      "1    buy     130  AFYON.IS  2016-02-29\n",
      "2    buy     129  AEFES.IS  2016-02-29\n",
      "3   sell     299  KOZAL.IS  2016-02-29\n",
      "4    buy   35244  GOODY.IS  2016-02-29\n",
      " \n",
      "After Orders\n",
      "--------------------\n",
      "                 cost  shares  current_price  market_value      profit  \\\n",
      "symbol                                                                   \n",
      "AEFES.IS  22189.82000    1237       16.98000    21004.2600 -1185.56000   \n",
      "AFYON.IS  20776.84000    3514        5.98000    21013.7200   236.88000   \n",
      "DOAS.IS   20233.48390    2083       10.08480    21006.6384   773.15450   \n",
      "GOODY.IS  21637.42919  452345        0.04646    21015.9487  -621.48049   \n",
      "KOZAL.IS  16239.30000    1295       16.24000    21030.8000  4791.50000   \n",
      "\n",
      "            weight  \n",
      "symbol              \n",
      "AEFES.IS  0.199905  \n",
      "AFYON.IS  0.199995  \n",
      "DOAS.IS   0.199927  \n",
      "GOODY.IS  0.200016  \n",
      "KOZAL.IS  0.200157  \n",
      " \n",
      "2016-03-31 00:00:00\n",
      "--------------------\n",
      "AFYON.IS 56.9642159504\n",
      "GOODY.IS 6.87604665207\n",
      "DOAS.IS 5.19504241764\n",
      "AEFES.IS 3.51989365886\n",
      "KOZAL.IS 3.3448762139\n",
      "AKSA.IS 3.12012336438\n",
      "EREGL.IS 2.84900427814\n",
      "SISE.IS 2.51218079997\n",
      "TCELL.IS 2.10369051414\n",
      "FROTO.IS 2.09457851314\n",
      "PETKM.IS 1.81512146095\n",
      "TRKCM.IS 1.48578088376\n",
      "THYAO.IS 1.18962314346\n",
      "MGROS.IS 1.15606357034\n",
      "TKFEN.IS 1.00811513171\n",
      "GARAN.IS 1.00615148771\n",
      "AKBNK.IS 0.886587616544\n",
      "YKBNK.IS 0.867160616649\n",
      "HALKB.IS 0.855486536853\n",
      "ALARK.IS 0.820330070269\n",
      "VAKBN.IS 0.750041809138\n",
      "ZOREN.IS 0.646334486257\n",
      "VAKFN.IS 0.251506076805\n",
      "CIMSA.IS -0.00851550187079\n",
      "AKENR.IS -0.796155439582\n",
      "ULKER.IS -1.00029164062\n",
      "KARSN.IS -1.51552933437\n",
      "TMSN.IS -1.73699367046\n",
      "BJKAS.IS -3.00339814457\n",
      "{'DOAS.IS': 0.2, 'AFYON.IS': 0.2, 'AEFES.IS': 0.2, 'KOZAL.IS': 0.2, 'GOODY.IS': 0.2}\n",
      "Before Orders\n",
      "--------------------\n",
      "                 cost  shares  current_price  market_value       profit  \\\n",
      "symbol                                                                    \n",
      "AEFES.IS  22189.82000    1237       21.16000   26174.92000   3985.10000   \n",
      "AFYON.IS  20776.84000    3514        6.37000   22384.18000   1607.34000   \n",
      "DOAS.IS   20233.48390    2083       11.24710   23427.70930   3194.22540   \n",
      "GOODY.IS  21637.42919  452345        0.08757   39611.85165  17974.42246   \n",
      "KOZAL.IS  16239.30000    1295       18.07000   23400.65000   7161.35000   \n",
      "\n",
      "            weight  \n",
      "symbol              \n",
      "AEFES.IS  0.193889  \n",
      "AFYON.IS  0.165810  \n",
      "DOAS.IS   0.173539  \n",
      "GOODY.IS  0.293423  \n",
      "KOZAL.IS  0.173339  \n",
      " \n",
      "Orders\n",
      "--------------------\n",
      "  action  shares    symbol        time\n",
      "0    buy     317   DOAS.IS  2016-03-31\n",
      "1    buy     724  AFYON.IS  2016-03-31\n",
      "2    buy      38  AEFES.IS  2016-03-31\n",
      "3    buy     199  KOZAL.IS  2016-03-31\n",
      "4   sell  144021  GOODY.IS  2016-03-31\n",
      " \n",
      "After Orders\n",
      "--------------------\n",
      "                 cost  shares  current_price  market_value       profit  \\\n",
      "symbol                                                                    \n",
      "AEFES.IS  22993.90000    1275       21.16000   26979.00000   3985.10000   \n",
      "AFYON.IS  25388.72000    4238        6.37000   26996.06000   1607.34000   \n",
      "DOAS.IS   23798.81460    2400       11.24710   26993.04000   3194.22540   \n",
      "GOODY.IS  14731.62224  308324        0.08757   26999.93268  12268.31044   \n",
      "KOZAL.IS  19835.23000    1494       18.07000   26996.58000   7161.35000   \n",
      "\n",
      "            weight  \n",
      "symbol              \n",
      "AEFES.IS  0.199897  \n",
      "AFYON.IS  0.200023  \n",
      "DOAS.IS   0.200001  \n",
      "GOODY.IS  0.200052  \n",
      "KOZAL.IS  0.200027  \n",
      " \n",
      "2016-04-29 00:00:00\n",
      "--------------------\n",
      "BJKAS.IS 5.33745899346\n",
      "GOODY.IS 3.70296155031\n",
      "AFYON.IS 2.73888471627\n",
      "EREGL.IS 2.26335412215\n",
      "KOZAL.IS 2.17678028137\n",
      "TKFEN.IS 1.91104031464\n",
      "YKBNK.IS 1.47010564428\n",
      "DOAS.IS 1.28165996194\n",
      "VAKBN.IS 1.27942651058\n",
      "VAKFN.IS 1.25114330665\n",
      "PETKM.IS 1.2243493208\n",
      "FROTO.IS 1.18892366153\n",
      "TCELL.IS 1.17502050664\n",
      "AKBNK.IS 1.15415096839\n",
      "TRKCM.IS 1.15112004053\n",
      "AEFES.IS 1.0820661819\n",
      "ALARK.IS 1.04582594283\n",
      "GARAN.IS 0.924882254881\n",
      "SISE.IS 0.819848136752\n",
      "ULKER.IS 0.651242173138\n",
      "THYAO.IS 0.577994374221\n",
      "MGROS.IS 0.432742947264\n",
      "AKENR.IS 0.411572932002\n",
      "CIMSA.IS 0.409761734264\n",
      "HALKB.IS 0.29317300613\n",
      "ZOREN.IS 0.177975826959\n",
      "AKSA.IS -0.164770083225\n",
      "KARSN.IS -0.444213608009\n",
      "TMSN.IS -1.12383635356\n",
      "{'AFYON.IS': 0.2, 'BJKAS.IS': 0.2, 'EREGL.IS': 0.2, 'GOODY.IS': 0.2, 'KOZAL.IS': 0.2}\n",
      "Before Orders\n",
      "--------------------\n",
      "                 cost  shares  current_price  market_value       profit  \\\n",
      "symbol                                                                    \n",
      "AEFES.IS  22993.90000    1275       21.72000   27693.00000   4699.10000   \n",
      "AFYON.IS  25388.72000    4238        6.15000   26063.70000    674.98000   \n",
      "DOAS.IS   23798.81460    2400       12.08000   28992.00000   5193.18540   \n",
      "GOODY.IS  14731.62224  308324        0.08822   27200.34328  12468.72104   \n",
      "KOZAL.IS  19835.23000    1494       18.30000   27340.20000   7504.97000   \n",
      "\n",
      "            weight  \n",
      "symbol              \n",
      "AEFES.IS  0.201713  \n",
      "AFYON.IS  0.189845  \n",
      "DOAS.IS   0.211175  \n",
      "GOODY.IS  0.198124  \n",
      "KOZAL.IS  0.199143  \n",
      " \n",
      "Orders\n",
      "--------------------\n",
      "  action  shares    symbol        time\n",
      "0    buy    5310  BJKAS.IS  2016-04-29\n",
      "1    buy    6309  EREGL.IS  2016-04-29\n",
      "2   sell    1275  AEFES.IS  2016-04-29\n",
      "3    buy       6  KOZAL.IS  2016-04-29\n",
      "4   sell    2400   DOAS.IS  2016-04-29\n",
      "5    buy     226  AFYON.IS  2016-04-29\n",
      "6    buy    2918  GOODY.IS  2016-04-29\n",
      " \n",
      "After Orders\n",
      "--------------------\n",
      "                 cost  shares  current_price  market_value       profit  \\\n",
      "symbol                                                                    \n",
      "AEFES.IS      0.00000       0       21.72000       0.00000      0.00000   \n",
      "AFYON.IS  26778.62000    4464        6.15000   27453.60000    674.98000   \n",
      "BJKAS.IS  27452.70000    5310        5.17000   27452.70000      0.00000   \n",
      "DOAS.IS       0.00000       0       12.08000       0.00000      0.00000   \n",
      "EREGL.IS  27454.18131    6309        4.35159   27454.18131      0.00000   \n",
      "GOODY.IS  14989.04820  311242        0.08822   27457.76924  12468.72104   \n",
      "KOZAL.IS  19945.03000    1500       18.30000   27450.00000   7504.97000   \n",
      "\n",
      "            weight  \n",
      "symbol              \n",
      "AEFES.IS  0.000000  \n",
      "AFYON.IS  0.200000  \n",
      "BJKAS.IS  0.199993  \n",
      "DOAS.IS   0.000000  \n",
      "EREGL.IS  0.200004  \n",
      "GOODY.IS  0.200030  \n",
      "KOZAL.IS  0.199973  \n",
      " \n",
      "2016-05-31 00:00:00\n",
      "--------------------\n",
      "BJKAS.IS 5.33745899346\n",
      "GOODY.IS 3.70296155031\n",
      "AFYON.IS 2.73888471627\n",
      "EREGL.IS 2.26335412215\n",
      "KOZAL.IS 2.17678028137\n",
      "TKFEN.IS 1.91104031464\n",
      "YKBNK.IS 1.47010564428\n",
      "DOAS.IS 1.28165996194\n",
      "VAKBN.IS 1.27942651058\n",
      "VAKFN.IS 1.25114330665\n",
      "PETKM.IS 1.2243493208\n",
      "FROTO.IS 1.18892366153\n",
      "TCELL.IS 1.17502050664\n",
      "AKBNK.IS 1.15415096839\n",
      "TRKCM.IS 1.15112004053\n",
      "AEFES.IS 1.0820661819\n",
      "ALARK.IS 1.04582594283\n",
      "GARAN.IS 0.924882254881\n",
      "SISE.IS 0.819848136752\n",
      "ULKER.IS 0.651242173138\n",
      "THYAO.IS 0.577994374221\n",
      "MGROS.IS 0.432742947264\n",
      "AKENR.IS 0.411572932002\n",
      "CIMSA.IS 0.409761734264\n",
      "HALKB.IS 0.29317300613\n",
      "ZOREN.IS 0.177975826959\n",
      "AKSA.IS -0.164770083225\n",
      "KARSN.IS -0.444213608009\n",
      "TMSN.IS -1.12383635356\n",
      "{'AFYON.IS': 0.2, 'BJKAS.IS': 0.2, 'EREGL.IS': 0.2, 'GOODY.IS': 0.2, 'KOZAL.IS': 0.2}\n",
      "Before Orders\n",
      "--------------------\n",
      "                 cost  shares  current_price  market_value        profit  \\\n",
      "symbol                                                                     \n",
      "AEFES.IS      0.00000       0       18.70000  0.000000e+00  0.000000e+00   \n",
      "AFYON.IS  26778.62000    4464        5.84000  2.606976e+04 -7.088600e+02   \n",
      "BJKAS.IS  27452.70000    5310        3.22000  1.709820e+04 -1.035450e+04   \n",
      "DOAS.IS       0.00000       0       10.92000  0.000000e+00  0.000000e+00   \n",
      "EREGL.IS  27454.18131    6309        4.12000  2.599308e+04 -1.461101e+03   \n",
      "GOODY.IS  14989.04820  311242        4.69645  1.461732e+06  1.446743e+06   \n",
      "KOZAL.IS  19945.03000    1500       13.74000  2.061000e+04  6.649700e+02   \n",
      "\n",
      "            weight  \n",
      "symbol              \n",
      "AEFES.IS  0.000000  \n",
      "AFYON.IS  0.016803  \n",
      "BJKAS.IS  0.011020  \n",
      "DOAS.IS   0.000000  \n",
      "EREGL.IS  0.016753  \n",
      "GOODY.IS  0.942139  \n",
      "KOZAL.IS  0.013284  \n",
      " \n",
      "Orders\n",
      "--------------------\n",
      "  action  shares    symbol        time\n",
      "0    buy   91056  BJKAS.IS  2016-05-31\n",
      "1    buy   69006  EREGL.IS  2016-05-31\n",
      "2    buy   21083  KOZAL.IS  2016-05-31\n",
      "3    buy   48669  AFYON.IS  2016-05-31\n",
      "4   sell  245170  GOODY.IS  2016-05-31\n",
      " \n",
      "After Orders\n",
      "--------------------\n",
      "                  cost  shares  current_price  market_value        profit  \\\n",
      "symbol                                                                      \n",
      "AEFES.IS       0.00000       0       18.70000        0.0000       0.00000   \n",
      "AFYON.IS  311005.58000   53133        5.84000   310296.7200    -708.86000   \n",
      "BJKAS.IS  320653.02000   96366        3.22000   310298.5200  -10354.50000   \n",
      "DOAS.IS        0.00000       0       10.92000        0.0000       0.00000   \n",
      "EREGL.IS  311758.90131   75315        4.12000   310297.8000   -1461.10131   \n",
      "GOODY.IS    3233.14670   66072        4.69645   310303.8444  307070.69770   \n",
      "KOZAL.IS  309625.45000   22583       13.74000   310290.4200     664.97000   \n",
      "\n",
      "            weight  \n",
      "symbol              \n",
      "AEFES.IS  0.000000  \n",
      "AFYON.IS  0.200000  \n",
      "BJKAS.IS  0.200001  \n",
      "DOAS.IS   0.000000  \n",
      "EREGL.IS  0.200000  \n",
      "GOODY.IS  0.200004  \n",
      "KOZAL.IS  0.199995  \n",
      " \n",
      "2016-06-30 00:00:00\n",
      "--------------------\n",
      "BJKAS.IS 5.33745899346\n",
      "GOODY.IS 3.70296155031\n",
      "AFYON.IS 2.73888471627\n",
      "EREGL.IS 2.26335412215\n",
      "KOZAL.IS 2.17678028137\n",
      "TKFEN.IS 1.91104031464\n",
      "YKBNK.IS 1.47010564428\n",
      "DOAS.IS 1.28165996194\n",
      "VAKBN.IS 1.27942651058\n",
      "VAKFN.IS 1.25114330665\n",
      "PETKM.IS 1.2243493208\n",
      "FROTO.IS 1.18892366153\n",
      "TCELL.IS 1.17502050664\n",
      "AKBNK.IS 1.15415096839\n",
      "TRKCM.IS 1.15112004053\n",
      "AEFES.IS 1.0820661819\n",
      "ALARK.IS 1.04582594283\n",
      "GARAN.IS 0.924882254881\n",
      "SISE.IS 0.819848136752\n",
      "ULKER.IS 0.651242173138\n",
      "THYAO.IS 0.577994374221\n",
      "MGROS.IS 0.432742947264\n",
      "AKENR.IS 0.411572932002\n",
      "CIMSA.IS 0.409761734264\n",
      "HALKB.IS 0.29317300613\n",
      "ZOREN.IS 0.177975826959\n",
      "AKSA.IS -0.164770083225\n",
      "KARSN.IS -0.444213608009\n",
      "TMSN.IS -1.12383635356\n",
      "{'AFYON.IS': 0.2, 'BJKAS.IS': 0.2, 'EREGL.IS': 0.2, 'GOODY.IS': 0.2, 'KOZAL.IS': 0.2}\n",
      "Before Orders\n",
      "--------------------\n",
      "                  cost  shares  current_price  market_value        profit  \\\n",
      "symbol                                                                      \n",
      "AEFES.IS       0.00000       0          19.45          0.00       0.00000   \n",
      "AFYON.IS  311005.58000   53133           5.46     290106.18  -20899.40000   \n",
      "BJKAS.IS  320653.02000   96366           3.47     334390.02   13737.00000   \n",
      "DOAS.IS        0.00000       0          10.60          0.00       0.00000   \n",
      "EREGL.IS  311758.90131   75315           4.06     305778.90   -5980.00131   \n",
      "GOODY.IS    3233.14670   66072           3.32     219359.04  216125.89330   \n",
      "KOZAL.IS  309625.45000   22583          12.73     287481.59  -22143.86000   \n",
      "\n",
      "            weight  \n",
      "symbol              \n",
      "AEFES.IS  0.000000  \n",
      "AFYON.IS  0.201867  \n",
      "BJKAS.IS  0.232681  \n",
      "DOAS.IS   0.000000  \n",
      "EREGL.IS  0.212773  \n",
      "GOODY.IS  0.152638  \n",
      "KOZAL.IS  0.200041  \n",
      " \n",
      "Orders\n",
      "--------------------\n",
      "  action  shares    symbol        time\n",
      "0   sell   13535  BJKAS.IS  2016-06-30\n",
      "1   sell    4521  EREGL.IS  2016-06-30\n",
      "2   sell       4  KOZAL.IS  2016-06-30\n",
      "3   sell     491  AFYON.IS  2016-06-30\n",
      "4    buy   20501  GOODY.IS  2016-06-30\n",
      " \n",
      "After Orders\n",
      "--------------------\n",
      "                  cost  shares  current_price  market_value        profit  \\\n",
      "symbol                                                                      \n",
      "AEFES.IS       0.00000       0          19.45          0.00       0.00000   \n",
      "AFYON.IS  308103.77000   52642           5.46     287425.32  -20678.45000   \n",
      "BJKAS.IS  266715.82000   82831           3.47     287423.57   20707.75000   \n",
      "DOAS.IS        0.00000       0          10.60          0.00       0.00000   \n",
      "EREGL.IS  292085.36292   70794           4.06     287423.64   -4661.72292   \n",
      "GOODY.IS   71296.46670   86573           3.32     287422.36  216125.89330   \n",
      "KOZAL.IS  309575.29000   22579          12.73     287430.67  -22144.62000   \n",
      "\n",
      "            weight  \n",
      "symbol              \n",
      "AEFES.IS  0.000000  \n",
      "AFYON.IS  0.200000  \n",
      "BJKAS.IS  0.199999  \n",
      "DOAS.IS   0.000000  \n",
      "EREGL.IS  0.199999  \n",
      "GOODY.IS  0.199998  \n",
      "KOZAL.IS  0.200004  \n",
      " \n"
     ]
    },
    {
     "name": "stderr",
     "output_type": "stream",
     "text": [
      "/home/can/.local/lib/python2.7/site-packages/ipykernel/__main__.py:3: FutureWarning: how in .resample() is deprecated\n",
      "the new syntax is .resample(...).first()\n",
      "  app.launch_new_instance()\n"
     ]
    }
   ],
   "source": [
    "portfolio, transactions, positions, trades = [], [], [], []\n",
    "\n",
    "for t in running_points:\n",
    "    time = t.strftime(\"%Y-%m-%d\")\n",
    "    \n",
    "    if t in pd.date_range(start=running_points[0], periods=12, freq='BM'):\n",
    "        print t\n",
    "        print '-'*20\n",
    "        beta_values = beta(prices, prices.index[0], t)\n",
    "        for s in sorted(beta_values, key=beta_values.get, reverse=True):\n",
    "            print s, beta_values[s]\n",
    "            \n",
    "        n = 5    \n",
    "        new_weights = {s: 1./n for s in sorted(beta_values, key=beta_values.get, reverse=True)[:n]}\n",
    "        print new_weights\n",
    "        \n",
    "        target_value = None if len(portfolio) else capital_base\n",
    "        \n",
    "        if len(portfolio) > 0:\n",
    "            current_performance(portfolio, time)\n",
    "        \n",
    "        rebalance_orders = rebalance(portfolio, new_weights, target_value, time)\n",
    "        \n",
    "        print \"Before Orders\"\n",
    "        print \"-\"*20\n",
    "        print portfolio\n",
    "        print \" \"\n",
    "        \n",
    "        print \"Orders\"\n",
    "        print \"-\"*20\n",
    "        print pd.DataFrame(rebalance_orders)\n",
    "        print \" \"\n",
    "        execute_orders(rebalance_orders, transactions, positions, trades)\n",
    "        portfolio = calculate_portfolio(positions)\n",
    "        current_performance(portfolio, time)\n",
    "        \n",
    "        print \"After Orders\"\n",
    "        print \"-\"*20 \n",
    "        print portfolio\n",
    "        print \" \"\n",
    "        \n",
    "portfolio = calculate_portfolio(positions)"
   ]
  },
  {
   "cell_type": "code",
   "execution_count": 47,
   "metadata": {
    "collapsed": false
   },
   "outputs": [
    {
     "name": "stdout",
     "output_type": "stream",
     "text": [
      "                          ***Transactions***                          \n",
      "----------------------------------------------------------------------\n",
      "   action   commision     price  shares    status    symbol        time\n",
      "0     buy    1.999145   9.70930    2059  accepted   DOAS.IS  2016-01-29\n",
      "1     buy    1.999944   5.91000    3384  accepted  AFYON.IS  2016-01-29\n",
      "2     buy    1.999940  18.05000    1108  accepted  AEFES.IS  2016-01-29\n",
      "3     buy    1.998876  12.54000    1594  accepted  KOZAL.IS  2016-01-29\n",
      "4     buy    1.999999   0.04795  417101  accepted  GOODY.IS  2016-01-29\n",
      "5     buy    0.024204  10.08480      24  accepted   DOAS.IS  2016-02-29\n",
      "6     buy    0.077740   5.98000     130  accepted  AFYON.IS  2016-02-29\n",
      "7     buy    0.219042  16.98000     129  accepted  AEFES.IS  2016-02-29\n",
      "8    sell    0.485576  16.24000     299  accepted  KOZAL.IS  2016-02-29\n",
      "9     buy    0.163744   0.04646   35244  accepted  GOODY.IS  2016-02-29\n",
      "10    buy    0.356533  11.24710     317  accepted   DOAS.IS  2016-03-31\n",
      "11    buy    0.461188   6.37000     724  accepted  AFYON.IS  2016-03-31\n",
      "12    buy    0.080408  21.16000      38  accepted  AEFES.IS  2016-03-31\n",
      "13    buy    0.359593  18.07000     199  accepted  KOZAL.IS  2016-03-31\n",
      "14   sell    1.261192   0.08757  144021  accepted  GOODY.IS  2016-03-31\n",
      "15    buy    2.745270   5.17000    5310  accepted  BJKAS.IS  2016-04-29\n",
      "16    buy    2.745418   4.35159    6309  accepted  EREGL.IS  2016-04-29\n",
      "17   sell    2.769300  21.72000    1275  accepted  AEFES.IS  2016-04-29\n",
      "18    buy    0.010980  18.30000       6  accepted  KOZAL.IS  2016-04-29\n",
      "19   sell    2.899200  12.08000    2400  accepted   DOAS.IS  2016-04-29\n",
      "20    buy    0.138990   6.15000     226  accepted  AFYON.IS  2016-04-29\n",
      "21    buy    0.025743   0.08822    2918  accepted  GOODY.IS  2016-04-29\n",
      "22    buy   29.320032   3.22000   91056  accepted  BJKAS.IS  2016-05-31\n",
      "23    buy   28.430472   4.12000   69006  accepted  EREGL.IS  2016-05-31\n",
      "24    buy   28.968042  13.74000   21083  accepted  KOZAL.IS  2016-05-31\n",
      "25    buy   28.422696   5.84000   48669  accepted  AFYON.IS  2016-05-31\n",
      "26   sell  115.142865   4.69645  245170  accepted  GOODY.IS  2016-05-31\n",
      "27   sell    4.696645   3.47000   13535  accepted  BJKAS.IS  2016-06-30\n",
      "28   sell    1.835526   4.06000    4521  accepted  EREGL.IS  2016-06-30\n",
      "29   sell    0.005092  12.73000       4  accepted  KOZAL.IS  2016-06-30\n",
      "30   sell    0.268086   5.46000     491  accepted  AFYON.IS  2016-06-30\n",
      "31    buy    6.806332   3.32000   20501  accepted  GOODY.IS  2016-06-30\n",
      "\n",
      "                           ***Positions***                            \n",
      "----------------------------------------------------------------------\n",
      "            cost  initial_shares     price  shares    symbol        time  type\n",
      "0        0.00000            2059   9.70930       0   DOAS.IS  2016-01-29  long\n",
      "1    17097.63000            3384   5.91000    2893  AFYON.IS  2016-01-29  long\n",
      "2        0.00000            1108  18.05000       0  AEFES.IS  2016-01-29  long\n",
      "3    16189.14000            1594  12.54000    1291  KOZAL.IS  2016-01-29  long\n",
      "4     1338.28450          417101   0.04795   27910  GOODY.IS  2016-01-29  long\n",
      "5        0.00000              24  10.08480       0   DOAS.IS  2016-02-29  long\n",
      "6      777.40000             130   5.98000     130  AFYON.IS  2016-02-29  long\n",
      "7        0.00000             129  16.98000       0  AEFES.IS  2016-02-29  long\n",
      "8     1637.43624           35244   0.04646   35244  GOODY.IS  2016-02-29  long\n",
      "9        0.00000             317  11.24710       0   DOAS.IS  2016-03-31  long\n",
      "10    4611.88000             724   6.37000     724  AFYON.IS  2016-03-31  long\n",
      "11       0.00000              38  21.16000       0  AEFES.IS  2016-03-31  long\n",
      "12    3595.93000             199  18.07000     199  KOZAL.IS  2016-03-31  long\n",
      "13       0.00000            5310   5.17000       0  BJKAS.IS  2016-04-29  long\n",
      "14    7780.64292            6309   4.35159    1788  EREGL.IS  2016-04-29  long\n",
      "15     109.80000               6  18.30000       6  KOZAL.IS  2016-04-29  long\n",
      "16    1389.90000             226   6.15000     226  AFYON.IS  2016-04-29  long\n",
      "17     257.42596            2918   0.08822    2918  GOODY.IS  2016-04-29  long\n",
      "18  266715.82000           91056   3.22000   82831  BJKAS.IS  2016-05-31  long\n",
      "19  284304.72000           69006   4.12000   69006  EREGL.IS  2016-05-31  long\n",
      "20  289680.42000           21083  13.74000   21083  KOZAL.IS  2016-05-31  long\n",
      "21  284226.96000           48669   5.84000   48669  AFYON.IS  2016-05-31  long\n",
      "22   68063.32000           20501   3.32000   20501  GOODY.IS  2016-06-30  long\n",
      "\n",
      "                             ***Trades***                             \n",
      "----------------------------------------------------------------------\n",
      "    buy_price        profit  sell_price  shares    symbol        time\n",
      "0    12.54000  1.106300e+03    16.24000     299  KOZAL.IS  2016-02-29\n",
      "1     0.04795  5.706112e+03     0.08757  144021  GOODY.IS  2016-03-31\n",
      "2    18.05000  4.066360e+03    21.72000    1108  AEFES.IS  2016-04-29\n",
      "3    16.98000  6.114600e+02    21.72000     129  AEFES.IS  2016-04-29\n",
      "4    21.16000  2.128000e+01    21.72000      38  AEFES.IS  2016-04-29\n",
      "5     9.70930  4.881271e+03    12.08000    2059   DOAS.IS  2016-04-29\n",
      "6    10.08480  4.788480e+01    12.08000      24   DOAS.IS  2016-04-29\n",
      "7    11.24710  2.640293e+02    12.08000     317   DOAS.IS  2016-04-29\n",
      "8     0.04795  1.139673e+06     4.69645  245170  GOODY.IS  2016-05-31\n",
      "9     5.17000 -9.027000e+03     3.47000    5310  BJKAS.IS  2016-06-30\n",
      "10    3.22000  2.056250e+03     3.47000    8225  BJKAS.IS  2016-06-30\n",
      "11    4.35159 -1.318278e+03     4.06000    4521  EREGL.IS  2016-06-30\n",
      "12   12.54000  7.600000e-01    12.73000       4  KOZAL.IS  2016-06-30\n",
      "13    5.91000 -2.209500e+02     5.46000     491  AFYON.IS  2016-06-30\n"
     ]
    }
   ],
   "source": [
    "summary(transactions, positions, trades)"
   ]
  },
  {
   "cell_type": "code",
   "execution_count": 48,
   "metadata": {
    "collapsed": false
   },
   "outputs": [
    {
     "data": {
      "text/html": [
       "<div>\n",
       "<table border=\"1\" class=\"dataframe\">\n",
       "  <thead>\n",
       "    <tr style=\"text-align: right;\">\n",
       "      <th></th>\n",
       "      <th>cost</th>\n",
       "      <th>shares</th>\n",
       "      <th>current_price</th>\n",
       "      <th>market_value</th>\n",
       "      <th>profit</th>\n",
       "      <th>weight</th>\n",
       "    </tr>\n",
       "    <tr>\n",
       "      <th>symbol</th>\n",
       "      <th></th>\n",
       "      <th></th>\n",
       "      <th></th>\n",
       "      <th></th>\n",
       "      <th></th>\n",
       "      <th></th>\n",
       "    </tr>\n",
       "  </thead>\n",
       "  <tbody>\n",
       "    <tr>\n",
       "      <th>AEFES.IS</th>\n",
       "      <td>0.00000</td>\n",
       "      <td>0</td>\n",
       "      <td>20.14</td>\n",
       "      <td>0.00</td>\n",
       "      <td>0.00000</td>\n",
       "      <td>0.000000</td>\n",
       "    </tr>\n",
       "    <tr>\n",
       "      <th>AFYON.IS</th>\n",
       "      <td>308103.77000</td>\n",
       "      <td>52642</td>\n",
       "      <td>5.48</td>\n",
       "      <td>288478.16</td>\n",
       "      <td>-19625.61000</td>\n",
       "      <td>0.190931</td>\n",
       "    </tr>\n",
       "    <tr>\n",
       "      <th>BJKAS.IS</th>\n",
       "      <td>266715.82000</td>\n",
       "      <td>82831</td>\n",
       "      <td>4.25</td>\n",
       "      <td>352031.75</td>\n",
       "      <td>85315.93000</td>\n",
       "      <td>0.232994</td>\n",
       "    </tr>\n",
       "    <tr>\n",
       "      <th>DOAS.IS</th>\n",
       "      <td>0.00000</td>\n",
       "      <td>0</td>\n",
       "      <td>10.29</td>\n",
       "      <td>0.00</td>\n",
       "      <td>0.00000</td>\n",
       "      <td>0.000000</td>\n",
       "    </tr>\n",
       "    <tr>\n",
       "      <th>EREGL.IS</th>\n",
       "      <td>292085.36292</td>\n",
       "      <td>70794</td>\n",
       "      <td>4.67</td>\n",
       "      <td>330607.98</td>\n",
       "      <td>38522.61708</td>\n",
       "      <td>0.218815</td>\n",
       "    </tr>\n",
       "    <tr>\n",
       "      <th>GOODY.IS</th>\n",
       "      <td>71296.46670</td>\n",
       "      <td>86573</td>\n",
       "      <td>3.58</td>\n",
       "      <td>309931.34</td>\n",
       "      <td>238634.87330</td>\n",
       "      <td>0.205130</td>\n",
       "    </tr>\n",
       "    <tr>\n",
       "      <th>KOZAL.IS</th>\n",
       "      <td>309575.29000</td>\n",
       "      <td>22579</td>\n",
       "      <td>10.18</td>\n",
       "      <td>229854.22</td>\n",
       "      <td>-79721.07000</td>\n",
       "      <td>0.152130</td>\n",
       "    </tr>\n",
       "  </tbody>\n",
       "</table>\n",
       "</div>"
      ],
      "text/plain": [
       "                  cost  shares  current_price  market_value        profit  \\\n",
       "symbol                                                                      \n",
       "AEFES.IS       0.00000       0          20.14          0.00       0.00000   \n",
       "AFYON.IS  308103.77000   52642           5.48     288478.16  -19625.61000   \n",
       "BJKAS.IS  266715.82000   82831           4.25     352031.75   85315.93000   \n",
       "DOAS.IS        0.00000       0          10.29          0.00       0.00000   \n",
       "EREGL.IS  292085.36292   70794           4.67     330607.98   38522.61708   \n",
       "GOODY.IS   71296.46670   86573           3.58     309931.34  238634.87330   \n",
       "KOZAL.IS  309575.29000   22579          10.18     229854.22  -79721.07000   \n",
       "\n",
       "            weight  \n",
       "symbol              \n",
       "AEFES.IS  0.000000  \n",
       "AFYON.IS  0.190931  \n",
       "BJKAS.IS  0.232994  \n",
       "DOAS.IS   0.000000  \n",
       "EREGL.IS  0.218815  \n",
       "GOODY.IS  0.205130  \n",
       "KOZAL.IS  0.152130  "
      ]
     },
     "execution_count": 48,
     "metadata": {},
     "output_type": "execute_result"
    }
   ],
   "source": [
    "current_performance(portfolio, time = '2016-08-04')\n",
    "portfolio"
   ]
  },
  {
   "cell_type": "code",
   "execution_count": 49,
   "metadata": {
    "collapsed": false,
    "scrolled": true
   },
   "outputs": [
    {
     "data": {
      "text/plain": [
       "1510903.45"
      ]
     },
     "execution_count": 49,
     "metadata": {},
     "output_type": "execute_result"
    }
   ],
   "source": [
    "portfolio.market_value.sum()"
   ]
  },
  {
   "cell_type": "code",
   "execution_count": 50,
   "metadata": {
    "collapsed": false
   },
   "outputs": [
    {
     "data": {
      "text/html": [
       "<div>\n",
       "<table border=\"1\" class=\"dataframe\">\n",
       "  <thead>\n",
       "    <tr style=\"text-align: right;\">\n",
       "      <th></th>\n",
       "      <th>time</th>\n",
       "      <th>symbol</th>\n",
       "      <th>paid_dividend</th>\n",
       "    </tr>\n",
       "  </thead>\n",
       "  <tbody>\n",
       "    <tr>\n",
       "      <th>816</th>\n",
       "      <td>2016-04-07</td>\n",
       "      <td>DOAS.IS</td>\n",
       "      <td>3.272736e+03</td>\n",
       "    </tr>\n",
       "    <tr>\n",
       "      <th>1113</th>\n",
       "      <td>2016-05-25</td>\n",
       "      <td>EREGL.IS</td>\n",
       "      <td>1.892700e+03</td>\n",
       "    </tr>\n",
       "    <tr>\n",
       "      <th>1362</th>\n",
       "      <td>2016-05-25</td>\n",
       "      <td>GOODY.IS</td>\n",
       "      <td>1.720580e+06</td>\n",
       "    </tr>\n",
       "  </tbody>\n",
       "</table>\n",
       "</div>"
      ],
      "text/plain": [
       "           time    symbol  paid_dividend\n",
       "816  2016-04-07   DOAS.IS   3.272736e+03\n",
       "1113 2016-05-25  EREGL.IS   1.892700e+03\n",
       "1362 2016-05-25  GOODY.IS   1.720580e+06"
      ]
     },
     "execution_count": 50,
     "metadata": {},
     "output_type": "execute_result"
    }
   ],
   "source": [
    "paid_dividends(transactions, Dividends)"
   ]
  },
  {
   "cell_type": "code",
   "execution_count": 51,
   "metadata": {
    "collapsed": false
   },
   "outputs": [
    {
     "data": {
      "text/html": [
       "<div>\n",
       "<table border=\"1\" class=\"dataframe\">\n",
       "  <thead>\n",
       "    <tr style=\"text-align: right;\">\n",
       "      <th></th>\n",
       "      <th>action</th>\n",
       "      <th>value</th>\n",
       "      <th>symbol</th>\n",
       "    </tr>\n",
       "  </thead>\n",
       "  <tbody>\n",
       "    <tr>\n",
       "      <th>2016-06-01</th>\n",
       "      <td>SPLIT</td>\n",
       "      <td>0.045455</td>\n",
       "      <td>GOODY.IS</td>\n",
       "    </tr>\n",
       "    <tr>\n",
       "      <th>2016-05-25</th>\n",
       "      <td>DIVIDEND</td>\n",
       "      <td>5.528110</td>\n",
       "      <td>GOODY.IS</td>\n",
       "    </tr>\n",
       "    <tr>\n",
       "      <th>2015-05-20</th>\n",
       "      <td>DIVIDEND</td>\n",
       "      <td>0.794024</td>\n",
       "      <td>GOODY.IS</td>\n",
       "    </tr>\n",
       "    <tr>\n",
       "      <th>2015-05-12</th>\n",
       "      <td>DIVIDEND</td>\n",
       "      <td>0.794024</td>\n",
       "      <td>GOODY.IS</td>\n",
       "    </tr>\n",
       "    <tr>\n",
       "      <th>2014-05-06</th>\n",
       "      <td>DIVIDEND</td>\n",
       "      <td>5.243630</td>\n",
       "      <td>GOODY.IS</td>\n",
       "    </tr>\n",
       "    <tr>\n",
       "      <th>2013-05-16</th>\n",
       "      <td>DIVIDEND</td>\n",
       "      <td>0.833000</td>\n",
       "      <td>GOODY.IS</td>\n",
       "    </tr>\n",
       "    <tr>\n",
       "      <th>2012-05-31</th>\n",
       "      <td>DIVIDEND</td>\n",
       "      <td>1.035160</td>\n",
       "      <td>GOODY.IS</td>\n",
       "    </tr>\n",
       "    <tr>\n",
       "      <th>2011-05-26</th>\n",
       "      <td>DIVIDEND</td>\n",
       "      <td>0.230000</td>\n",
       "      <td>GOODY.IS</td>\n",
       "    </tr>\n",
       "  </tbody>\n",
       "</table>\n",
       "</div>"
      ],
      "text/plain": [
       "              action     value    symbol\n",
       "2016-06-01     SPLIT  0.045455  GOODY.IS\n",
       "2016-05-25  DIVIDEND  5.528110  GOODY.IS\n",
       "2015-05-20  DIVIDEND  0.794024  GOODY.IS\n",
       "2015-05-12  DIVIDEND  0.794024  GOODY.IS\n",
       "2014-05-06  DIVIDEND  5.243630  GOODY.IS\n",
       "2013-05-16  DIVIDEND  0.833000  GOODY.IS\n",
       "2012-05-31  DIVIDEND  1.035160  GOODY.IS\n",
       "2011-05-26  DIVIDEND  0.230000  GOODY.IS"
      ]
     },
     "execution_count": 51,
     "metadata": {},
     "output_type": "execute_result"
    }
   ],
   "source": [
    "dividends_and_splits.query(\"symbol == 'GOODY.IS'\")"
   ]
  },
  {
   "cell_type": "code",
   "execution_count": 52,
   "metadata": {
    "collapsed": false
   },
   "outputs": [
    {
     "name": "stdout",
     "output_type": "stream",
     "text": [
      "Algorithm performance: 1565.96392855\n",
      "Benchmark performance: 5.60699416203\n"
     ]
    },
    {
     "data": {
      "image/png": "[encoded data removed]",
      "text/plain": [
       "<matplotlib.figure.Figure at 0x7fc0b3324290>"
      ]
     },
     "metadata": {},
     "output_type": "display_data"
    }
   ],
   "source": [
    "temp = historical_performance(transactions, prices)\n",
    "compare_with_benchmark(temp)"
   ]
  },
  {
   "cell_type": "markdown",
   "metadata": {},
   "source": [
    "## Momentum Strategy\n",
    "\n",
    "**Initialization** \n",
    "1. Calculate absolute momentum (return) of funds and select *n* stocks with the highest moment.\n",
    "2. Equal weight\n",
    "\n",
    "**Every month**\n",
    "1. If the moment of a stock in the portfolio is negative then replace it with the best option\n",
    "2. Rebalance"
   ]
  },
  {
   "cell_type": "code",
   "execution_count": 53,
   "metadata": {
    "collapsed": true
   },
   "outputs": [],
   "source": [
    "# TODO: fill nan values\n",
    "def momentum(price_data, start, end):\n",
    "    momentum_values = {symbol: (price_data[symbol].loc[end] - price_data[symbol].loc[start]) \n",
    "                   for symbol in price_data.columns if symbol != 'XU100.IS'}\n",
    "    return momentum_values"
   ]
  },
  {
   "cell_type": "code",
   "execution_count": 54,
   "metadata": {
    "collapsed": false
   },
   "outputs": [
    {
     "data": {
      "text/plain": [
       "DatetimeIndex(['2016-01-29', '2016-02-29', '2016-03-31', '2016-04-29',\n",
       "               '2016-05-31', '2016-06-30', '2016-07-29', '2016-08-31',\n",
       "               '2016-09-30', '2016-10-31', '2016-11-30', '2016-12-30'],\n",
       "              dtype='datetime64[ns]', freq='BM')"
      ]
     },
     "execution_count": 54,
     "metadata": {},
     "output_type": "execute_result"
    }
   ],
   "source": [
    "pd.date_range(start=running_points[0], periods=12, freq='BM')"
   ]
  },
  {
   "cell_type": "code",
   "execution_count": 55,
   "metadata": {
    "collapsed": false
   },
   "outputs": [
    {
     "name": "stdout",
     "output_type": "stream",
     "text": [
      "2016-01-29 00:00:00\n",
      "--------------------\n",
      "TMSN.IS 4.5\n",
      "FROTO.IS 2.4809\n",
      "BJKAS.IS 1.02\n",
      "PETKM.IS 0.83363\n",
      "AFYON.IS 0.61\n",
      "ALARK.IS 0.54994\n",
      "ULKER.IS 0.39\n",
      "ZOREN.IS 0.23881\n",
      "AKBNK.IS 0.14716\n",
      "SISE.IS 0.10687\n",
      "YKBNK.IS 0.06\n",
      "VAKFN.IS 0.0523\n",
      "GARAN.IS 0.039\n",
      "KARSN.IS 0.03\n",
      "GOODY.IS 0.00778\n",
      "AKSA.IS 0.0\n",
      "AKENR.IS -0.01\n",
      "TRKCM.IS -0.04577\n",
      "VAKBN.IS -0.05946\n",
      "TKFEN.IS -0.11\n",
      "CIMSA.IS -0.6547\n",
      "MGROS.IS -0.7\n",
      "THYAO.IS -0.73\n",
      "EREGL.IS -0.76409\n",
      "HALKB.IS -0.79\n",
      "TCELL.IS -1.23\n",
      "DOAS.IS -1.7434\n",
      "AEFES.IS -2.81\n",
      "KOZAL.IS -12.3\n",
      "{'AFYON.IS': 0.2, 'TMSN.IS': 0.2, 'BJKAS.IS': 0.2, 'FROTO.IS': 0.2, 'PETKM.IS': 0.2}\n",
      "Before Orders\n",
      "--------------------\n",
      "0\n",
      "[]\n",
      " \n",
      "Orders\n",
      "--------------------\n",
      "  action  shares    symbol        time\n",
      "0    buy    3384  AFYON.IS  2016-01-29\n",
      "1    buy    1901   TMSN.IS  2016-01-29\n",
      "2    buy    6734  BJKAS.IS  2016-01-29\n",
      "3    buy     636  FROTO.IS  2016-01-29\n",
      "4    buy    6250  PETKM.IS  2016-01-29\n",
      " \n",
      "99982.3716\n",
      "0\n",
      "After Orders\n",
      "--------------------\n",
      "                cost  shares  current_price  market_value  profit    weight\n",
      "symbol                                                                     \n",
      "AFYON.IS  19999.4400    3384        5.91000    19999.4400     0.0  0.200030\n",
      "BJKAS.IS  19999.9800    6734        2.97000    19999.9800     0.0  0.200035\n",
      "FROTO.IS  19986.6816     636       31.42560    19986.6816     0.0  0.199902\n",
      "PETKM.IS  19997.7500    6250        3.19964    19997.7500     0.0  0.200013\n",
      "TMSN.IS   19998.5200    1901       10.52000    19998.5200     0.0  0.200020\n",
      "99982.3716\n",
      " \n",
      "2016-02-29 00:00:00\n",
      "--------------------\n",
      "TMSN.IS 3.55\n",
      "BJKAS.IS 2.69\n",
      "FROTO.IS 2.5783\n",
      "DOAS.IS 0.9924\n",
      "AKBNK.IS 0.80449\n",
      "AFYON.IS 0.8\n",
      "PETKM.IS 0.73861\n",
      "CIMSA.IS 0.47284\n",
      "SISE.IS 0.47201\n",
      "GARAN.IS 0.443\n",
      "ZOREN.IS 0.33625\n",
      "YKBNK.IS 0.29\n",
      "VAKBN.IS 0.2081\n",
      "TCELL.IS 0.19\n",
      "VAKFN.IS 0.1046\n",
      "KARSN.IS 0.05\n",
      "GOODY.IS 0.00748\n",
      "AKENR.IS -0.04\n",
      "AKSA.IS -0.04601\n",
      "TKFEN.IS -0.05\n",
      "TRKCM.IS -0.05492\n",
      "ALARK.IS -0.07457\n",
      "HALKB.IS -0.12\n",
      "EREGL.IS -0.32613\n",
      "ULKER.IS -0.34\n",
      "THYAO.IS -0.8\n",
      "MGROS.IS -1.32\n",
      "AEFES.IS -4.3\n",
      "KOZAL.IS -6.08\n",
      "{'AFYON.IS': 0.2, 'BJKAS.IS': 0.2, 'TMSN.IS': 0.2, 'FROTO.IS': 0.2, 'PETKM.IS': 0.2}\n",
      "Before Orders\n",
      "--------------------\n",
      "112051.4147\n",
      "                cost  shares  current_price  market_value      profit  \\\n",
      "symbol                                                                  \n",
      "AFYON.IS  19999.4400    3384        5.98000    20236.3200    236.8800   \n",
      "BJKAS.IS  19999.9800    6734        4.68000    31515.1200  11515.1400   \n",
      "FROTO.IS  19986.6816     636       33.95520    21595.5072   1608.8256   \n",
      "PETKM.IS  19997.7500    6250        3.21803    20112.6875    114.9375   \n",
      "TMSN.IS   19998.5200    1901        9.78000    18591.7800  -1406.7400   \n",
      "\n",
      "            weight  \n",
      "symbol              \n",
      "AFYON.IS  0.180599  \n",
      "BJKAS.IS  0.281256  \n",
      "FROTO.IS  0.192729  \n",
      "PETKM.IS  0.179495  \n",
      "TMSN.IS   0.165922  \n",
      " \n",
      "Orders\n",
      "--------------------\n",
      "  action  shares    symbol        time\n",
      "0    buy     363  AFYON.IS  2016-02-29\n",
      "1   sell    1945  BJKAS.IS  2016-02-29\n",
      "2    buy     390   TMSN.IS  2016-02-29\n",
      "3    buy      23  FROTO.IS  2016-02-29\n",
      "4    buy     713  PETKM.IS  2016-02-29\n",
      " \n",
      "9060.36499\n",
      "9102.6\n",
      "After Orders\n",
      "--------------------\n",
      "                 cost  shares  current_price  market_value     profit  \\\n",
      "symbol                                                                  \n",
      "AFYON.IS  22170.18000    3747        5.98000   22407.06000   236.8800   \n",
      "BJKAS.IS  14223.33000    4789        4.68000   22412.52000  8189.1900   \n",
      "FROTO.IS  20767.65120     659       33.95520   22376.47680  1608.8256   \n",
      "PETKM.IS  22292.20539    6963        3.21803   22407.14289   114.9375   \n",
      "TMSN.IS   23812.72000    2291        9.78000   22405.98000 -1406.7400   \n",
      "\n",
      "            weight  \n",
      "symbol              \n",
      "AFYON.IS  0.200047  \n",
      "BJKAS.IS  0.200095  \n",
      "FROTO.IS  0.199774  \n",
      "PETKM.IS  0.200047  \n",
      "TMSN.IS   0.200037  \n",
      "112009.17969\n",
      " \n",
      "2016-03-31 00:00:00\n",
      "--------------------\n",
      "FROTO.IS 2.8993\n",
      "BJKAS.IS 2.89\n",
      "TMSN.IS 1.89\n",
      "KOZAL.IS 1.75\n",
      "DOAS.IS 1.5914\n",
      "ULKER.IS 1.52\n",
      "TKFEN.IS 1.15\n",
      "CIMSA.IS 1.04194\n",
      "PETKM.IS 0.95009\n",
      "AKBNK.IS 0.65168\n",
      "YKBNK.IS 0.6\n",
      "GARAN.IS 0.531\n",
      "VAKBN.IS 0.50541\n",
      "MGROS.IS 0.43\n",
      "ZOREN.IS 0.33518\n",
      "VAKFN.IS 0.3138\n",
      "ALARK.IS 0.29827\n",
      "SISE.IS 0.29389\n",
      "AFYON.IS 0.2\n",
      "EREGL.IS 0.13045\n",
      "TRKCM.IS 0.10069\n",
      "KARSN.IS 0.05\n",
      "GOODY.IS 0.02904\n",
      "AKENR.IS 0.02\n",
      "TCELL.IS -0.03\n",
      "AKSA.IS -0.22085\n",
      "HALKB.IS -0.58\n",
      "THYAO.IS -0.84\n",
      "AEFES.IS -1.91\n",
      "{'AFYON.IS': 0.2, 'BJKAS.IS': 0.2, 'TMSN.IS': 0.2, 'FROTO.IS': 0.2, 'PETKM.IS': 0.2}\n",
      "Before Orders\n",
      "--------------------\n",
      "117341.42468\n",
      "                 cost  shares  current_price  market_value      profit  \\\n",
      "symbol                                                                   \n",
      "AFYON.IS  22170.18000    3747        6.37000   23868.39000  1698.21000   \n",
      "BJKAS.IS  14223.33000    4789        5.05000   24184.45000  9961.12000   \n",
      "FROTO.IS  20767.65120     659       36.13460   23812.70140  3045.05020   \n",
      "PETKM.IS  22292.20539    6963        3.66856   25544.18328  3251.97789   \n",
      "TMSN.IS   23812.72000    2291        8.70000   19931.70000 -3881.02000   \n",
      "\n",
      "            weight  \n",
      "symbol              \n",
      "AFYON.IS  0.203410  \n",
      "BJKAS.IS  0.206103  \n",
      "FROTO.IS  0.202935  \n",
      "PETKM.IS  0.217691  \n",
      "TMSN.IS   0.169861  \n",
      " \n",
      "Orders\n",
      "--------------------\n",
      "  action  shares    symbol        time\n",
      "0   sell      62  AFYON.IS  2016-03-31\n",
      "1   sell     141  BJKAS.IS  2016-03-31\n",
      "2    buy     406   TMSN.IS  2016-03-31\n",
      "3   sell       9  FROTO.IS  2016-03-31\n",
      "4   sell     565  PETKM.IS  2016-03-31\n",
      " \n",
      "3532.2\n",
      "3504.9378\n",
      "After Orders\n",
      "--------------------\n",
      "                 cost  shares  current_price  market_value      profit  \\\n",
      "symbol                                                                   \n",
      "AFYON.IS  21803.76000    3685        6.37000   23473.45000  1669.69000   \n",
      "BJKAS.IS  13804.56000    4648        5.05000   23472.40000  9667.84000   \n",
      "FROTO.IS  20484.82080     650       36.13460   23487.49000  3002.66920   \n",
      "PETKM.IS  20484.40879    6398        3.66856   23471.44688  2987.03809   \n",
      "TMSN.IS   27344.92000    2697        8.70000   23463.90000 -3881.02000   \n",
      "\n",
      "            weight  \n",
      "symbol              \n",
      "AFYON.IS  0.199998  \n",
      "BJKAS.IS  0.199989  \n",
      "FROTO.IS  0.200117  \n",
      "PETKM.IS  0.199980  \n",
      "TMSN.IS   0.199916  \n",
      "117368.68688\n",
      " \n",
      "2016-04-29 00:00:00\n",
      "--------------------\n",
      "FROTO.IS 7.1323\n",
      "KOZAL.IS 6.37\n",
      "ULKER.IS 3.45\n",
      "BJKAS.IS 2.94\n",
      "AKBNK.IS 1.85052\n",
      "TKFEN.IS 1.85\n",
      "CIMSA.IS 1.7974\n",
      "DOAS.IS 1.7132\n",
      "MGROS.IS 1.49\n",
      "GARAN.IS 1.387\n",
      "PETKM.IS 1.15236\n",
      "AEFES.IS 1.06\n",
      "VAKBN.IS 0.93154\n",
      "EREGL.IS 0.91318\n",
      "YKBNK.IS 0.87\n",
      "SISE.IS 0.81044\n",
      "ALARK.IS 0.77365\n",
      "TCELL.IS 0.68\n",
      "TRKCM.IS 0.42106\n",
      "VAKFN.IS 0.38851\n",
      "AKENR.IS 0.34\n",
      "ZOREN.IS 0.34\n",
      "GOODY.IS 0.04098\n",
      "HALKB.IS -0.02\n",
      "KARSN.IS -0.11\n",
      "AKSA.IS -0.28606\n",
      "AFYON.IS -0.39\n",
      "TMSN.IS -0.45\n",
      "THYAO.IS -0.84\n",
      "AFYON.ISoutKOZAL.ISin\n",
      "TMSN.ISoutULKER.ISin\n",
      "{'KOZAL.IS': 0.2, 'ULKER.IS': 0.2, 'BJKAS.IS': 0.2, 'FROTO.IS': 0.2, 'PETKM.IS': 0.2}\n",
      "Before Orders\n",
      "--------------------\n",
      "117236.85822\n",
      "                 cost  shares  current_price  market_value       profit  \\\n",
      "symbol                                                                    \n",
      "AFYON.IS  21803.76000    3685        6.15000   22662.75000    858.99000   \n",
      "BJKAS.IS  13804.56000    4648        5.17000   24030.16000  10225.60000   \n",
      "FROTO.IS  20484.82080     650       37.60000   24440.00000   3955.17920   \n",
      "PETKM.IS  20484.40879    6398        3.77889   24177.33822   3692.92943   \n",
      "TMSN.IS   27344.92000    2697        8.13000   21926.61000  -5418.31000   \n",
      "\n",
      "            weight  \n",
      "symbol              \n",
      "AFYON.IS  0.193307  \n",
      "BJKAS.IS  0.204971  \n",
      "FROTO.IS  0.208467  \n",
      "PETKM.IS  0.206226  \n",
      "TMSN.IS   0.187028  \n",
      " \n",
      "Orders\n",
      "--------------------\n",
      "  action  shares    symbol        time\n",
      "0   sell     112  BJKAS.IS  2016-04-29\n",
      "1    buy    1281  KOZAL.IS  2016-04-29\n",
      "2   sell      26  FROTO.IS  2016-04-29\n",
      "3    buy    1052  ULKER.IS  2016-04-29\n",
      "4   sell    3685  AFYON.IS  2016-04-29\n",
      "5   sell    2697   TMSN.IS  2016-04-29\n",
      "6   sell     193  PETKM.IS  2016-04-29\n",
      " \n",
      "46880.86\n",
      "46875.32577\n",
      "After Orders\n",
      "--------------------\n",
      "                 cost  shares  current_price  market_value      profit  \\\n",
      "symbol                                                                   \n",
      "AFYON.IS      0.00000       0        6.15000       0.00000     0.00000   \n",
      "BJKAS.IS  13471.92000    4536        5.17000   23451.12000  9979.20000   \n",
      "FROTO.IS  19667.75520     624       37.60000   23462.40000  3794.64480   \n",
      "KOZAL.IS  23442.30000    1281       18.30000   23442.30000     0.00000   \n",
      "PETKM.IS  19866.87827    6205        3.77889   23448.01245  3581.13418   \n",
      "TMSN.IS       0.00000       0        8.13000       0.00000     0.00000   \n",
      "ULKER.IS  23438.56000    1052       22.28000   23438.56000     0.00000   \n",
      "\n",
      "            weight  \n",
      "symbol              \n",
      "AFYON.IS  0.000000  \n",
      "BJKAS.IS  0.200023  \n",
      "FROTO.IS  0.200119  \n",
      "KOZAL.IS  0.199947  \n",
      "PETKM.IS  0.199996  \n",
      "TMSN.IS   0.000000  \n",
      "ULKER.IS  0.199915  \n",
      "117242.39245\n",
      " \n",
      "2016-05-31 00:00:00\n",
      "--------------------\n",
      "FROTO.IS 4.6484\n",
      "GOODY.IS 4.64283\n",
      "ULKER.IS 3.28\n",
      "TKFEN.IS 3.2\n",
      "CIMSA.IS 2.03478\n",
      "EREGL.IS 1.24341\n",
      "DOAS.IS 1.2062\n",
      "AKBNK.IS 1.20108\n",
      "KOZAL.IS 1.16\n",
      "PETKM.IS 1.10639\n",
      "BJKAS.IS 1.04\n",
      "YKBNK.IS 0.77\n",
      "ALARK.IS 0.60587\n",
      "VAKBN.IS 0.54504\n",
      "TCELL.IS 0.53\n",
      "GARAN.IS 0.446\n",
      "TRKCM.IS 0.44164\n",
      "SISE.IS 0.42748\n",
      "VAKFN.IS 0.38104\n",
      "AKENR.IS 0.14\n",
      "ZOREN.IS -0.07\n",
      "AEFES.IS -0.08\n",
      "AFYON.IS -0.23\n",
      "KARSN.IS -0.37\n",
      "MGROS.IS -0.48\n",
      "THYAO.IS -1.05\n",
      "TMSN.IS -1.17\n",
      "AKSA.IS -1.22878\n",
      "HALKB.IS -1.47\n",
      "{'KOZAL.IS': 0.2, 'BJKAS.IS': 0.2, 'ULKER.IS': 0.2, 'FROTO.IS': 0.2, 'PETKM.IS': 0.2}\n",
      "Before Orders\n",
      "--------------------\n",
      "100730.78005\n",
      "                 cost  shares  current_price  market_value      profit  \\\n",
      "symbol                                                                   \n",
      "AFYON.IS      0.00000       0        5.84000       0.00000     0.00000   \n",
      "BJKAS.IS  13471.92000    4536        3.22000   14605.92000  1134.00000   \n",
      "FROTO.IS  19667.75520     624       34.98000   21827.52000  2159.76480   \n",
      "KOZAL.IS  23442.30000    1281       13.74000   17600.94000 -5841.36000   \n",
      "PETKM.IS  19866.87827    6205        3.90761   24246.72005  4379.84178   \n",
      "TMSN.IS       0.00000       0        7.72000       0.00000     0.00000   \n",
      "ULKER.IS  23438.56000    1052       21.34000   22449.68000  -988.88000   \n",
      "\n",
      "            weight  \n",
      "symbol              \n",
      "AFYON.IS  0.000000  \n",
      "BJKAS.IS  0.145000  \n",
      "FROTO.IS  0.216692  \n",
      "KOZAL.IS  0.174732  \n",
      "PETKM.IS  0.240708  \n",
      "TMSN.IS   0.000000  \n",
      "ULKER.IS  0.222868  \n",
      " \n",
      "Orders\n",
      "--------------------\n",
      "  action  shares    symbol        time\n",
      "0    buy    1720  BJKAS.IS  2016-05-31\n",
      "1    buy     185  KOZAL.IS  2016-05-31\n",
      "2   sell      48  FROTO.IS  2016-05-31\n",
      "3   sell     107  ULKER.IS  2016-05-31\n",
      "4   sell    1049  PETKM.IS  2016-05-31\n",
      " \n",
      "8080.3\n",
      "8061.50289\n",
      "After Orders\n",
      "--------------------\n",
      "                 cost  shares  current_price  market_value      profit  \\\n",
      "symbol                                                                   \n",
      "AFYON.IS      0.00000       0        5.84000       0.00000     0.00000   \n",
      "BJKAS.IS  19010.32000    6256        3.22000   20144.32000  1134.00000   \n",
      "FROTO.IS  18159.32640     576       34.98000   20148.48000  1989.15360   \n",
      "KOZAL.IS  25984.20000    1466       13.74000   20142.84000 -5841.36000   \n",
      "PETKM.IS  16510.45591    5156        3.90761   20147.63716  3637.18125   \n",
      "TMSN.IS       0.00000       0        7.72000       0.00000     0.00000   \n",
      "ULKER.IS  21054.60000     945       21.34000   20166.30000  -888.30000   \n",
      "\n",
      "            weight  \n",
      "symbol              \n",
      "AFYON.IS  0.000000  \n",
      "BJKAS.IS  0.199944  \n",
      "FROTO.IS  0.199986  \n",
      "KOZAL.IS  0.199930  \n",
      "PETKM.IS  0.199977  \n",
      "TMSN.IS   0.000000  \n",
      "ULKER.IS  0.200163  \n",
      "100749.57716\n",
      " \n",
      "2016-06-30 00:00:00\n",
      "--------------------\n",
      "TKFEN.IS 4.16\n",
      "GOODY.IS 3.30205\n",
      "CIMSA.IS 2.115\n",
      "ULKER.IS 2.08\n",
      "EREGL.IS 1.23068\n",
      "AKBNK.IS 1.086\n",
      "DOAS.IS 1.0207\n",
      "VAKBN.IS 0.80396\n",
      "PETKM.IS 0.62036\n",
      "SISE.IS 0.5996\n",
      "AEFES.IS 0.59\n",
      "TRKCM.IS 0.58905\n",
      "KOZAL.IS 0.45\n",
      "BJKAS.IS 0.43\n",
      "MGROS.IS 0.37\n",
      "VAKFN.IS 0.33839\n",
      "GARAN.IS 0.289\n",
      "TCELL.IS 0.24\n",
      "FROTO.IS 0.2344\n",
      "YKBNK.IS 0.22\n",
      "ZOREN.IS 0.15\n",
      "AKENR.IS 0.04\n",
      "ALARK.IS -0.06358\n",
      "KARSN.IS -0.36\n",
      "AFYON.IS -0.43\n",
      "HALKB.IS -1.4\n",
      "THYAO.IS -1.5\n",
      "AKSA.IS -1.70033\n",
      "TMSN.IS -3.14\n",
      "{'KOZAL.IS': 0.2, 'BJKAS.IS': 0.2, 'ULKER.IS': 0.2, 'FROTO.IS': 0.2, 'PETKM.IS': 0.2}\n",
      "Before Orders\n",
      "--------------------\n",
      "97640.14\n",
      "                 cost  shares  current_price  market_value      profit  \\\n",
      "symbol                                                                   \n",
      "AFYON.IS      0.00000       0           5.46          0.00     0.00000   \n",
      "BJKAS.IS  19010.32000    6256           3.47      21708.32  2698.00000   \n",
      "FROTO.IS  18159.32640     576          30.60      17625.60  -533.72640   \n",
      "KOZAL.IS  25984.20000    1466          12.73      18662.18 -7322.02000   \n",
      "PETKM.IS  16510.45591    5156           3.84      19799.04  3288.58409   \n",
      "TMSN.IS       0.00000       0           7.40          0.00     0.00000   \n",
      "ULKER.IS  21054.60000     945          21.00      19845.00 -1209.60000   \n",
      "\n",
      "            weight  \n",
      "symbol              \n",
      "AFYON.IS  0.000000  \n",
      "BJKAS.IS  0.222330  \n",
      "FROTO.IS  0.180516  \n",
      "KOZAL.IS  0.191132  \n",
      "PETKM.IS  0.202776  \n",
      "TMSN.IS   0.000000  \n",
      "ULKER.IS  0.203246  \n",
      " \n",
      "Orders\n",
      "--------------------\n",
      "  action  shares    symbol        time\n",
      "0   sell     628  BJKAS.IS  2016-06-30\n",
      "1    buy      68  KOZAL.IS  2016-06-30\n",
      "2    buy      62  FROTO.IS  2016-06-30\n",
      "3   sell      15  ULKER.IS  2016-06-30\n",
      "4   sell      70  PETKM.IS  2016-06-30\n",
      " \n",
      "2762.84\n",
      "2762.96\n",
      "After Orders\n",
      "--------------------\n",
      "                 cost  shares  current_price  market_value      profit  \\\n",
      "symbol                                                                   \n",
      "AFYON.IS      0.00000       0           5.46          0.00     0.00000   \n",
      "BJKAS.IS  17145.16000    5628           3.47      19529.16  2384.00000   \n",
      "FROTO.IS  20056.52640     638          30.60      19522.80  -533.72640   \n",
      "KOZAL.IS  26849.84000    1534          12.73      19527.82 -7322.02000   \n",
      "PETKM.IS  16286.48111    5086           3.84      19530.24  3243.75889   \n",
      "TMSN.IS       0.00000       0           7.40          0.00     0.00000   \n",
      "ULKER.IS  20720.40000     930          21.00      19530.00 -1190.40000   \n",
      "\n",
      "            weight  \n",
      "symbol              \n",
      "AFYON.IS  0.000000  \n",
      "BJKAS.IS  0.200012  \n",
      "FROTO.IS  0.199947  \n",
      "KOZAL.IS  0.199998  \n",
      "PETKM.IS  0.200023  \n",
      "TMSN.IS   0.000000  \n",
      "ULKER.IS  0.200020  \n",
      "97640.02\n",
      " \n"
     ]
    }
   ],
   "source": [
    "portfolio, transactions, positions, trades = [], [], [], []\n",
    "\n",
    "for t in running_points:\n",
    "    time = t.strftime(\"%Y-%m-%d\")\n",
    "    \n",
    "    if t in pd.date_range(start=running_points[0], periods=12, freq='BM'):\n",
    "        print t\n",
    "        print '-'*20\n",
    "        momentum_values = momentum(prices, t - pd.DateOffset(months=5) - 1*BDay(), t - 1*BDay())\n",
    "        for s in sorted(momentum_values, key=momentum_values.get, reverse=True):\n",
    "            print s, momentum_values[s]\n",
    "            \n",
    "        n = 5    \n",
    "        \n",
    "        if len(portfolio) == 0:\n",
    "            new_weights = {s: 1./n for s in sorted(momentum_values, key=momentum_values.get, reverse=True)[:n]}\n",
    "            print new_weights\n",
    "            target_value = capital_base\n",
    "            rebalance_orders = rebalance(portfolio, new_weights, target_value, time)\n",
    "        else:\n",
    "            potentials = {key:value for key, value in momentum_values.iteritems() if key not in portfolio.index }\n",
    "            new_weights = {}\n",
    "            \n",
    "            for symbol in portfolio.index:\n",
    "                if portfolio[\"market_value\"].loc[symbol]:\n",
    "                    if momentum_values[symbol] < 0:\n",
    "                        s = sorted(potentials, key=potentials.get, reverse=True)[0]\n",
    "                        print symbol + \"out\" + s + \"in\"\n",
    "                        new_weights[s] = 1./n\n",
    "                        del potentials[s]\n",
    "                    else:\n",
    "                        new_weights[symbol] = 1./n\n",
    "              \n",
    "            current_performance(portfolio, time)\n",
    "            \n",
    "            print new_weights\n",
    "            rebalance_orders = rebalance(portfolio, new_weights, None, time)      \n",
    "        \n",
    "        print \"Before Orders\"\n",
    "        print \"-\"*20\n",
    "        print portfolio[\"market_value\"].sum() if len(portfolio) else 0\n",
    "        print portfolio\n",
    "        print \" \"\n",
    "        \n",
    "        print \"Orders\"\n",
    "        print \"-\"*20\n",
    "        print pd.DataFrame(rebalance_orders)\n",
    "        print \" \"\n",
    "        \n",
    "        print sum([order[\"shares\"]*get_price(order[\"symbol\"], time) for order in rebalance_orders if order[\"action\"]==\"buy\"])\n",
    "        print sum([order[\"shares\"]*get_price(order[\"symbol\"], time) for order in rebalance_orders if order[\"action\"]==\"sell\"])\n",
    "        \n",
    "        execute_orders(rebalance_orders, transactions, positions, trades)\n",
    "        portfolio = calculate_portfolio(positions)\n",
    "        current_performance(portfolio, time)\n",
    "        \n",
    "        print \"After Orders\"\n",
    "        print \"-\"*20 \n",
    "        print portfolio\n",
    "        print portfolio[\"market_value\"].sum()\n",
    "        print \" \"\n",
    "        \n",
    "portfolio = calculate_portfolio(positions)"
   ]
  },
  {
   "cell_type": "code",
   "execution_count": 56,
   "metadata": {
    "collapsed": false,
    "scrolled": true
   },
   "outputs": [
    {
     "name": "stdout",
     "output_type": "stream",
     "text": [
      "                          ***Transactions***                          \n",
      "----------------------------------------------------------------------\n",
      "   action  commision     price  shares    status    symbol        time\n",
      "0     buy   1.999944   5.91000    3384  accepted  AFYON.IS  2016-01-29\n",
      "1     buy   1.999852  10.52000    1901  accepted   TMSN.IS  2016-01-29\n",
      "2     buy   1.999998   2.97000    6734  accepted  BJKAS.IS  2016-01-29\n",
      "3     buy   1.998668  31.42560     636  accepted  FROTO.IS  2016-01-29\n",
      "4     buy   1.999775   3.19964    6250  accepted  PETKM.IS  2016-01-29\n",
      "5     buy   0.217074   5.98000     363  accepted  AFYON.IS  2016-02-29\n",
      "6    sell   0.910260   4.68000    1945  accepted  BJKAS.IS  2016-02-29\n",
      "7     buy   0.381420   9.78000     390  accepted   TMSN.IS  2016-02-29\n",
      "8     buy   0.078097  33.95520      23  accepted  FROTO.IS  2016-02-29\n",
      "9     buy   0.229446   3.21803     713  accepted  PETKM.IS  2016-02-29\n",
      "10   sell   0.039494   6.37000      62  accepted  AFYON.IS  2016-03-31\n",
      "11   sell   0.071205   5.05000     141  accepted  BJKAS.IS  2016-03-31\n",
      "12    buy   0.353220   8.70000     406  accepted   TMSN.IS  2016-03-31\n",
      "13   sell   0.032521  36.13460       9  accepted  FROTO.IS  2016-03-31\n",
      "14   sell   0.207274   3.66856     565  accepted  PETKM.IS  2016-03-31\n",
      "15   sell   0.057904   5.17000     112  accepted  BJKAS.IS  2016-04-29\n",
      "16    buy   2.344230  18.30000    1281  accepted  KOZAL.IS  2016-04-29\n",
      "17   sell   0.097760  37.60000      26  accepted  FROTO.IS  2016-04-29\n",
      "18    buy   2.343856  22.28000    1052  accepted  ULKER.IS  2016-04-29\n",
      "19   sell   2.266275   6.15000    3685  accepted  AFYON.IS  2016-04-29\n",
      "20   sell   2.192661   8.13000    2697  accepted   TMSN.IS  2016-04-29\n",
      "21   sell   0.072933   3.77889     193  accepted  PETKM.IS  2016-04-29\n",
      "22    buy   0.553840   3.22000    1720  accepted  BJKAS.IS  2016-05-31\n",
      "23    buy   0.254190  13.74000     185  accepted  KOZAL.IS  2016-05-31\n",
      "24   sell   0.167904  34.98000      48  accepted  FROTO.IS  2016-05-31\n",
      "25   sell   0.228338  21.34000     107  accepted  ULKER.IS  2016-05-31\n",
      "26   sell   0.409908   3.90761    1049  accepted  PETKM.IS  2016-05-31\n",
      "27   sell   0.217916   3.47000     628  accepted  BJKAS.IS  2016-06-30\n",
      "28    buy   0.086564  12.73000      68  accepted  KOZAL.IS  2016-06-30\n",
      "29    buy   0.189720  30.60000      62  accepted  FROTO.IS  2016-06-30\n",
      "30   sell   0.031500  21.00000      15  accepted  ULKER.IS  2016-06-30\n",
      "31   sell   0.026880   3.84000      70  accepted  PETKM.IS  2016-06-30\n",
      "\n",
      "                           ***Positions***                            \n",
      "----------------------------------------------------------------------\n",
      "           cost  initial_shares     price  shares    symbol        time  type\n",
      "0       0.00000            3384   5.91000       0  AFYON.IS  2016-01-29  long\n",
      "1       0.00000            1901  10.52000       0   TMSN.IS  2016-01-29  long\n",
      "2   11606.76000            6734   2.97000    3908  BJKAS.IS  2016-01-29  long\n",
      "3   17378.35680             636  31.42560     553  FROTO.IS  2016-01-29  long\n",
      "4   13992.02572            6250   3.19964    4373  PETKM.IS  2016-01-29  long\n",
      "5       0.00000             363   5.98000       0  AFYON.IS  2016-02-29  long\n",
      "6       0.00000             390   9.78000       0   TMSN.IS  2016-02-29  long\n",
      "7     780.96960              23  33.95520      23  FROTO.IS  2016-02-29  long\n",
      "8    2294.45539             713   3.21803     713  PETKM.IS  2016-02-29  long\n",
      "9       0.00000             406   8.70000       0   TMSN.IS  2016-03-31  long\n",
      "10  23442.30000            1281  18.30000    1281  KOZAL.IS  2016-04-29  long\n",
      "11  20720.40000            1052  22.28000     930  ULKER.IS  2016-04-29  long\n",
      "12   5538.40000            1720   3.22000    1720  BJKAS.IS  2016-05-31  long\n",
      "13   2541.90000             185  13.74000     185  KOZAL.IS  2016-05-31  long\n",
      "14    865.64000              68  12.73000      68  KOZAL.IS  2016-06-30  long\n",
      "15   1897.20000              62  30.60000      62  FROTO.IS  2016-06-30  long\n",
      "\n",
      "                             ***Trades***                             \n",
      "----------------------------------------------------------------------\n",
      "    buy_price      profit  sell_price  shares    symbol        time\n",
      "0     2.97000  3325.95000     4.68000    1945  BJKAS.IS  2016-02-29\n",
      "1     5.91000    28.52000     6.37000      62  AFYON.IS  2016-03-31\n",
      "2     2.97000   293.28000     5.05000     141  BJKAS.IS  2016-03-31\n",
      "3    31.42560    42.38100    36.13460       9  FROTO.IS  2016-03-31\n",
      "4     3.19964   264.93980     3.66856     565  PETKM.IS  2016-03-31\n",
      "5     2.97000   246.40000     5.17000     112  BJKAS.IS  2016-04-29\n",
      "6    31.42560   160.53440    37.60000      26  FROTO.IS  2016-04-29\n",
      "7     5.91000   797.28000     6.15000    3322  AFYON.IS  2016-04-29\n",
      "8     5.98000    61.71000     6.15000     363  AFYON.IS  2016-04-29\n",
      "9    10.52000 -4543.39000     8.13000    1901   TMSN.IS  2016-04-29\n",
      "10    9.78000  -643.50000     8.13000     390   TMSN.IS  2016-04-29\n",
      "11    8.70000  -231.42000     8.13000     406   TMSN.IS  2016-04-29\n",
      "12    3.19964   111.79525     3.77889     193  PETKM.IS  2016-04-29\n",
      "13   31.42560   170.61120    34.98000      48  FROTO.IS  2016-05-31\n",
      "14   22.28000  -100.58000    21.34000     107  ULKER.IS  2016-05-31\n",
      "15    3.19964   742.66053     3.90761    1049  PETKM.IS  2016-05-31\n",
      "16    2.97000   314.00000     3.47000     628  BJKAS.IS  2016-06-30\n",
      "17   22.28000   -19.20000    21.00000      15  ULKER.IS  2016-06-30\n",
      "18    3.19964    44.82520     3.84000      70  PETKM.IS  2016-06-30\n"
     ]
    }
   ],
   "source": [
    "summary(transactions, positions, trades)"
   ]
  },
  {
   "cell_type": "code",
   "execution_count": 57,
   "metadata": {
    "collapsed": false
   },
   "outputs": [
    {
     "data": {
      "text/html": [
       "<div>\n",
       "<table border=\"1\" class=\"dataframe\">\n",
       "  <thead>\n",
       "    <tr style=\"text-align: right;\">\n",
       "      <th></th>\n",
       "      <th>cost</th>\n",
       "      <th>shares</th>\n",
       "      <th>current_price</th>\n",
       "      <th>market_value</th>\n",
       "      <th>profit</th>\n",
       "      <th>weight</th>\n",
       "    </tr>\n",
       "    <tr>\n",
       "      <th>symbol</th>\n",
       "      <th></th>\n",
       "      <th></th>\n",
       "      <th></th>\n",
       "      <th></th>\n",
       "      <th></th>\n",
       "      <th></th>\n",
       "    </tr>\n",
       "  </thead>\n",
       "  <tbody>\n",
       "    <tr>\n",
       "      <th>AFYON.IS</th>\n",
       "      <td>0.00000</td>\n",
       "      <td>0</td>\n",
       "      <td>5.14</td>\n",
       "      <td>0.00</td>\n",
       "      <td>0.00000</td>\n",
       "      <td>0.000000</td>\n",
       "    </tr>\n",
       "    <tr>\n",
       "      <th>BJKAS.IS</th>\n",
       "      <td>17145.16000</td>\n",
       "      <td>5628</td>\n",
       "      <td>3.90</td>\n",
       "      <td>21949.20</td>\n",
       "      <td>4804.04000</td>\n",
       "      <td>0.222960</td>\n",
       "    </tr>\n",
       "    <tr>\n",
       "      <th>FROTO.IS</th>\n",
       "      <td>20056.52640</td>\n",
       "      <td>638</td>\n",
       "      <td>32.32</td>\n",
       "      <td>20620.16</td>\n",
       "      <td>563.63360</td>\n",
       "      <td>0.209459</td>\n",
       "    </tr>\n",
       "    <tr>\n",
       "      <th>KOZAL.IS</th>\n",
       "      <td>26849.84000</td>\n",
       "      <td>1534</td>\n",
       "      <td>10.63</td>\n",
       "      <td>16306.42</td>\n",
       "      <td>-10543.42000</td>\n",
       "      <td>0.165641</td>\n",
       "    </tr>\n",
       "    <tr>\n",
       "      <th>PETKM.IS</th>\n",
       "      <td>16286.48111</td>\n",
       "      <td>5086</td>\n",
       "      <td>3.94</td>\n",
       "      <td>20038.84</td>\n",
       "      <td>3752.35889</td>\n",
       "      <td>0.203554</td>\n",
       "    </tr>\n",
       "    <tr>\n",
       "      <th>TMSN.IS</th>\n",
       "      <td>0.00000</td>\n",
       "      <td>0</td>\n",
       "      <td>7.10</td>\n",
       "      <td>0.00</td>\n",
       "      <td>0.00000</td>\n",
       "      <td>0.000000</td>\n",
       "    </tr>\n",
       "    <tr>\n",
       "      <th>ULKER.IS</th>\n",
       "      <td>20720.40000</td>\n",
       "      <td>930</td>\n",
       "      <td>21.00</td>\n",
       "      <td>19530.00</td>\n",
       "      <td>-1190.40000</td>\n",
       "      <td>0.198386</td>\n",
       "    </tr>\n",
       "  </tbody>\n",
       "</table>\n",
       "</div>"
      ],
      "text/plain": [
       "                 cost  shares  current_price  market_value       profit  \\\n",
       "symbol                                                                    \n",
       "AFYON.IS      0.00000       0           5.14          0.00      0.00000   \n",
       "BJKAS.IS  17145.16000    5628           3.90      21949.20   4804.04000   \n",
       "FROTO.IS  20056.52640     638          32.32      20620.16    563.63360   \n",
       "KOZAL.IS  26849.84000    1534          10.63      16306.42 -10543.42000   \n",
       "PETKM.IS  16286.48111    5086           3.94      20038.84   3752.35889   \n",
       "TMSN.IS       0.00000       0           7.10          0.00      0.00000   \n",
       "ULKER.IS  20720.40000     930          21.00      19530.00  -1190.40000   \n",
       "\n",
       "            weight  \n",
       "symbol              \n",
       "AFYON.IS  0.000000  \n",
       "BJKAS.IS  0.222960  \n",
       "FROTO.IS  0.209459  \n",
       "KOZAL.IS  0.165641  \n",
       "PETKM.IS  0.203554  \n",
       "TMSN.IS   0.000000  \n",
       "ULKER.IS  0.198386  "
      ]
     },
     "execution_count": 57,
     "metadata": {},
     "output_type": "execute_result"
    }
   ],
   "source": [
    "current_performance(portfolio, time = '2016-07-18')\n",
    "portfolio "
   ]
  },
  {
   "cell_type": "code",
   "execution_count": 58,
   "metadata": {
    "collapsed": false
   },
   "outputs": [
    {
     "data": {
      "text/plain": [
       "98444.62"
      ]
     },
     "execution_count": 58,
     "metadata": {},
     "output_type": "execute_result"
    }
   ],
   "source": [
    "portfolio[\"market_value\"].sum()"
   ]
  },
  {
   "cell_type": "code",
   "execution_count": 59,
   "metadata": {
    "collapsed": false
   },
   "outputs": [
    {
     "data": {
      "text/html": [
       "<div>\n",
       "<table border=\"1\" class=\"dataframe\">\n",
       "  <thead>\n",
       "    <tr style=\"text-align: right;\">\n",
       "      <th></th>\n",
       "      <th>time</th>\n",
       "      <th>symbol</th>\n",
       "      <th>paid_dividend</th>\n",
       "    </tr>\n",
       "  </thead>\n",
       "  <tbody>\n",
       "    <tr>\n",
       "      <th>564</th>\n",
       "      <td>2016-04-04</td>\n",
       "      <td>FROTO.IS</td>\n",
       "      <td>650.00</td>\n",
       "    </tr>\n",
       "    <tr>\n",
       "      <th>1146</th>\n",
       "      <td>2016-06-27</td>\n",
       "      <td>PETKM.IS</td>\n",
       "      <td>1624.14</td>\n",
       "    </tr>\n",
       "  </tbody>\n",
       "</table>\n",
       "</div>"
      ],
      "text/plain": [
       "           time    symbol  paid_dividend\n",
       "564  2016-04-04  FROTO.IS         650.00\n",
       "1146 2016-06-27  PETKM.IS        1624.14"
      ]
     },
     "execution_count": 59,
     "metadata": {},
     "output_type": "execute_result"
    }
   ],
   "source": [
    "paid_dividends(transactions, Dividends)"
   ]
  },
  {
   "cell_type": "code",
   "execution_count": 60,
   "metadata": {
    "collapsed": false
   },
   "outputs": [
    {
     "name": "stdout",
     "output_type": "stream",
     "text": [
      "Algorithm performance: 13.1896335214\n",
      "Benchmark performance: 5.60699416203\n"
     ]
    },
    {
     "data": {
      "image/png": "[encoded data removed]",
      "text/plain": [
       "<matplotlib.figure.Figure at 0x7fc0b32dbe90>"
      ]
     },
     "metadata": {},
     "output_type": "display_data"
    }
   ],
   "source": [
    "temp = historical_performance(transactions, prices)\n",
    "compare_with_benchmark(temp)"
   ]
  },
  {
   "cell_type": "markdown",
   "metadata": {},
   "source": [
    "## IndexCalculation\n",
    "[TOC](#TableOfContents)\n",
    "\n",
    "We can withdraw / deposit money into the portfolio or while rebalancing some amount of free cash can left. In this kind of situations it is hard to calculate the performance of a portfolio. To overcome this situation one way is to calculate an index value and to calculate performance over this index value instead of market value."
   ]
  },
  {
   "cell_type": "code",
   "execution_count": 61,
   "metadata": {
    "collapsed": false
   },
   "outputs": [
    {
     "data": {
      "text/plain": [
       "Date\n",
       "2016-02-25    113231.4596\n",
       "2016-02-26    111634.3921\n",
       "2016-02-29    112051.4147\n",
       "2016-03-01    113060.0381\n",
       "2016-03-02    113371.5324\n",
       "dtype: float64"
      ]
     },
     "execution_count": 61,
     "metadata": {},
     "output_type": "execute_result"
    }
   ],
   "source": [
    "historical_performance(pd.DataFrame(transactions)[0:5].to_dict(\"records\"), prices)[\"2016-02-25\":\"2016-03-02\"]"
   ]
  },
  {
   "cell_type": "code",
   "execution_count": 62,
   "metadata": {
    "collapsed": false
   },
   "outputs": [
    {
     "data": {
      "text/plain": [
       "Date\n",
       "2016-02-25    113231.45960\n",
       "2016-02-26    111634.39210\n",
       "2016-02-29    112009.17969\n",
       "2016-03-01    112774.81843\n",
       "2016-03-02    112975.15510\n",
       "dtype: float64"
      ]
     },
     "execution_count": 62,
     "metadata": {},
     "output_type": "execute_result"
    }
   ],
   "source": [
    "historical_performance(transactions, prices)[\"2016-02-25\":\"2016-03-02\"]"
   ]
  },
  {
   "cell_type": "code",
   "execution_count": 63,
   "metadata": {
    "collapsed": false
   },
   "outputs": [
    {
     "data": {
      "text/html": [
       "<div>\n",
       "<table border=\"1\" class=\"dataframe\">\n",
       "  <thead>\n",
       "    <tr style=\"text-align: right;\">\n",
       "      <th>symbol</th>\n",
       "      <th>AFYON.IS</th>\n",
       "      <th>BJKAS.IS</th>\n",
       "      <th>FROTO.IS</th>\n",
       "      <th>KOZAL.IS</th>\n",
       "      <th>PETKM.IS</th>\n",
       "      <th>TMSN.IS</th>\n",
       "      <th>ULKER.IS</th>\n",
       "    </tr>\n",
       "    <tr>\n",
       "      <th>time</th>\n",
       "      <th></th>\n",
       "      <th></th>\n",
       "      <th></th>\n",
       "      <th></th>\n",
       "      <th></th>\n",
       "      <th></th>\n",
       "      <th></th>\n",
       "    </tr>\n",
       "  </thead>\n",
       "  <tbody>\n",
       "    <tr>\n",
       "      <th>2016-01-29</th>\n",
       "      <td>3384.0</td>\n",
       "      <td>6734.0</td>\n",
       "      <td>636.0</td>\n",
       "      <td>NaN</td>\n",
       "      <td>6250.0</td>\n",
       "      <td>1901.0</td>\n",
       "      <td>NaN</td>\n",
       "    </tr>\n",
       "    <tr>\n",
       "      <th>2016-02-29</th>\n",
       "      <td>363.0</td>\n",
       "      <td>1945.0</td>\n",
       "      <td>23.0</td>\n",
       "      <td>NaN</td>\n",
       "      <td>713.0</td>\n",
       "      <td>390.0</td>\n",
       "      <td>NaN</td>\n",
       "    </tr>\n",
       "    <tr>\n",
       "      <th>2016-03-31</th>\n",
       "      <td>62.0</td>\n",
       "      <td>141.0</td>\n",
       "      <td>9.0</td>\n",
       "      <td>NaN</td>\n",
       "      <td>565.0</td>\n",
       "      <td>406.0</td>\n",
       "      <td>NaN</td>\n",
       "    </tr>\n",
       "    <tr>\n",
       "      <th>2016-04-29</th>\n",
       "      <td>3685.0</td>\n",
       "      <td>112.0</td>\n",
       "      <td>26.0</td>\n",
       "      <td>1281.0</td>\n",
       "      <td>193.0</td>\n",
       "      <td>2697.0</td>\n",
       "      <td>1052.0</td>\n",
       "    </tr>\n",
       "    <tr>\n",
       "      <th>2016-05-31</th>\n",
       "      <td>NaN</td>\n",
       "      <td>1720.0</td>\n",
       "      <td>48.0</td>\n",
       "      <td>185.0</td>\n",
       "      <td>1049.0</td>\n",
       "      <td>NaN</td>\n",
       "      <td>107.0</td>\n",
       "    </tr>\n",
       "    <tr>\n",
       "      <th>2016-06-30</th>\n",
       "      <td>NaN</td>\n",
       "      <td>628.0</td>\n",
       "      <td>62.0</td>\n",
       "      <td>68.0</td>\n",
       "      <td>70.0</td>\n",
       "      <td>NaN</td>\n",
       "      <td>15.0</td>\n",
       "    </tr>\n",
       "  </tbody>\n",
       "</table>\n",
       "</div>"
      ],
      "text/plain": [
       "symbol      AFYON.IS  BJKAS.IS  FROTO.IS  KOZAL.IS  PETKM.IS  TMSN.IS  \\\n",
       "time                                                                    \n",
       "2016-01-29    3384.0    6734.0     636.0       NaN    6250.0   1901.0   \n",
       "2016-02-29     363.0    1945.0      23.0       NaN     713.0    390.0   \n",
       "2016-03-31      62.0     141.0       9.0       NaN     565.0    406.0   \n",
       "2016-04-29    3685.0     112.0      26.0    1281.0     193.0   2697.0   \n",
       "2016-05-31       NaN    1720.0      48.0     185.0    1049.0      NaN   \n",
       "2016-06-30       NaN     628.0      62.0      68.0      70.0      NaN   \n",
       "\n",
       "symbol      ULKER.IS  \n",
       "time                  \n",
       "2016-01-29       NaN  \n",
       "2016-02-29       NaN  \n",
       "2016-03-31       NaN  \n",
       "2016-04-29    1052.0  \n",
       "2016-05-31     107.0  \n",
       "2016-06-30      15.0  "
      ]
     },
     "execution_count": 63,
     "metadata": {},
     "output_type": "execute_result"
    }
   ],
   "source": [
    "pd.pivot_table(pd.DataFrame(transactions), values=\"shares\", index=\"time\", columns=\"symbol\")"
   ]
  },
  {
   "cell_type": "markdown",
   "metadata": {},
   "source": [
    "## RiskCalculation\n",
    "[TOC](#TableOfContents)"
   ]
  },
  {
   "cell_type": "markdown",
   "metadata": {},
   "source": [
    "### Value-at-Risk\n",
    "\n",
    "The value-at-risk is a measure of how much money can be lost for a period of time. Of course there is a (very small) probability that we can lost **all** our money. We can talk about the distrubition of the money that we can lost. For the value-at-risk we choose a probability say 99% and say that we will not loose money more then $ x $ with probability 99%. \n",
    "\n",
    "\n",
    "There can be different methods to *estimate* the *risk*:\n",
    "* Historical method:\n",
    "* The Variance-Covariance Method:\n",
    "* Simulation:\n",
    "\n",
    "\n",
    "One way of chosing a methods is to test against historical data which is called *backtesting*."
   ]
  },
  {
   "cell_type": "code",
   "execution_count": 64,
   "metadata": {
    "collapsed": true
   },
   "outputs": [],
   "source": [
    "from matplotlib.dates import AutoDateLocator\n",
    "from matplotlib.ticker import MultipleLocator"
   ]
  },
  {
   "cell_type": "code",
   "execution_count": 65,
   "metadata": {
    "collapsed": false
   },
   "outputs": [
    {
     "data": {
      "text/plain": [
       "-0.072105940035707305"
      ]
     },
     "execution_count": 65,
     "metadata": {},
     "output_type": "execute_result"
    },
    {
     "data": {
      "image/png": "[encoded data removed]",
      "text/plain": [
       "<matplotlib.figure.Figure at 0x7fc0b0be0910>"
      ]
     },
     "metadata": {},
     "output_type": "display_data"
    }
   ],
   "source": [
    "# Historical method\n",
    "returns = historical_performance(transactions, prices).pct_change().dropna()\n",
    "returns.hist(bins=50, figsize=(15,10))\n",
    "var_historic = returns.quantile(q = 0.01)\n",
    "var_historic"
   ]
  },
  {
   "cell_type": "code",
   "execution_count": 66,
   "metadata": {
    "collapsed": false
   },
   "outputs": [
    {
     "data": {
      "text/plain": [
       "-0.079391854933226536"
      ]
     },
     "execution_count": 66,
     "metadata": {},
     "output_type": "execute_result"
    }
   ],
   "source": [
    "# The Variance-Covariance Method\n",
    "mu = np.mean(returns)\n",
    "sigma = np.std(returns)\n",
    "var_parametric = st.norm.ppf(0.01) * sigma\n",
    "var_parametric"
   ]
  },
  {
   "cell_type": "code",
   "execution_count": 67,
   "metadata": {
    "collapsed": false
   },
   "outputs": [
    {
     "data": {
      "text/plain": [
       "-0.09693688460895461"
      ]
     },
     "execution_count": 67,
     "metadata": {},
     "output_type": "execute_result"
    }
   ],
   "source": [
    "# Monte Carlo Simulation\n",
    "\n",
    "samples = np.random.normal(mu, sigma, 100)\n",
    "var_montecarlo = np.percentile(samples, 0.01)\n",
    "var_montecarlo"
   ]
  },
  {
   "cell_type": "code",
   "execution_count": 68,
   "metadata": {
    "collapsed": false
   },
   "outputs": [
    {
     "data": {
      "image/png": "[encoded data removed]",
      "text/plain": [
       "<matplotlib.figure.Figure at 0x7fc0b0310e50>"
      ]
     },
     "metadata": {},
     "output_type": "display_data"
    }
   ],
   "source": [
    "ax = returns.plot(kind='bar', title =\"V comp\",figsize=(15,10),legend=True, fontsize=12)\n",
    "ax.set_xlabel(\"Hour\",fontsize=12)\n",
    "AutoDateLocator()\n",
    "loc = MultipleLocator(base=10.0)\n",
    "ax.xaxis.set_major_locator(loc)\n",
    "ax.set_ylabel(\"V\",fontsize=12)\n",
    "plt.axhline(y=var_historic, color='r', linestyle='-')\n",
    "plt.axhline(y=var_parametric, color='r', linestyle='-')\n",
    "plt.axhline(y=var_montecarlo, color='r', linestyle='-')\n",
    "plt.show()"
   ]
  },
  {
   "cell_type": "markdown",
   "metadata": {},
   "source": [
    "### Stress Testing"
   ]
  },
  {
   "cell_type": "markdown",
   "metadata": {},
   "source": [
    "### Risk Profile\n",
    "\n",
    "The risk profile is a way of categorizing portfolios according their risk. Risk profile of a portfolio depends on its *yearly volatility*. The yearly volatily is calculated by multiplying the standard deviation of weekly returns by square root of 52 (number of weeks in a year).\n",
    "\n",
    "Cutoff points for yearly volatility is: [0, 0.5, 2, 5, 10, 15, 25]"
   ]
  },
  {
   "cell_type": "code",
   "execution_count": 69,
   "metadata": {
    "collapsed": false
   },
   "outputs": [
    {
     "data": {
      "text/plain": [
       "<matplotlib.axes._subplots.AxesSubplot at 0x7fc0b029c5d0>"
      ]
     },
     "execution_count": 69,
     "metadata": {},
     "output_type": "execute_result"
    },
    {
     "data": {
      "image/png": "[encoded data removed]",
      "text/plain": [
       "<matplotlib.figure.Figure at 0x7fc0b0b794d0>"
      ]
     },
     "metadata": {},
     "output_type": "display_data"
    }
   ],
   "source": [
    "historical_performance(transactions, prices).pct_change().resample(\"W-MON\", label=\"left\" ,closed=\"left\").sum().plot()"
   ]
  },
  {
   "cell_type": "code",
   "execution_count": 70,
   "metadata": {
    "collapsed": false
   },
   "outputs": [
    {
     "data": {
      "text/plain": [
       "<matplotlib.axes._subplots.AxesSubplot at 0x7fc0aae3dfd0>"
      ]
     },
     "execution_count": 70,
     "metadata": {},
     "output_type": "execute_result"
    },
    {
     "data": {
      "image/png": "[encoded data removed]",
      "text/plain": [
       "<matplotlib.figure.Figure at 0x7fc0b11e0c50>"
      ]
     },
     "metadata": {},
     "output_type": "display_data"
    }
   ],
   "source": [
    "historical_performance(transactions, prices).pct_change().resample(\"W-MON\", label=\"left\" ,closed=\"left\").sum().cumsum().plot()"
   ]
  },
  {
   "cell_type": "code",
   "execution_count": 71,
   "metadata": {
    "collapsed": false
   },
   "outputs": [],
   "source": [
    "def calculate_risk_value(historical_prices):\n",
    "    return np.std((historical_prices.pct_change() + 1).resample(\"W-MON\", label=\"left\" ,closed=\"left\").prod() - 1) * sqrt(52)\n",
    "\n",
    "risk_value = calculate_risk_value(historical_performance(transactions, prices)) * 100"
   ]
  },
  {
   "cell_type": "code",
   "execution_count": 72,
   "metadata": {
    "collapsed": false
   },
   "outputs": [
    {
     "data": {
      "text/plain": [
       "7"
      ]
     },
     "execution_count": 72,
     "metadata": {},
     "output_type": "execute_result"
    }
   ],
   "source": [
    "from bisect import bisect\n",
    "RiskLevels = [0, 0.5, 2, 5, 10, 15, 25]\n",
    "bisect(RiskLevels, risk_value)"
   ]
  },
  {
   "cell_type": "markdown",
   "metadata": {},
   "source": [
    "## Visualization\n",
    "[TOC](#TableOfContents)"
   ]
  },
  {
   "cell_type": "code",
   "execution_count": 73,
   "metadata": {
    "collapsed": false
   },
   "outputs": [
    {
     "data": {
      "image/png": "[encoded data removed]",
      "text/plain": [
       "<matplotlib.figure.Figure at 0x7fc0aaf27f50>"
      ]
     },
     "metadata": {},
     "output_type": "display_data"
    }
   ],
   "source": [
    "#sparkline\n",
    "historical_prices = historical_performance(transactions, prices)\n",
    "weekly_returns = ((historical_prices.pct_change() + 1).resample(\"W-MON\", label=\"left\" ,closed=\"left\").prod() - 1)\n",
    "plt.plot(weekly_returns)\n",
    "plt.axis(\"off\");\n",
    "plt.savefig(\"trend.png\")"
   ]
  },
  {
   "cell_type": "markdown",
   "metadata": {},
   "source": [
    "## ToDo\n",
    "[TOC](#TableOfContents)\n",
    "\n",
    "###### Overview\n",
    "\n",
    "- Order lifecycle\n",
    "- Transaction and position\n",
    "- Strategies: Technical vs Fundemantal\n",
    "- Trading algorithms from interactive brokers\n",
    "\n",
    "###### Dividend and Split\n",
    "- Implied transactions\n",
    "\n",
    "###### Portfolio Calculation\n",
    "\n",
    "- plot stock prices annotated by dividend and splits\n",
    "- compute dividend and split automatically: \n",
    "    + get close prices (not adjusted)\n",
    "    + create split and dividend transactions?\n",
    "    + calculate event-adjusted share count\n",
    "    + calculate paid dividend\n",
    "\n",
    "###### Algorithm\n",
    "\n",
    "- blacklist for algorithms\n",
    "- parameter search\n",
    "\n",
    "###### Index Calculation\n",
    "- Overview\n",
    "- index normalization\n",
    "\n",
    "###### Risk Calculation\n",
    "- Value at Risk\n",
    "\n",
    "###### Misc\n",
    "- styling"
   ]
  }
 ],
 "metadata": {
  "kernelspec": {
   "display_name": "Python 2",
   "language": "python",
   "name": "python2"
  },
  "language_info": {
   "codemirror_mode": {
    "name": "ipython",
    "version": 2
   },
   "file_extension": ".py",
   "mimetype": "text/x-python",
   "name": "python",
   "nbconvert_exporter": "python",
   "pygments_lexer": "ipython2",
   "version": "2.7.10"
  }
 },
 "nbformat": 4,
 "nbformat_minor": 0
}
