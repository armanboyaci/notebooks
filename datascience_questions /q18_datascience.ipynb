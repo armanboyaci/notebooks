{
  "nbformat": 4,
  "nbformat_minor": 0,
  "metadata": {
    "colab": {
      "provenance": [],
      "authorship_tag": "ABX9TyNZGv+Q0pktz7N3O7US+T3b",
      "include_colab_link": true
    },
    "kernelspec": {
      "name": "python3",
      "display_name": "Python 3"
    },
    "language_info": {
      "name": "python"
    }
  },
  "cells": [
    {
      "cell_type": "markdown",
      "metadata": {
        "id": "view-in-github",
        "colab_type": "text"
      },
      "source": [
        "<a href=\"https://colab.research.google.com/github/armanboyaci/notebooks/blob/master/datascience_questions%20/q18_datascience.ipynb\" target=\"_parent\"><img src=\"https://colab.research.google.com/assets/colab-badge.svg\" alt=\"Open In Colab\"/></a>"
      ]
    },
    {
      "cell_type": "code",
      "execution_count": 1,
      "metadata": {
        "id": "QdXUdniJeixx"
      },
      "outputs": [],
      "source": [
        "import numpy as np\n",
        "from collections import Counter"
      ]
    },
    {
      "cell_type": "code",
      "source": [
        "def decide(first, second):\n",
        "  if first == \"H\" and second == \"T\":\n",
        "    return \"P1\"\n",
        "  elif first == \"T\" and second == \"H\":\n",
        "    return \"P2\""
      ],
      "metadata": {
        "id": "R8YpwNVwhDfN"
      },
      "execution_count": 2,
      "outputs": []
    },
    {
      "cell_type": "code",
      "source": [
        "samples = np.random.choice([\"H\", \"T\"], size=100, p=(0.1, 0.9))"
      ],
      "metadata": {
        "id": "1J5YnRWxetGd"
      },
      "execution_count": 3,
      "outputs": []
    },
    {
      "cell_type": "code",
      "source": [
        "results = [decide(first, second) for first, second in zip(samples[:-1], samples[1:])]"
      ],
      "metadata": {
        "id": "XBadzDNzfKl_"
      },
      "execution_count": 4,
      "outputs": []
    },
    {
      "cell_type": "code",
      "source": [
        "Counter(results).most_common()"
      ],
      "metadata": {
        "colab": {
          "base_uri": "https://localhost:8080/"
        },
        "id": "QM-OH_CFhPAY",
        "outputId": "39bbc7b8-f898-4957-d4cc-4c2a409dfdd3"
      },
      "execution_count": 5,
      "outputs": [
        {
          "output_type": "execute_result",
          "data": {
            "text/plain": [
              "[(None, 77), ('P2', 11), ('P1', 11)]"
            ]
          },
          "metadata": {},
          "execution_count": 5
        }
      ]
    },
    {
      "cell_type": "code",
      "source": [
        "first_winners = []\n",
        "\n",
        "for _ in range(10_000):\n",
        "  first = np.random.choice([\"H\", \"T\"], p=(0.3, 0.7))\n",
        "  while True:\n",
        "    second = np.random.choice([\"H\", \"T\"], p=(0.3, 0.7))\n",
        "    if winner:=decide(first, second):\n",
        "      first_winners.append(winner)\n",
        "      break\n",
        "    first = second"
      ],
      "metadata": {
        "id": "noa64TVjjOzK"
      },
      "execution_count": 21,
      "outputs": []
    },
    {
      "cell_type": "code",
      "source": [
        "Counter(first_winners).most_common()"
      ],
      "metadata": {
        "colab": {
          "base_uri": "https://localhost:8080/"
        },
        "id": "EYo7R5WOkdrC",
        "outputId": "2a8625ec-4c6c-45f4-f389-4f83858fbd91"
      },
      "execution_count": 22,
      "outputs": [
        {
          "output_type": "execute_result",
          "data": {
            "text/plain": [
              "[('P2', 7038), ('P1', 2962)]"
            ]
          },
          "metadata": {},
          "execution_count": 22
        }
      ]
    },
    {
      "cell_type": "code",
      "source": [],
      "metadata": {
        "id": "wt8s2MRPkhXM"
      },
      "execution_count": null,
      "outputs": []
    }
  ]
}