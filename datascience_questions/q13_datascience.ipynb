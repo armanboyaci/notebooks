{
 "cells": [
  {
   "cell_type": "markdown",
   "metadata": {},
   "source": [
    "# Question 13\n",
    "\n",
    "Say we have X ~ Uniform(0, 1) and Y ~ Uniform(0, 1). What is the expected value of the minimum of X and Y?"
   ]
  },
  {
   "cell_type": "markdown",
   "metadata": {},
   "source": [
    "Let $Z = \\min \\left( X, Y \\right)$ be a random variable with CDF $F_Z(z)$. The key observation is that $\\min \\left( X, Y \\right) > z$ if and only if both $X > z$ and $Y > z$. Then the CDF can be written as\n",
    "\n",
    "\\begin{align*}\n",
    "    \\text{Pr}(Z < z) &= \\text{Pr}( \\min \\left( X, Y \\right) < z ) \\\\\n",
    "    &= 1 - \\text{Pr}( \\min \\left( X, Y \\right) > z ) \\\\\n",
    "    &= 1 - \\text{Pr}( X > z, Y > z )\n",
    "\\end{align*}\n",
    "\n",
    "Since $X$ and $Y$ are independent, this can be decomposed as\n",
    "\n",
    "\\begin{align*}\n",
    "    1 - \\text{Pr}( X > z, Y > z ) = 1 - \\text{Pr}( X > z) \\text{Pr}( Y > z)\n",
    "\\end{align*}\n",
    "\n",
    "The probabilities above can be calculated as\n",
    "\n",
    "\\begin{align*}\n",
    "    \\text{Pr}( X > z) &= \\int_{z}^{1} \\mathcal{U}((0,1)) du \\\\\n",
    "    &= (1-z)\n",
    "\\end{align*}\n",
    "\n",
    "Then we have\n",
    "\n",
    "\\begin{align*}\n",
    "    F_Z(z) = \\text{Pr}(Z < z) = 1 - (1-z)^2\n",
    "\\end{align*}\n",
    "\n",
    "The associated pdf can be found as\n",
    "\n",
    "\\begin{align*}\n",
    "    \\frac{dF_Z(z)}{dz} &= p_Z(z) \\\\\n",
    "    &= 2 (1-z)\n",
    "\\end{align*}\n",
    "\n",
    "Then the expected value can be calculated as\n",
    "\n",
    "\\begin{align*}\n",
    "    \\mathbb{E}[Z] &= \\int_{0}^{1} z 2 (1-z) dz \\\\\n",
    "    &= 1 - \\frac{2}{3} \\\\\n",
    "    &= \\frac{1}{3}\n",
    "\\end{align*}"
   ]
  },
  {
   "cell_type": "markdown",
   "metadata": {},
   "source": []
  }
 ],
 "metadata": {
  "kernelspec": {
   "display_name": "Python 3",
   "language": "python",
   "name": "python3"
  },
  "language_info": {
   "name": "python",
   "version": "3.12.3"
  }
 },
 "nbformat": 4,
 "nbformat_minor": 2
}
