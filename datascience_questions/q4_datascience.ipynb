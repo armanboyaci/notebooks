{
  "cells": [
    {
      "cell_type": "markdown",
      "metadata": {
        "id": "iIXqv_x_Vi1D"
      },
      "source": [
        "# Question 4\n",
        "\n",
        "A coin was flipped 1000 times, and 550 times it showed up heads. Do you think the coin is biased? Why or why not?\n"
      ]
    },
    {
      "cell_type": "markdown",
      "metadata": {
        "id": "1WUmtsKiVi1E"
      },
      "source": [
        "Let $X$ be the random number of outcomes of a repeated coin toss with $1000$ flips. Then $X$ is a random variable with a Binomial distribution $X \\sim \\text{B}(1000; \\theta)$ where $\\theta$ is the probability of $\\text{Heads}$ in a single coin toss. Then the probability mass function (pmf) of $X$ is\n",
        "\n",
        "\\begin{align*}\n",
        "    p(X = k) = \\binom{N}{k} \\theta^{k} (1-\\theta)^{(N-k)}\n",
        "\\end{align*}\n",
        "\n",
        "If the parameter $\\theta$ is unknown, we can place a prior distribution $p(\\theta)$ over its value and use the Bayes' theorem to infer the distribution of $\\theta$ after we observe an outcome $k$ such that\n",
        "\n",
        "\\begin{align*}\n",
        "    p(\\theta|X=k) = \\frac{p(X=k|\\theta) p(\\theta)}{ \\int_{0}^{1} p(X=k|\\theta) p(\\theta) d\\theta }\n",
        "\\end{align*}"
      ]
    },
    {
      "cell_type": "markdown",
      "metadata": {
        "id": "6QZKG0p1Vi1E"
      },
      "source": [
        "A suitable choice for the prior distribution $p(\\theta)$ where $0 \\leq \\theta \\leq 1$ is the Beta distribution $\\mathcal{Be}(\\alpha, \\beta)$ where $\\alpha, \\beta > 0$ are shape parameters such that\n",
        "\n",
        "\\begin{align*}\n",
        "    p(\\theta) = \\frac{\\Gamma(\\alpha+\\beta)}{\\Gamma(\\alpha) \\Gamma(\\beta)} \\theta^{\\alpha-1} (1-\\theta)^{\\beta-1}\n",
        "\\end{align*}\n",
        "\n",
        "The Beta distribution is a conjugate distribution to Binomial distribution which means that the posterior density will also be a Beta distribution.\n",
        "\n",
        "The mean and variance of a Beta distribution is\n",
        "\n",
        "\\begin{align*}\n",
        "    \\mathbb{E}[\\theta] = \\frac{\\alpha}{\\alpha+\\beta}\n",
        "\\end{align*}\n",
        "\n",
        "\\begin{align*}\n",
        "    \\text{Var}[\\theta] = \\frac{\\alpha \\beta}{(\\alpha+\\beta)^2 (\\alpha+\\beta+1)}\n",
        "\\end{align*}\n",
        "\n",
        "The cumulative density function (CDF) of the Beta distribution can be found as\n",
        "\n",
        "\\begin{align*}\n",
        "    Pr(\\Theta < \\tau) = I_{\\tau}(\\alpha, \\beta) = \\int_{0}^{\\tau} \\frac{\\Gamma(\\alpha+\\beta)}{\\Gamma(\\alpha) \\Gamma(\\beta)} \\theta^{\\alpha-1} (1-\\theta)^{\\beta-1} d\\theta\n",
        "\\end{align*}\n",
        "\n",
        "where $\\Theta$ is a random variable with a Beta distribution and $0 \\leq \\tau \\leq 1$.\n",
        "\n",
        "The integral $I_{\\tau}(\\alpha, \\beta)$ is known as the regularised incomplete Beta function and its implementations are available in Python.\n",
        "\n",
        "Note that a Beta distribution with $\\alpha = 1$ and $\\beta = 1$ is equivalent to a uniform distribution in $(0, 1)$.\n",
        "\n",
        "Define the inverse normalisation constant of the Beta distribution as $b(\\alpha, \\beta)$ such that\n",
        "\n",
        "\\begin{align*}\n",
        "    b(\\alpha, \\beta) = \\frac{\\Gamma(\\alpha) \\Gamma(\\beta)}{\\Gamma(\\alpha+\\beta)}\n",
        "\\end{align*}\n",
        "\n",
        "Then the marginal distribution of the posterior density $p(\\theta | X=k)$ can be found as ([Beta-Binomial Distribution](https://en.wikipedia.org/wiki/Beta-binomial_distribution))\n",
        "\n",
        "\\begin{align*}\n",
        "    \\int_{0}^{1} p(X=k|\\theta) p(\\theta) d\\theta = \\binom{N}{k} \\frac{b(k+\\alpha, N-k+\\beta)}{b(\\alpha, \\beta)}\n",
        "\\end{align*}"
      ]
    },
    {
      "cell_type": "markdown",
      "metadata": {
        "id": "P04sV9F9Vi1E"
      },
      "source": [
        "Then the posterior can be found analytically as\n",
        "\n",
        "\\begin{align*}\n",
        "    p(\\theta|X=k) &= \\frac{\\displaystyle \\binom{N}{k} \\theta^{k} (1-\\theta)^{(N-k)} \\frac{1}{b(\\alpha, \\beta)} \\theta^{\\alpha-1} (1-\\theta)^{\\beta-1} }{\\displaystyle \\binom{N}{k} \\frac{b(k+\\alpha, N-k+\\beta)}{b(\\alpha, \\beta)} } \\\\\n",
        "    &= \\frac{1}{b(k+\\alpha, N-k+\\beta)} \\theta^{(k+\\alpha-1)} (1-\\theta)^{((N-k)+\\beta-1)}\n",
        "\\end{align*}\n",
        "\n",
        "Hence it is a Beta distribution with updated parameters $\\mathcal{Be}(k+\\alpha, N-k+\\beta)$."
      ]
    },
    {
      "cell_type": "markdown",
      "metadata": {
        "id": "aEfXzcwFVi1F"
      },
      "source": [
        "Given that $k=550$, set $\\alpha,\\beta = 1$ for a uniform prior. Then, the mean and variance of the posterior distribution over $\\theta$ are\n",
        "\n",
        "\\begin{align*}\n",
        "    \\mathbb{E}[\\theta] = \\frac{551}{551+451} = 0.55\n",
        "\\end{align*}\n",
        "\n",
        "\\begin{align*}\n",
        "    \\text{Var}[\\theta] = \\frac{551 * 451}{(551+451)^2 (551+451+1)} = 0.00025\n",
        "\\end{align*}\n",
        "\n",
        "Since the mean differs from $0.5$ and the variance is small, we can confidently say that the coin is biased.\n",
        "\n",
        "For some more details:\n",
        "\n",
        "The probability that $\\theta$ is smaller than $0.5$ is\n",
        "\n",
        "\\begin{align*}\n",
        "    Pr(\\theta < 0.5) = I_{0.5}(550 + 1, 450 + 1) = 0.0008\n",
        "\\end{align*}\n",
        "\n",
        "Let us construct a $3$ standard deviation interval around the mean value as\n",
        "\n",
        "\\begin{align*}\n",
        "    0.55 \\pm 3 * \\sqrt{0.00025} = (0.503, 0.597)\n",
        "\\end{align*}\n",
        "\n",
        "The probability that $\\theta$ lies in $(0.503, 0.597)$ can be found as\n",
        "\n",
        "\\begin{align*}\n",
        "    I_{0.597}(550 + 1, 450 + 1) - I_{0.503}(550 + 1, 450 + 1) = 0.997\n",
        "\\end{align*}"
      ]
    },
    {
      "cell_type": "code",
      "execution_count": 1,
      "metadata": {
        "id": "N5xKie90Vi1F"
      },
      "outputs": [],
      "source": [
        "import numpy as np\n",
        "from scipy.special import betainc\n",
        "\n",
        "import matplotlib.pyplot as plt"
      ]
    },
    {
      "cell_type": "code",
      "execution_count": null,
      "metadata": {
        "id": "oWFcL3IbVi1F"
      },
      "outputs": [],
      "source": [
        "x = np.linspace(start=0., stop=1., num=1000)\n",
        "cdf = betainc(551, 451, x)"
      ]
    },
    {
      "cell_type": "code",
      "execution_count": null,
      "metadata": {
        "id": "fnm3qZnbVi1F",
        "outputId": "015b64a5-83d2-4236-9301-84ed63d924a1"
      },
      "outputs": [
        {
          "data": {
            "text/plain": [
              "np.float64(0.9972634166265508)"
            ]
          },
          "execution_count": 23,
          "metadata": {},
          "output_type": "execute_result"
        }
      ],
      "source": [
        "betainc(551, 451, 0.597) - betainc(551, 451, 0.503)"
      ]
    },
    {
      "cell_type": "code",
      "execution_count": null,
      "metadata": {
        "id": "UMTk4StcVi1F",
        "outputId": "123d35b0-3a30-4ad7-bbfa-ef7e6b6d8c97"
      },
      "outputs": [
        {
          "data": {
            "image/png": "[encoded data removed]",
            "text/plain": [
              "<Figure size 800x500 with 1 Axes>"
            ]
          },
          "metadata": {},
          "output_type": "display_data"
        }
      ],
      "source": [
        "fig, ax = plt.subplots(figsize=(8,5))\n",
        "\n",
        "ax.plot(x, cdf)\n",
        "ax.grid(True)\n",
        "plt.show()"
      ]
    },
    {
      "cell_type": "code",
      "execution_count": null,
      "metadata": {
        "id": "exGlt444Vi1F",
        "outputId": "8708b5e1-7629-434f-d9ff-f5ed07e00b7b"
      },
      "outputs": [
        {
          "data": {
            "text/plain": [
              "np.float64(0.5016897930389186)"
            ]
          },
          "execution_count": 4,
          "metadata": {},
          "output_type": "execute_result"
        }
      ],
      "source": [
        "betainc(551, 451, 0.55) - betainc(551, 451, 0.45)"
      ]
    },
    {
      "cell_type": "code",
      "execution_count": null,
      "metadata": {
        "id": "HVfHm__jVi1F",
        "outputId": "31ea5c16-627a-487c-9152-731c4026852b"
      },
      "outputs": [
        {
          "data": {
            "text/plain": [
              "np.float64(1.1814793857036516e-10)"
            ]
          },
          "execution_count": 5,
          "metadata": {},
          "output_type": "execute_result"
        }
      ],
      "source": [
        "betainc(551, 451, 0.45)"
      ]
    },
    {
      "cell_type": "code",
      "execution_count": null,
      "metadata": {
        "id": "faeFSl3JVi1F"
      },
      "outputs": [],
      "source": []
    },
    {
      "cell_type": "code",
      "source": [],
      "metadata": {
        "id": "FhzM9wseVp3P"
      },
      "execution_count": null,
      "outputs": []
    },
    {
      "cell_type": "code",
      "source": [
        "n = 10_00\n",
        "obs = 550\n",
        "\n",
        "samples = np.random.binomial(n=n, p=0.5, size=1_000_000)\n",
        "ax = plt.hist(samples, bins=50);\n",
        "\n",
        "plt.axvline(obs, color=\"red\")\n",
        "\n",
        "x = np.sum(samples==obs) / len(samples)\n",
        "\n",
        "plt.title(f\"If we flip a fair coin {n} times, we expect to see {obs} successes {x}% of the time.\");"
      ],
      "metadata": {
        "id": "jVdWosBaVp5g",
        "outputId": "018a62ed-c928-428f-8bd2-98dcd63f2412",
        "colab": {
          "base_uri": "https://localhost:8080/",
          "height": 452
        }
      },
      "execution_count": 47,
      "outputs": [
        {
          "output_type": "display_data",
          "data": {
            "text/plain": [
              "<Figure size 640x480 with 1 Axes>"
            ],
            "image/png": "[encoded data removed]"
          },
          "metadata": {}
        }
      ]
    },
    {
      "cell_type": "code",
      "source": [],
      "metadata": {
        "id": "T5DzEem6VvuF",
        "outputId": "bd4a74fb-97df-4278-a7f3-fddc82564ef1",
        "colab": {
          "base_uri": "https://localhost:8080/"
        }
      },
      "execution_count": 19,
      "outputs": [
        {
          "output_type": "execute_result",
          "data": {
            "text/plain": [
              "0.00067"
            ]
          },
          "metadata": {},
          "execution_count": 19
        }
      ]
    },
    {
      "cell_type": "code",
      "source": [],
      "metadata": {
        "id": "TFzKxOoGWjwa"
      },
      "execution_count": null,
      "outputs": []
    }
  ],
  "metadata": {
    "kernelspec": {
      "display_name": ".venv",
      "language": "python",
      "name": "python3"
    },
    "language_info": {
      "codemirror_mode": {
        "name": "ipython",
        "version": 3
      },
      "file_extension": ".py",
      "mimetype": "text/x-python",
      "name": "python",
      "nbconvert_exporter": "python",
      "pygments_lexer": "ipython3",
      "version": "3.10.6"
    },
    "colab": {
      "provenance": []
    }
  },
  "nbformat": 4,
  "nbformat_minor": 0
}