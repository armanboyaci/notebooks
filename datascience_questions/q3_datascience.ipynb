{
 "cells": [
  {
   "cell_type": "markdown",
   "metadata": {},
   "source": [
    "# Question 3:\n",
    "\n",
    "How would you design a metric to compare rankings of lists of shows for a given user?"
   ]
  },
  {
   "cell_type": "code",
   "execution_count": 1,
   "metadata": {},
   "outputs": [],
   "source": [
    "import numpy as np"
   ]
  },
  {
   "cell_type": "code",
   "execution_count": 2,
   "metadata": {},
   "outputs": [],
   "source": [
    "list_of_shows = ['Lost', 'Avrupa Yakasi', 'Battlestar Galactica', 'Kizilcik Serbeti']\n",
    "user1_rankings = [8., 7.5, 9.5, 1.0]\n",
    "user1_rankings = {list_of_shows[i]:user1_rankings[i]  for i in range(len(list_of_shows))}\n",
    "\n",
    "user2_rankings = [7.5, 6.5, 9.0, 4.0]\n",
    "user2_rankings = {list_of_shows[i]:user2_rankings[i]  for i in range(len(list_of_shows))}"
   ]
  },
  {
   "cell_type": "code",
   "execution_count": 12,
   "metadata": {},
   "outputs": [],
   "source": [
    "list_of_shows_extended = ['Lost', 'Avrupa Yakasi', 'Battlestar Galactica', 'Kizilcik Serbeti', 'Ertugrul', 'Prison Break']\n",
    "user3_rankings = [6.0, 4.5, 5.5, 3.0, 9.5, 7.5]\n",
    "user3_rankings = {list_of_shows_extended[i]:user3_rankings[i]  for i in range(len(list_of_shows_extended))}"
   ]
  },
  {
   "cell_type": "code",
   "execution_count": 10,
   "metadata": {},
   "outputs": [],
   "source": [
    "def compare_rankings(user1_rankings, user2_rankings):\n",
    "    def simple_metric(ranking1, ranking2):\n",
    "        return (ranking1-ranking2)**2\n",
    "    \n",
    "    intersecting_shows = set(user1_rankings.keys()).intersection(set(user2_rankings.keys()))\n",
    "    length_match = len(intersecting_shows)\n",
    "    ranking_comparisons = [simple_metric(user1_rankings[key], user2_rankings[key])  for key in list(intersecting_shows)]\n",
    "    return np.array(ranking_comparisons).mean()"
   ]
  },
  {
   "cell_type": "code",
   "execution_count": 11,
   "metadata": {},
   "outputs": [
    {
     "data": {
      "text/plain": [
       "np.float64(2.625)"
      ]
     },
     "execution_count": 11,
     "metadata": {},
     "output_type": "execute_result"
    }
   ],
   "source": [
    "compare_rankings(user1_rankings, user2_rankings)"
   ]
  },
  {
   "cell_type": "code",
   "execution_count": 13,
   "metadata": {},
   "outputs": [
    {
     "data": {
      "text/plain": [
       "np.float64(8.25)"
      ]
     },
     "execution_count": 13,
     "metadata": {},
     "output_type": "execute_result"
    }
   ],
   "source": [
    "compare_rankings(user1_rankings, user3_rankings)"
   ]
  },
  {
   "cell_type": "code",
   "execution_count": 14,
   "metadata": {},
   "outputs": [
    {
     "data": {
      "text/plain": [
       "np.float64(4.875)"
      ]
     },
     "execution_count": 14,
     "metadata": {},
     "output_type": "execute_result"
    }
   ],
   "source": [
    "compare_rankings(user2_rankings, user3_rankings)"
   ]
  },
  {
   "cell_type": "code",
   "execution_count": null,
   "metadata": {},
   "outputs": [],
   "source": []
  }
 ],
 "metadata": {
  "kernelspec": {
   "display_name": ".venv",
   "language": "python",
   "name": "python3"
  },
  "language_info": {
   "codemirror_mode": {
    "name": "ipython",
    "version": 3
   },
   "file_extension": ".py",
   "mimetype": "text/x-python",
   "name": "python",
   "nbconvert_exporter": "python",
   "pygments_lexer": "ipython3",
   "version": "3.10.6"
  }
 },
 "nbformat": 4,
 "nbformat_minor": 2
}
